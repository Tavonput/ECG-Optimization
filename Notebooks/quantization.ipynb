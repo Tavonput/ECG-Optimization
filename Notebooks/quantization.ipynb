{
 "cells": [
  {
   "cell_type": "code",
   "execution_count": null,
   "metadata": {},
   "outputs": [],
   "source": [
    "import sys\n",
    "sys.path.append(\"../\")\n",
    "\n",
    "import torch\n",
    "from torchvision.transforms import Resize\n",
    "\n",
    "import Quantization.explicit_quant as quantize\n",
    "\n",
    "from Dataset.dataset import build_dataloader\n",
    "from Utils.model_loading import *\n",
    "from Utils.classification import evaluate, finetune\n",
    "\n",
    "device = torch.device(\"cuda:0\" if torch.cuda.is_available() else \"cpu\")\n",
    "print(f\"Using {device}\")\n",
    "\n",
    "# Initialize quantization\n",
    "quantize.quant_initialize()\n",
    "\n",
    "# Load model\n",
    "model = load_vgg_custom_from_pruned(\"../Pretrained/VGG-Pruned/vgg16_bn_custom_ecg_ep30_i152_p0.8.pth\", 0.8, torch.rand((1, 3, 152, 152)))\n",
    "model.to(device)\n",
    "\n",
    "image_size = 152\n",
    "dataloader = build_dataloader(\n",
    "    train_path = \"Data/mitbih_mif_train_small.h5\",\n",
    "    test_path  = \"Data/mitbih_mif_test.h5\",\n",
    "    batch_size = 32,\n",
    "    transform  = Resize((image_size, image_size), antialias=None)\n",
    ")\n",
    "\n",
    "# Calibrate \n",
    "quantize.calibrate(model=model, dataloader=dataloader[\"train\"], num_batches=100)\n",
    "accuracy = evaluate(model, dataloader[\"test\"])\n",
    "print(f\"Accuracy: {accuracy}\")\n",
    "\n",
    "# QAT\n",
    "finetune(\n",
    "    model      = model,\n",
    "    epochs     = 10,\n",
    "    dataloader = dataloader,\n",
    "    save_path  = \"Quantization/Test/quant_vgg_test.pth\",\n",
    ")\n",
    "\n",
    "# ONNX export\n",
    "quantize.export_to_onnx(model, image_size, 1, \"Quantization/Test/quant_vgg_test.onnx\")"
   ]
  }
 ],
 "metadata": {
  "kernelspec": {
   "display_name": "machine_learning",
   "language": "python",
   "name": "python3"
  },
  "language_info": {
   "codemirror_mode": {
    "name": "ipython",
    "version": 3
   },
   "file_extension": ".py",
   "mimetype": "text/x-python",
   "name": "python",
   "nbconvert_exporter": "python",
   "pygments_lexer": "ipython3",
   "version": "3.12.4"
  }
 },
 "nbformat": 4,
 "nbformat_minor": 2
}
