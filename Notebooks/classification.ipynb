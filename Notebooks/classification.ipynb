{
 "cells": [
  {
   "cell_type": "markdown",
   "metadata": {},
   "source": [
    "# Setup"
   ]
  },
  {
   "cell_type": "code",
   "execution_count": 1,
   "metadata": {},
   "outputs": [
    {
     "name": "stderr",
     "output_type": "stream",
     "text": [
      "d:\\Anaconda3\\envs\\machine_learning\\lib\\site-packages\\tqdm\\auto.py:21: TqdmWarning: IProgress not found. Please update jupyter and ipywidgets. See https://ipywidgets.readthedocs.io/en/stable/user_install.html\n",
      "  from .autonotebook import tqdm as notebook_tqdm\n"
     ]
    },
    {
     "name": "stdout",
     "output_type": "stream",
     "text": [
      "Using cuda:0\n"
     ]
    },
    {
     "data": {
      "text/plain": [
       "<torch._C.Generator at 0x1f0732cd330>"
      ]
     },
     "execution_count": 1,
     "metadata": {},
     "output_type": "execute_result"
    }
   ],
   "source": [
    "import sys\n",
    "sys.path.append(\"../\")\n",
    "\n",
    "import random\n",
    "import copy\n",
    "import os\n",
    "from collections import namedtuple\n",
    "\n",
    "import torch\n",
    "import torch.nn as nn\n",
    "\n",
    "from torchvision.models import *\n",
    "from torchvision.transforms import *\n",
    "from torch.utils.data import DataLoader\n",
    "from torch.optim import *\n",
    "from torch.optim.lr_scheduler import *\n",
    "\n",
    "import numpy as np\n",
    "import matplotlib.pyplot as plt\n",
    "from tqdm.auto import tqdm\n",
    "\n",
    "from Dataset.dataset import *\n",
    "from Dataset.data_generation import ArrhythmiaLabels\n",
    "from Utils.classification import *\n",
    "from Utils.model_loading import *\n",
    "\n",
    "device = torch.device(\"cuda:0\" if torch.cuda.is_available() else \"cpu\")\n",
    "print(f\"Using {device}\")\n",
    "\n",
    "random.seed(0)\n",
    "np.random.seed(0)\n",
    "torch.manual_seed(0)"
   ]
  },
  {
   "cell_type": "markdown",
   "metadata": {},
   "source": [
    "# Training Different Models\n",
    "\n",
    "- IMPORTANT: Replace the output layer correctly before training or face suffering"
   ]
  },
  {
   "cell_type": "code",
   "execution_count": 2,
   "metadata": {},
   "outputs": [],
   "source": [
    "image_size = 224\n",
    "dataloader = build_dataloader(\n",
    "    train_path = \"Data/mitbih_mif_train_small.h5\",\n",
    "    test_path  = \"Data/mitbih_mif_test.h5\",\n",
    "    batch_size = 32,\n",
    "    transform  = Resize((image_size, image_size), antialias=None)\n",
    ")\n",
    "\n",
    "# visualize_ecg_data(dataloader[\"train\"])"
   ]
  },
  {
   "cell_type": "code",
   "execution_count": 3,
   "metadata": {},
   "outputs": [
    {
     "name": "stdout",
     "output_type": "stream",
     "text": [
      "Finetuning\n"
     ]
    },
    {
     "name": "stderr",
     "output_type": "stream",
     "text": [
      "                                                        \r"
     ]
    },
    {
     "name": "stdout",
     "output_type": "stream",
     "text": [
      "Epoch 1 Accuracy 97.36% / Best Accuracy: 97.36%\n"
     ]
    },
    {
     "name": "stderr",
     "output_type": "stream",
     "text": [
      "                                                        \r"
     ]
    },
    {
     "name": "stdout",
     "output_type": "stream",
     "text": [
      "Epoch 2 Accuracy 95.74% / Best Accuracy: 97.36%\n"
     ]
    },
    {
     "name": "stderr",
     "output_type": "stream",
     "text": [
      "                                                        \r"
     ]
    },
    {
     "name": "stdout",
     "output_type": "stream",
     "text": [
      "Epoch 3 Accuracy 97.03% / Best Accuracy: 97.36%\n"
     ]
    },
    {
     "name": "stderr",
     "output_type": "stream",
     "text": [
      "                                                        \r"
     ]
    },
    {
     "name": "stdout",
     "output_type": "stream",
     "text": [
      "Epoch 4 Accuracy 97.83% / Best Accuracy: 97.83%\n"
     ]
    },
    {
     "name": "stderr",
     "output_type": "stream",
     "text": [
      "                                                        \r"
     ]
    },
    {
     "name": "stdout",
     "output_type": "stream",
     "text": [
      "Epoch 5 Accuracy 97.31% / Best Accuracy: 97.83%\n"
     ]
    },
    {
     "name": "stderr",
     "output_type": "stream",
     "text": [
      "                                                        \r"
     ]
    },
    {
     "name": "stdout",
     "output_type": "stream",
     "text": [
      "Epoch 6 Accuracy 98.09% / Best Accuracy: 98.09%\n"
     ]
    },
    {
     "name": "stderr",
     "output_type": "stream",
     "text": [
      "                                                        \r"
     ]
    },
    {
     "name": "stdout",
     "output_type": "stream",
     "text": [
      "Epoch 7 Accuracy 98.11% / Best Accuracy: 98.11%\n"
     ]
    },
    {
     "name": "stderr",
     "output_type": "stream",
     "text": [
      "                                                        \r"
     ]
    },
    {
     "name": "stdout",
     "output_type": "stream",
     "text": [
      "Epoch 8 Accuracy 97.35% / Best Accuracy: 98.11%\n"
     ]
    },
    {
     "name": "stderr",
     "output_type": "stream",
     "text": [
      "                                                        \r"
     ]
    },
    {
     "name": "stdout",
     "output_type": "stream",
     "text": [
      "Epoch 9 Accuracy 97.55% / Best Accuracy: 98.11%\n"
     ]
    },
    {
     "name": "stderr",
     "output_type": "stream",
     "text": [
      "                                                        \r"
     ]
    },
    {
     "name": "stdout",
     "output_type": "stream",
     "text": [
      "Epoch 10 Accuracy 97.35% / Best Accuracy: 98.11%\n"
     ]
    },
    {
     "name": "stderr",
     "output_type": "stream",
     "text": [
      "                                                        \r"
     ]
    },
    {
     "name": "stdout",
     "output_type": "stream",
     "text": [
      "Epoch 11 Accuracy 98.31% / Best Accuracy: 98.31%\n"
     ]
    },
    {
     "name": "stderr",
     "output_type": "stream",
     "text": [
      "                                                        \r"
     ]
    },
    {
     "name": "stdout",
     "output_type": "stream",
     "text": [
      "Epoch 12 Accuracy 98.61% / Best Accuracy: 98.61%\n"
     ]
    },
    {
     "name": "stderr",
     "output_type": "stream",
     "text": [
      "                                                        \r"
     ]
    },
    {
     "name": "stdout",
     "output_type": "stream",
     "text": [
      "Epoch 13 Accuracy 96.06% / Best Accuracy: 98.61%\n"
     ]
    },
    {
     "name": "stderr",
     "output_type": "stream",
     "text": [
      "                                                        \r"
     ]
    },
    {
     "name": "stdout",
     "output_type": "stream",
     "text": [
      "Epoch 14 Accuracy 98.14% / Best Accuracy: 98.61%\n"
     ]
    },
    {
     "name": "stderr",
     "output_type": "stream",
     "text": [
      "                                                        \r"
     ]
    },
    {
     "name": "stdout",
     "output_type": "stream",
     "text": [
      "Epoch 15 Accuracy 98.31% / Best Accuracy: 98.61%\n"
     ]
    },
    {
     "name": "stderr",
     "output_type": "stream",
     "text": [
      "                                                        \r"
     ]
    },
    {
     "name": "stdout",
     "output_type": "stream",
     "text": [
      "Epoch 16 Accuracy 98.31% / Best Accuracy: 98.61%\n"
     ]
    },
    {
     "name": "stderr",
     "output_type": "stream",
     "text": [
      "                                                        \r"
     ]
    },
    {
     "name": "stdout",
     "output_type": "stream",
     "text": [
      "Epoch 17 Accuracy 98.39% / Best Accuracy: 98.61%\n"
     ]
    },
    {
     "name": "stderr",
     "output_type": "stream",
     "text": [
      "                                                        \r"
     ]
    },
    {
     "name": "stdout",
     "output_type": "stream",
     "text": [
      "Epoch 18 Accuracy 98.43% / Best Accuracy: 98.61%\n"
     ]
    },
    {
     "name": "stderr",
     "output_type": "stream",
     "text": [
      "                                                        \r"
     ]
    },
    {
     "name": "stdout",
     "output_type": "stream",
     "text": [
      "Epoch 19 Accuracy 98.33% / Best Accuracy: 98.61%\n"
     ]
    },
    {
     "name": "stderr",
     "output_type": "stream",
     "text": [
      "                                                        \r"
     ]
    },
    {
     "name": "stdout",
     "output_type": "stream",
     "text": [
      "Epoch 20 Accuracy 98.53% / Best Accuracy: 98.61%\n"
     ]
    },
    {
     "name": "stderr",
     "output_type": "stream",
     "text": [
      "                                                        \r"
     ]
    },
    {
     "name": "stdout",
     "output_type": "stream",
     "text": [
      "Epoch 21 Accuracy 98.20% / Best Accuracy: 98.61%\n"
     ]
    },
    {
     "name": "stderr",
     "output_type": "stream",
     "text": [
      "                                                        \r"
     ]
    },
    {
     "name": "stdout",
     "output_type": "stream",
     "text": [
      "Epoch 22 Accuracy 98.39% / Best Accuracy: 98.61%\n"
     ]
    },
    {
     "name": "stderr",
     "output_type": "stream",
     "text": [
      "                                                        \r"
     ]
    },
    {
     "name": "stdout",
     "output_type": "stream",
     "text": [
      "Epoch 23 Accuracy 98.41% / Best Accuracy: 98.61%\n"
     ]
    },
    {
     "name": "stderr",
     "output_type": "stream",
     "text": [
      "                                                        \r"
     ]
    },
    {
     "name": "stdout",
     "output_type": "stream",
     "text": [
      "Epoch 24 Accuracy 98.31% / Best Accuracy: 98.61%\n"
     ]
    },
    {
     "name": "stderr",
     "output_type": "stream",
     "text": [
      "                                                        \r"
     ]
    },
    {
     "name": "stdout",
     "output_type": "stream",
     "text": [
      "Epoch 25 Accuracy 97.94% / Best Accuracy: 98.61%\n"
     ]
    },
    {
     "name": "stderr",
     "output_type": "stream",
     "text": [
      "                                                        \r"
     ]
    },
    {
     "name": "stdout",
     "output_type": "stream",
     "text": [
      "Epoch 26 Accuracy 96.18% / Best Accuracy: 98.61%\n"
     ]
    },
    {
     "name": "stderr",
     "output_type": "stream",
     "text": [
      "                                                        \r"
     ]
    },
    {
     "name": "stdout",
     "output_type": "stream",
     "text": [
      "Epoch 27 Accuracy 98.40% / Best Accuracy: 98.61%\n"
     ]
    },
    {
     "name": "stderr",
     "output_type": "stream",
     "text": [
      "                                                        \r"
     ]
    },
    {
     "name": "stdout",
     "output_type": "stream",
     "text": [
      "Epoch 28 Accuracy 98.10% / Best Accuracy: 98.61%\n"
     ]
    },
    {
     "name": "stderr",
     "output_type": "stream",
     "text": [
      "                                                        \r"
     ]
    },
    {
     "name": "stdout",
     "output_type": "stream",
     "text": [
      "Epoch 29 Accuracy 98.59% / Best Accuracy: 98.61%\n"
     ]
    },
    {
     "name": "stderr",
     "output_type": "stream",
     "text": [
      "                                                        \r"
     ]
    },
    {
     "name": "stdout",
     "output_type": "stream",
     "text": [
      "Epoch 30 Accuracy 98.55% / Best Accuracy: 98.61%\n"
     ]
    },
    {
     "name": "stderr",
     "output_type": "stream",
     "text": [
      "                                                        \r"
     ]
    },
    {
     "name": "stdout",
     "output_type": "stream",
     "text": [
      "Epoch 31 Accuracy 98.54% / Best Accuracy: 98.61%\n"
     ]
    },
    {
     "name": "stderr",
     "output_type": "stream",
     "text": [
      "                                                        \r"
     ]
    },
    {
     "name": "stdout",
     "output_type": "stream",
     "text": [
      "Epoch 32 Accuracy 98.47% / Best Accuracy: 98.61%\n"
     ]
    },
    {
     "name": "stderr",
     "output_type": "stream",
     "text": [
      "                                                        \r"
     ]
    },
    {
     "name": "stdout",
     "output_type": "stream",
     "text": [
      "Epoch 33 Accuracy 98.41% / Best Accuracy: 98.61%\n"
     ]
    },
    {
     "name": "stderr",
     "output_type": "stream",
     "text": [
      "                                                        \r"
     ]
    },
    {
     "name": "stdout",
     "output_type": "stream",
     "text": [
      "Epoch 34 Accuracy 98.41% / Best Accuracy: 98.61%\n"
     ]
    },
    {
     "name": "stderr",
     "output_type": "stream",
     "text": [
      "                                                        \r"
     ]
    },
    {
     "name": "stdout",
     "output_type": "stream",
     "text": [
      "Epoch 35 Accuracy 98.41% / Best Accuracy: 98.61%\n"
     ]
    },
    {
     "name": "stderr",
     "output_type": "stream",
     "text": [
      "                                                        \r"
     ]
    },
    {
     "name": "stdout",
     "output_type": "stream",
     "text": [
      "Epoch 36 Accuracy 98.39% / Best Accuracy: 98.61%\n"
     ]
    },
    {
     "name": "stderr",
     "output_type": "stream",
     "text": [
      "                                                        \r"
     ]
    },
    {
     "name": "stdout",
     "output_type": "stream",
     "text": [
      "Epoch 37 Accuracy 98.33% / Best Accuracy: 98.61%\n"
     ]
    },
    {
     "name": "stderr",
     "output_type": "stream",
     "text": [
      "                                                        \r"
     ]
    },
    {
     "name": "stdout",
     "output_type": "stream",
     "text": [
      "Epoch 38 Accuracy 98.30% / Best Accuracy: 98.61%\n"
     ]
    },
    {
     "name": "stderr",
     "output_type": "stream",
     "text": [
      "                                                        \r"
     ]
    },
    {
     "name": "stdout",
     "output_type": "stream",
     "text": [
      "Epoch 39 Accuracy 97.40% / Best Accuracy: 98.61%\n"
     ]
    },
    {
     "name": "stderr",
     "output_type": "stream",
     "text": [
      "                                                        \r"
     ]
    },
    {
     "name": "stdout",
     "output_type": "stream",
     "text": [
      "Epoch 40 Accuracy 98.40% / Best Accuracy: 98.61%\n"
     ]
    },
    {
     "name": "stderr",
     "output_type": "stream",
     "text": [
      "                                                        \r"
     ]
    },
    {
     "name": "stdout",
     "output_type": "stream",
     "text": [
      "Epoch 41 Accuracy 98.55% / Best Accuracy: 98.61%\n"
     ]
    },
    {
     "name": "stderr",
     "output_type": "stream",
     "text": [
      "                                                        \r"
     ]
    },
    {
     "name": "stdout",
     "output_type": "stream",
     "text": [
      "Epoch 42 Accuracy 98.47% / Best Accuracy: 98.61%\n"
     ]
    },
    {
     "name": "stderr",
     "output_type": "stream",
     "text": [
      "                                                        \r"
     ]
    },
    {
     "name": "stdout",
     "output_type": "stream",
     "text": [
      "Epoch 43 Accuracy 98.42% / Best Accuracy: 98.61%\n"
     ]
    },
    {
     "name": "stderr",
     "output_type": "stream",
     "text": [
      "                                                        \r"
     ]
    },
    {
     "name": "stdout",
     "output_type": "stream",
     "text": [
      "Epoch 44 Accuracy 98.49% / Best Accuracy: 98.61%\n"
     ]
    },
    {
     "name": "stderr",
     "output_type": "stream",
     "text": [
      "                                                        \r"
     ]
    },
    {
     "name": "stdout",
     "output_type": "stream",
     "text": [
      "Epoch 45 Accuracy 98.55% / Best Accuracy: 98.61%\n"
     ]
    },
    {
     "name": "stderr",
     "output_type": "stream",
     "text": [
      "                                                        \r"
     ]
    },
    {
     "name": "stdout",
     "output_type": "stream",
     "text": [
      "Epoch 46 Accuracy 98.55% / Best Accuracy: 98.61%\n"
     ]
    },
    {
     "name": "stderr",
     "output_type": "stream",
     "text": [
      "                                                        \r"
     ]
    },
    {
     "name": "stdout",
     "output_type": "stream",
     "text": [
      "Epoch 47 Accuracy 98.53% / Best Accuracy: 98.61%\n"
     ]
    },
    {
     "name": "stderr",
     "output_type": "stream",
     "text": [
      "                                                        \r"
     ]
    },
    {
     "name": "stdout",
     "output_type": "stream",
     "text": [
      "Epoch 48 Accuracy 98.49% / Best Accuracy: 98.61%\n"
     ]
    },
    {
     "name": "stderr",
     "output_type": "stream",
     "text": [
      "                                                        \r"
     ]
    },
    {
     "name": "stdout",
     "output_type": "stream",
     "text": [
      "Epoch 49 Accuracy 98.56% / Best Accuracy: 98.61%\n"
     ]
    },
    {
     "name": "stderr",
     "output_type": "stream",
     "text": [
      "                                                        \r"
     ]
    },
    {
     "name": "stdout",
     "output_type": "stream",
     "text": [
      "Epoch 50 Accuracy 98.63% / Best Accuracy: 98.63%\n"
     ]
    },
    {
     "name": "stderr",
     "output_type": "stream",
     "text": [
      "                                                       "
     ]
    },
    {
     "name": "stdout",
     "output_type": "stream",
     "text": [
      "Accuracy of Loaded Model: 98.63\n"
     ]
    },
    {
     "name": "stderr",
     "output_type": "stream",
     "text": [
      "\r"
     ]
    }
   ],
   "source": [
    "model_name = \"vgg16_bn\"\n",
    "model = load_model(model_name)\n",
    "\n",
    "# Replace classification layer output\n",
    "num_classes = ArrhythmiaLabels.size\n",
    "model.classifier[6] = nn.Linear(4096, num_classes)\n",
    "\n",
    "# Finetuning\n",
    "num_finetune_epochs = 50\n",
    "model.to(device)\n",
    "optimizer = SGD(model.parameters(), lr=0.01, momentum=0.9, weight_decay=1e-4)\n",
    "scheduler = CosineAnnealingLR(optimizer, num_finetune_epochs)\n",
    "criterion = nn.CrossEntropyLoss()\n",
    "\n",
    "best_model_checkpoint = dict()\n",
    "best_accuracy = 0\n",
    "safety = True\n",
    "\n",
    "if not os.path.exists(\"Pretrained\"):\n",
    "    os.makedirs(\"Pretrained\")\n",
    "\n",
    "print(\"Finetuning\")\n",
    "for epoch in range(num_finetune_epochs):\n",
    "    train(model, dataloader[\"train\"], criterion, optimizer, scheduler)\n",
    "    accuracy = evaluate(model, dataloader[\"test\"])\n",
    "\n",
    "    if accuracy > best_accuracy:\n",
    "        best_model_checkpoint[\"state_dict\"] = copy.deepcopy(model.state_dict())\n",
    "        best_accuracy = accuracy\n",
    "    \n",
    "    if safety and (epoch + 1) % 10 == 0:\n",
    "        checkpoint = {\n",
    "            \"model_state_dict\":     model.state_dict(),\n",
    "            \"optimizer_state_dict\": optimizer.state_dict(),\n",
    "            \"scheduler_state_dict\": scheduler.state_dict(),\n",
    "            \"epoch\":                epoch,\n",
    "        }\n",
    "        if not os.path.exists(\"Pretrained/Safety\"):\n",
    "            os.makedirs(\"Pretrained/Safety\")\n",
    "        torch.save(checkpoint, f\"Pretrained/Safety/check_{epoch+1}.pth\")\n",
    "    \n",
    "    print(f\"Epoch {epoch+1} Accuracy {accuracy:.2f}% / Best Accuracy: {best_accuracy:.2f}%\")\n",
    "\n",
    "# Save best model    \n",
    "save_path = f\"Pretrained/{model_name}_ecg_ep{num_finetune_epochs}_i{image_size}.pth\"\n",
    "torch.save(best_model_checkpoint[\"state_dict\"], save_path)\n",
    "\n",
    "# Test saved model\n",
    "model = load_model_from_pretrained(model_name, save_path, num_classes=num_classes)\n",
    "model.to(device)\n",
    "acc = evaluate(model, dataloader[\"test\"])\n",
    "print(f\"Accuracy of Loaded Model: {acc:.2f}\")"
   ]
  },
  {
   "cell_type": "markdown",
   "metadata": {},
   "source": [
    "# Resolution Scaling"
   ]
  },
  {
   "cell_type": "code",
   "execution_count": 4,
   "metadata": {},
   "outputs": [],
   "source": [
    "def train_with_loss_record(\n",
    "    model:      nn.Module,\n",
    "    dataloader: DataLoader,\n",
    "    criterion:  nn.Module,\n",
    "    optimizer:  Optimizer,\n",
    "    scheduler:  LambdaLR\n",
    ") -> list:\n",
    "    model.train()\n",
    "    running_loss = []\n",
    "\n",
    "    for inputs, labels in tqdm(dataloader, desc=\"Train\", leave=False):\n",
    "        inputs = inputs.to(device)\n",
    "        labels = labels.to(device)\n",
    "\n",
    "        optimizer.zero_grad()\n",
    "\n",
    "        outputs = model(inputs)\n",
    "        loss = criterion(outputs, labels)\n",
    "        running_loss.append(loss.item())\n",
    "\n",
    "        loss.backward()\n",
    "\n",
    "        optimizer.step()\n",
    "        scheduler.step()\n",
    "\n",
    "    return running_loss"
   ]
  },
  {
   "cell_type": "code",
   "execution_count": null,
   "metadata": {},
   "outputs": [],
   "source": [
    "model_name  = \"mobilenet_v3_small\"\n",
    "num_classes = ArrhythmiaLabels.size\n",
    "num_finetune_epochs = 15\n",
    "resolutions = [80, 104, 128, 152, 176, 200, 224]\n",
    "running_accuracy = {r: [] for r in resolutions}\n",
    "running_loss = {l: [] for l in resolutions}\n",
    "\n",
    "for resolution in resolutions:\n",
    "    # Setup training\n",
    "    model = load_model(model_name)\n",
    "    model.classifier[3] = nn.Linear(1024, num_classes)\n",
    "    model.to(device)\n",
    "\n",
    "    dataloader = build_dataloader(\n",
    "        train_path = \"Data/mitbih_mif_train_small.h5\",\n",
    "        test_path  = \"Data/mitbih_mif_test.h5\",\n",
    "        batch_size = 128,\n",
    "        transform  = Resize((resolution, resolution))\n",
    "    )\n",
    "    \n",
    "    optimizer = SGD(model.parameters(), lr=0.01, momentum=0.9, weight_decay=1e-4)\n",
    "    scheduler = CosineAnnealingLR(optimizer, num_finetune_epochs)\n",
    "    criterion = nn.CrossEntropyLoss()\n",
    "\n",
    "    best_model_checkpoint = dict()\n",
    "    best_accuracy = 0\n",
    "\n",
    "    # Finetune\n",
    "    print(f\"Finetuning at resolution {resolution}\")\n",
    "    for epoch in range(num_finetune_epochs):\n",
    "        losses = train_with_loss_record(model, dataloader[\"train\"], criterion, optimizer, scheduler)\n",
    "        accuracy = evaluate(model, dataloader[\"test\"])\n",
    "        \n",
    "        running_accuracy[resolution].append(accuracy)\n",
    "        running_loss[resolution].append(losses)\n",
    "\n",
    "        if accuracy > best_accuracy:\n",
    "            best_model_checkpoint[\"state_dict\"] = copy.deepcopy(model.state_dict())\n",
    "            best_accuracy = accuracy\n",
    "        \n",
    "        print(f\"Epoch {epoch+1} Accuracy {accuracy:.2f}% / Best Accuracy: {best_accuracy:.2f}%\")\n",
    "\n",
    "    # Save best model\n",
    "    if not os.path.exists(\"Pretrained/MobileNetV3-Small\"):\n",
    "        os.makedirs(\"Pretrained/MobileNetV3-Small\")\n",
    "    \n",
    "    save_path = f\"Pretrained/MobileNetV3-Small/{model_name}_ecg_ep{num_finetune_epochs}_i{resolution}.pth\"\n",
    "    torch.save(best_model_checkpoint[\"state_dict\"], save_path)\n",
    "\n",
    "    # Write the running accuracy and loss to another file for safety\n",
    "    with open(\"running_acc.txt\", \"a\") as file:\n",
    "        file.write(\" \".join(map(str, running_accuracy[resolution])))\n",
    "        file.write(\"\\n\")\n",
    "    \n",
    "    with open(\"running_loss.txt\", \"a\") as file:\n",
    "        total_losses = []\n",
    "        for epoch_losses in running_loss[resolution]:\n",
    "            total_losses += epoch_losses\n",
    "\n",
    "        file.write(\" \".join(map(str, total_losses)))\n",
    "        file.write(\"\\n\")"
   ]
  },
  {
   "cell_type": "markdown",
   "metadata": {},
   "source": [
    "# OFA"
   ]
  },
  {
   "cell_type": "code",
   "execution_count": null,
   "metadata": {},
   "outputs": [],
   "source": [
    "ofa_specialized_get = torch.hub.load(\"mit-han-lab/once-for-all\", \"ofa_specialized_get\")"
   ]
  },
  {
   "cell_type": "code",
   "execution_count": 12,
   "metadata": {},
   "outputs": [],
   "source": [
    "model, image_size = ofa_specialized_get(\"pixel1_lat@20ms_top1@71.4_finetune@25\", pretrained=True)\n",
    "\n",
    "dataloader = build_dataloader(\n",
    "    train_path = \"Data/mitbih_mif_train_small.h5\",\n",
    "    test_path  = \"Data/mitbih_mif_test.h5\",\n",
    "    batch_size = 128,\n",
    "    transform  = Resize((152, 152))\n",
    ")\n",
    "\n",
    "model.classifier.linear = nn.Linear(1280, 5)"
   ]
  },
  {
   "cell_type": "code",
   "execution_count": null,
   "metadata": {},
   "outputs": [],
   "source": [
    "model_name  = \"ofa_pixel1_20\"\n",
    "num_classes = ArrhythmiaLabels.size\n",
    "\n",
    "# Finetuning\n",
    "num_finetune_epochs = 50\n",
    "model.to(device)\n",
    "optimizer = SGD(model.parameters(), lr=0.01, momentum=0.9, weight_decay=1e-4)\n",
    "scheduler = CosineAnnealingLR(optimizer, num_finetune_epochs)\n",
    "criterion = nn.CrossEntropyLoss()\n",
    "\n",
    "best_model_checkpoint = dict()\n",
    "best_accuracy = 0\n",
    "\n",
    "print(\"Finetuning\")\n",
    "for epoch in range(num_finetune_epochs):\n",
    "    train(model, dataloader[\"train\"], criterion, optimizer, scheduler)\n",
    "    accuracy = evaluate(model, dataloader[\"test\"])\n",
    "\n",
    "    if accuracy > best_accuracy:\n",
    "        best_model_checkpoint[\"state_dict\"] = copy.deepcopy(model.state_dict())\n",
    "        best_accuracy = accuracy\n",
    "    \n",
    "    print(f\"Epoch {epoch+1} Accuracy {accuracy:.2f}% / Best Accuracy: {best_accuracy:.2f}%\")\n",
    "\n",
    "# Save best model\n",
    "if not os.path.exists(\"Pretrained\"):\n",
    "    os.makedirs(\"Pretrained\")\n",
    "    \n",
    "save_path = f\"Pretrained/{model_name}_ecg_ep{num_finetune_epochs}_i{image_size}.pth\"\n",
    "torch.save(best_model_checkpoint[\"state_dict\"], save_path)"
   ]
  },
  {
   "cell_type": "code",
   "execution_count": null,
   "metadata": {},
   "outputs": [],
   "source": [
    "# Test saved model\n",
    "model, _ = ofa_specialized_get(\"flops@595M_top1@80.0_finetune@75\", pretrained=True)\n",
    "model.classifier.linear = nn.Linear(1536, 5)\n",
    "model.load_state_dict(torch.load(\"Pretrained\\ofa_595M_ecg_ep50_i152.pth\"))\n",
    "model.to(device)\n",
    "acc = evaluate(model, dataloader[\"test\"])\n",
    "print(f\"Accuracy of Loaded Model: {acc:.2f}\")"
   ]
  },
  {
   "cell_type": "markdown",
   "metadata": {},
   "source": [
    "# Raw Dataset Training"
   ]
  },
  {
   "cell_type": "markdown",
   "metadata": {},
   "source": [
    "## Base Model"
   ]
  },
  {
   "cell_type": "code",
   "execution_count": 7,
   "metadata": {},
   "outputs": [
    {
     "name": "stderr",
     "output_type": "stream",
     "text": [
      "[2024-07-16 11:07:41,429] [DTSET] [INFO] Building ECG Dataset from ../Data/MIT-BIH-Raw/Datasets/Resolution-128/image_full_unfiltered_i128_train.h5\n",
      "[2024-07-16 11:07:41,431] [DTSET] [INFO] \tAvailable Memory: 21.99 GiB\n",
      "[2024-07-16 11:07:41,431] [DTSET] [INFO] \tDataset Memory:   16.04 GiB\n",
      "[2024-07-16 11:07:41,431] [DTSET] [INFO] \tPreloading images and labels\n",
      "[2024-07-16 11:09:40,627] [DTSET] [INFO] Building ECG Dataset from ../Data/MIT-BIH-Raw/Datasets/Resolution-128/image_full_unfiltered_i128_test.h5\n",
      "[2024-07-16 11:09:40,628] [DTSET] [INFO] \tAvailable Memory: 6.98 GiB\n",
      "[2024-07-16 11:09:40,629] [DTSET] [INFO] \tDataset Memory:   4.01 GiB\n",
      "[2024-07-16 11:10:33,199] [CLASS] [INFO] Begin finetuning...\n",
      "[2024-07-16 11:11:52,955] [CLASS] [INFO] \tEpoch 1 Accuracy 97.98% / Best Accuracy: 97.98%. Time: 79.75434231758118s\n",
      "[2024-07-16 11:13:06,974] [CLASS] [INFO] \tEpoch 2 Accuracy 98.46% / Best Accuracy: 98.46%. Time: 74.01820039749146s\n",
      "[2024-07-16 11:14:21,267] [CLASS] [INFO] \tEpoch 3 Accuracy 98.45% / Best Accuracy: 98.46%. Time: 74.29244828224182s\n",
      "[2024-07-16 11:15:35,936] [CLASS] [INFO] \tEpoch 4 Accuracy 98.64% / Best Accuracy: 98.64%. Time: 74.66779112815857s\n",
      "[2024-07-16 11:16:50,483] [CLASS] [INFO] \tEpoch 5 Accuracy 98.54% / Best Accuracy: 98.64%. Time: 74.54667949676514s\n",
      "[2024-07-16 11:18:05,124] [CLASS] [INFO] \tEpoch 6 Accuracy 98.62% / Best Accuracy: 98.64%. Time: 74.64076590538025s\n",
      "[2024-07-16 11:19:19,734] [CLASS] [INFO] \tEpoch 7 Accuracy 98.74% / Best Accuracy: 98.74%. Time: 74.60973787307739s\n",
      "[2024-07-16 11:20:34,365] [CLASS] [INFO] \tEpoch 8 Accuracy 98.63% / Best Accuracy: 98.74%. Time: 74.63075804710388s\n",
      "[2024-07-16 11:21:48,898] [CLASS] [INFO] \tEpoch 9 Accuracy 98.61% / Best Accuracy: 98.74%. Time: 74.53166580200195s\n",
      "[2024-07-16 11:23:03,463] [CLASS] [INFO] \tEpoch 10 Accuracy 98.55% / Best Accuracy: 98.74%. Time: 74.56569766998291s\n",
      "[2024-07-16 11:24:18,017] [CLASS] [INFO] \tEpoch 11 Accuracy 98.56% / Best Accuracy: 98.74%. Time: 74.55368661880493s\n",
      "[2024-07-16 11:25:32,603] [CLASS] [INFO] \tEpoch 12 Accuracy 98.68% / Best Accuracy: 98.74%. Time: 74.58471512794495s\n",
      "[2024-07-16 11:26:47,326] [CLASS] [INFO] \tEpoch 13 Accuracy 98.79% / Best Accuracy: 98.79%. Time: 74.7228410243988s\n",
      "[2024-07-16 11:28:02,038] [CLASS] [INFO] \tEpoch 14 Accuracy 98.74% / Best Accuracy: 98.79%. Time: 74.71283054351807s\n",
      "[2024-07-16 11:29:16,895] [CLASS] [INFO] \tEpoch 15 Accuracy 98.77% / Best Accuracy: 98.79%. Time: 74.8567066192627s\n",
      "[2024-07-16 11:30:32,192] [CLASS] [INFO] \tEpoch 16 Accuracy 98.78% / Best Accuracy: 98.79%. Time: 75.29556655883789s\n",
      "[2024-07-16 11:31:47,027] [CLASS] [INFO] \tEpoch 17 Accuracy 98.80% / Best Accuracy: 98.80%. Time: 74.83494186401367s\n",
      "[2024-07-16 11:33:01,770] [CLASS] [INFO] \tEpoch 18 Accuracy 98.78% / Best Accuracy: 98.80%. Time: 74.74285888671875s\n",
      "[2024-07-16 11:34:16,572] [CLASS] [INFO] \tEpoch 19 Accuracy 98.79% / Best Accuracy: 98.80%. Time: 74.80191254615784s\n",
      "[2024-07-16 11:35:31,436] [CLASS] [INFO] \tEpoch 20 Accuracy 98.82% / Best Accuracy: 98.82%. Time: 74.86396789550781s\n",
      "[2024-07-16 11:36:46,266] [CLASS] [INFO] \tEpoch 21 Accuracy 98.84% / Best Accuracy: 98.84%. Time: 74.828937292099s\n",
      "[2024-07-16 11:38:01,113] [CLASS] [INFO] \tEpoch 22 Accuracy 98.82% / Best Accuracy: 98.84%. Time: 74.84695291519165s\n",
      "[2024-07-16 11:39:15,963] [CLASS] [INFO] \tEpoch 23 Accuracy 98.85% / Best Accuracy: 98.85%. Time: 74.84995627403259s\n",
      "[2024-07-16 11:40:30,934] [CLASS] [INFO] \tEpoch 24 Accuracy 98.82% / Best Accuracy: 98.85%. Time: 74.97106575965881s\n",
      "[2024-07-16 11:41:45,701] [CLASS] [INFO] \tEpoch 25 Accuracy 98.82% / Best Accuracy: 98.85%. Time: 74.76587963104248s\n",
      "[2024-07-16 11:43:00,460] [CLASS] [INFO] \tEpoch 26 Accuracy 98.81% / Best Accuracy: 98.85%. Time: 74.75887298583984s\n",
      "[2024-07-16 11:44:15,388] [CLASS] [INFO] \tEpoch 27 Accuracy 98.84% / Best Accuracy: 98.85%. Time: 74.9270248413086s\n",
      "[2024-07-16 11:45:30,362] [CLASS] [INFO] \tEpoch 28 Accuracy 98.80% / Best Accuracy: 98.85%. Time: 74.97253584861755s\n",
      "[2024-07-16 11:46:45,194] [CLASS] [INFO] \tEpoch 29 Accuracy 98.83% / Best Accuracy: 98.85%. Time: 74.83193969726562s\n",
      "[2024-07-16 11:48:00,723] [CLASS] [INFO] \tEpoch 30 Accuracy 98.84% / Best Accuracy: 98.85%. Time: 75.52875876426697s\n",
      "[2024-07-16 11:49:15,229] [CLASS] [INFO] \tEpoch 31 Accuracy 98.83% / Best Accuracy: 98.85%. Time: 74.50514316558838s\n",
      "[2024-07-16 11:50:29,721] [CLASS] [INFO] \tEpoch 32 Accuracy 98.85% / Best Accuracy: 98.85%. Time: 74.49062967300415s\n",
      "[2024-07-16 11:51:44,182] [CLASS] [INFO] \tEpoch 33 Accuracy 98.78% / Best Accuracy: 98.85%. Time: 74.46060371398926s\n",
      "[2024-07-16 11:52:58,573] [CLASS] [INFO] \tEpoch 34 Accuracy 98.81% / Best Accuracy: 98.85%. Time: 74.39153909683228s\n",
      "[2024-07-16 11:54:13,046] [CLASS] [INFO] \tEpoch 35 Accuracy 98.82% / Best Accuracy: 98.85%. Time: 74.47161197662354s\n",
      "[2024-07-16 11:55:27,461] [CLASS] [INFO] \tEpoch 36 Accuracy 98.82% / Best Accuracy: 98.85%. Time: 74.41556167602539s\n",
      "[2024-07-16 11:56:41,821] [CLASS] [INFO] \tEpoch 37 Accuracy 98.85% / Best Accuracy: 98.85%. Time: 74.35951042175293s\n",
      "[2024-07-16 11:57:56,224] [CLASS] [INFO] \tEpoch 38 Accuracy 98.82% / Best Accuracy: 98.85%. Time: 74.40355038642883s\n",
      "[2024-07-16 11:59:11,005] [CLASS] [INFO] \tEpoch 39 Accuracy 98.87% / Best Accuracy: 98.87%. Time: 74.78089332580566s\n",
      "[2024-07-16 12:00:25,516] [CLASS] [INFO] \tEpoch 40 Accuracy 98.83% / Best Accuracy: 98.87%. Time: 74.50964784622192s\n",
      "[2024-07-16 12:01:39,911] [CLASS] [INFO] \tEpoch 41 Accuracy 98.83% / Best Accuracy: 98.87%. Time: 74.3945415019989s\n",
      "[2024-07-16 12:02:54,465] [CLASS] [INFO] \tEpoch 42 Accuracy 98.82% / Best Accuracy: 98.87%. Time: 74.5546875s\n",
      "[2024-07-16 12:04:08,873] [CLASS] [INFO] \tEpoch 43 Accuracy 98.81% / Best Accuracy: 98.87%. Time: 74.40755462646484s\n",
      "[2024-07-16 12:05:23,292] [CLASS] [INFO] \tEpoch 44 Accuracy 98.84% / Best Accuracy: 98.87%. Time: 74.4185643196106s\n",
      "[2024-07-16 12:06:37,707] [CLASS] [INFO] \tEpoch 45 Accuracy 98.85% / Best Accuracy: 98.87%. Time: 74.41456007957458s\n",
      "[2024-07-16 12:07:52,137] [CLASS] [INFO] \tEpoch 46 Accuracy 98.82% / Best Accuracy: 98.87%. Time: 74.43057489395142s\n",
      "[2024-07-16 12:09:06,514] [CLASS] [INFO] \tEpoch 47 Accuracy 98.82% / Best Accuracy: 98.87%. Time: 74.3751289844513s\n",
      "[2024-07-16 12:10:21,265] [CLASS] [INFO] \tEpoch 48 Accuracy 98.80% / Best Accuracy: 98.87%. Time: 74.75093507766724s\n",
      "[2024-07-16 12:11:35,626] [CLASS] [INFO] \tEpoch 49 Accuracy 98.80% / Best Accuracy: 98.87%. Time: 74.36151242256165s\n",
      "[2024-07-16 12:12:50,131] [CLASS] [INFO] \tEpoch 50 Accuracy 98.83% / Best Accuracy: 98.87%. Time: 74.50364184379578s\n",
      "[2024-07-16 12:12:50,131] [CLASS] [INFO] Finetuning completed\n",
      "[2024-07-16 12:12:50,925] [CLASS] [INFO] Model saved to ../Pretrained/ECG-Raw/Base/resnet50_ep50_i128_full/resnet50_ep50_i128_full.pth\n"
     ]
    }
   ],
   "source": [
    "image_sizes = [128]\n",
    "\n",
    "for image_size in image_sizes:\n",
    "    dataloader = build_dataloader(\n",
    "        train_path    = f\"../Data/MIT-BIH-Raw/Datasets/Resolution-{image_size}/image_full_unfiltered_i{image_size}_train.h5\",\n",
    "        test_path     = f\"../Data/MIT-BIH-Raw/Datasets/Resolution-{image_size}/image_full_unfiltered_i{image_size}_test.h5\",\n",
    "        transform     = None,\n",
    "        batch_size    = 128,\n",
    "        preload_train = True\n",
    "    )\n",
    "\n",
    "    num_classes = ArrhythmiaLabels.size\n",
    "    model_name  = \"resnet50\"\n",
    "    model       = load_model(model_name)\n",
    "    model.fc    = nn.Linear(2048, num_classes)\n",
    "\n",
    "    epochs    = 50\n",
    "    save_name = f\"{model_name}_ep{epochs}_i{image_size}_full\"\n",
    "    save_dir  = f\"../Pretrained/ECG-Raw/Base/{save_name}\"\n",
    "\n",
    "    warm_up_dataloader(dataloader[\"train\"])\n",
    "    warm_up_dataloader(dataloader[\"test\"])\n",
    "\n",
    "    training_stats = finetune(\n",
    "        model      = model,\n",
    "        epochs     = epochs,\n",
    "        dataloader = dataloader,\n",
    "        save_path  = f\"{save_dir}/{save_name}.pth\"\n",
    "    )\n",
    "\n",
    "    training_stats.serialize(f\"{save_dir}/stats.txt\")"
   ]
  },
  {
   "cell_type": "markdown",
   "metadata": {},
   "source": [
    "## Dataset Shrinking"
   ]
  },
  {
   "cell_type": "code",
   "execution_count": 2,
   "metadata": {},
   "outputs": [
    {
     "name": "stderr",
     "output_type": "stream",
     "text": [
      "[2024-07-03 23:26:35,985] [UTL] [INFO] Begin finetuning...\n",
      "[2024-07-03 23:26:57,270] [UTL] [INFO] \tEpoch 1 Accuracy 98.51% / Best Accuracy: 98.51%\n",
      "[2024-07-03 23:27:17,599] [UTL] [INFO] \tEpoch 2 Accuracy 98.42% / Best Accuracy: 98.51%\n",
      "[2024-07-03 23:27:37,931] [UTL] [INFO] \tEpoch 3 Accuracy 98.42% / Best Accuracy: 98.51%\n",
      "[2024-07-03 23:27:58,440] [UTL] [INFO] \tEpoch 4 Accuracy 98.62% / Best Accuracy: 98.62%\n",
      "[2024-07-03 23:28:18,840] [UTL] [INFO] \tEpoch 5 Accuracy 98.61% / Best Accuracy: 98.62%\n",
      "[2024-07-03 23:28:39,317] [UTL] [INFO] \tEpoch 6 Accuracy 98.71% / Best Accuracy: 98.71%\n",
      "[2024-07-03 23:28:59,741] [UTL] [INFO] \tEpoch 7 Accuracy 98.81% / Best Accuracy: 98.81%\n",
      "[2024-07-03 23:29:20,254] [UTL] [INFO] \tEpoch 8 Accuracy 98.89% / Best Accuracy: 98.89%\n",
      "[2024-07-03 23:29:40,620] [UTL] [INFO] \tEpoch 9 Accuracy 98.79% / Best Accuracy: 98.89%\n",
      "[2024-07-03 23:30:01,093] [UTL] [INFO] \tEpoch 10 Accuracy 98.87% / Best Accuracy: 98.89%\n",
      "[2024-07-03 23:30:21,631] [UTL] [INFO] \tEpoch 11 Accuracy 98.85% / Best Accuracy: 98.89%\n",
      "[2024-07-03 23:30:42,112] [UTL] [INFO] \tEpoch 12 Accuracy 98.83% / Best Accuracy: 98.89%\n",
      "[2024-07-03 23:31:02,604] [UTL] [INFO] \tEpoch 13 Accuracy 98.85% / Best Accuracy: 98.89%\n",
      "[2024-07-03 23:31:23,135] [UTL] [INFO] \tEpoch 14 Accuracy 98.85% / Best Accuracy: 98.89%\n",
      "[2024-07-03 23:31:43,647] [UTL] [INFO] \tEpoch 15 Accuracy 98.88% / Best Accuracy: 98.89%\n",
      "[2024-07-03 23:32:04,197] [UTL] [INFO] \tEpoch 16 Accuracy 98.89% / Best Accuracy: 98.89%\n",
      "[2024-07-03 23:32:24,773] [UTL] [INFO] \tEpoch 17 Accuracy 98.82% / Best Accuracy: 98.89%\n",
      "[2024-07-03 23:32:45,308] [UTL] [INFO] \tEpoch 18 Accuracy 98.86% / Best Accuracy: 98.89%\n",
      "[2024-07-03 23:33:05,806] [UTL] [INFO] \tEpoch 19 Accuracy 98.85% / Best Accuracy: 98.89%\n",
      "[2024-07-03 23:33:26,341] [UTL] [INFO] \tEpoch 20 Accuracy 98.82% / Best Accuracy: 98.89%\n",
      "[2024-07-03 23:33:46,803] [UTL] [INFO] \tEpoch 21 Accuracy 98.84% / Best Accuracy: 98.89%\n",
      "[2024-07-03 23:34:07,338] [UTL] [INFO] \tEpoch 22 Accuracy 98.84% / Best Accuracy: 98.89%\n",
      "[2024-07-03 23:34:27,783] [UTL] [INFO] \tEpoch 23 Accuracy 98.84% / Best Accuracy: 98.89%\n",
      "[2024-07-03 23:34:48,275] [UTL] [INFO] \tEpoch 24 Accuracy 98.84% / Best Accuracy: 98.89%\n",
      "[2024-07-03 23:35:08,712] [UTL] [INFO] \tEpoch 25 Accuracy 98.83% / Best Accuracy: 98.89%\n",
      "[2024-07-03 23:35:29,203] [UTL] [INFO] \tEpoch 26 Accuracy 98.82% / Best Accuracy: 98.89%\n",
      "[2024-07-03 23:35:49,627] [UTL] [INFO] \tEpoch 27 Accuracy 98.81% / Best Accuracy: 98.89%\n",
      "[2024-07-03 23:36:10,165] [UTL] [INFO] \tEpoch 28 Accuracy 98.83% / Best Accuracy: 98.89%\n",
      "[2024-07-03 23:36:30,625] [UTL] [INFO] \tEpoch 29 Accuracy 98.82% / Best Accuracy: 98.89%\n",
      "[2024-07-03 23:36:51,148] [UTL] [INFO] \tEpoch 30 Accuracy 98.81% / Best Accuracy: 98.89%\n",
      "[2024-07-03 23:37:11,623] [UTL] [INFO] \tEpoch 31 Accuracy 98.85% / Best Accuracy: 98.89%\n",
      "[2024-07-03 23:37:32,103] [UTL] [INFO] \tEpoch 32 Accuracy 98.81% / Best Accuracy: 98.89%\n",
      "[2024-07-03 23:37:52,565] [UTL] [INFO] \tEpoch 33 Accuracy 98.82% / Best Accuracy: 98.89%\n",
      "[2024-07-03 23:38:13,086] [UTL] [INFO] \tEpoch 34 Accuracy 98.81% / Best Accuracy: 98.89%\n",
      "[2024-07-03 23:38:33,536] [UTL] [INFO] \tEpoch 35 Accuracy 98.83% / Best Accuracy: 98.89%\n",
      "[2024-07-03 23:38:54,019] [UTL] [INFO] \tEpoch 36 Accuracy 98.82% / Best Accuracy: 98.89%\n",
      "[2024-07-03 23:39:14,539] [UTL] [INFO] \tEpoch 37 Accuracy 98.84% / Best Accuracy: 98.89%\n",
      "[2024-07-03 23:39:35,098] [UTL] [INFO] \tEpoch 38 Accuracy 98.82% / Best Accuracy: 98.89%\n",
      "[2024-07-03 23:39:55,605] [UTL] [INFO] \tEpoch 39 Accuracy 98.83% / Best Accuracy: 98.89%\n",
      "[2024-07-03 23:40:16,136] [UTL] [INFO] \tEpoch 40 Accuracy 98.81% / Best Accuracy: 98.89%\n",
      "[2024-07-03 23:40:36,598] [UTL] [INFO] \tEpoch 41 Accuracy 98.82% / Best Accuracy: 98.89%\n",
      "[2024-07-03 23:40:57,070] [UTL] [INFO] \tEpoch 42 Accuracy 98.84% / Best Accuracy: 98.89%\n",
      "[2024-07-03 23:41:17,610] [UTL] [INFO] \tEpoch 43 Accuracy 98.83% / Best Accuracy: 98.89%\n",
      "[2024-07-03 23:41:38,112] [UTL] [INFO] \tEpoch 44 Accuracy 98.84% / Best Accuracy: 98.89%\n",
      "[2024-07-03 23:41:58,586] [UTL] [INFO] \tEpoch 45 Accuracy 98.83% / Best Accuracy: 98.89%\n",
      "[2024-07-03 23:42:19,122] [UTL] [INFO] \tEpoch 46 Accuracy 98.82% / Best Accuracy: 98.89%\n",
      "[2024-07-03 23:42:39,659] [UTL] [INFO] \tEpoch 47 Accuracy 98.83% / Best Accuracy: 98.89%\n",
      "[2024-07-03 23:43:00,151] [UTL] [INFO] \tEpoch 48 Accuracy 98.83% / Best Accuracy: 98.89%\n",
      "[2024-07-03 23:43:20,673] [UTL] [INFO] \tEpoch 49 Accuracy 98.83% / Best Accuracy: 98.89%\n",
      "[2024-07-03 23:43:41,200] [UTL] [INFO] \tEpoch 50 Accuracy 98.82% / Best Accuracy: 98.89%\n",
      "[2024-07-03 23:43:41,200] [UTL] [INFO] Finetuning completed\n",
      "[2024-07-03 23:43:41,254] [UTL] [INFO] Model saved to ../Pretrained/ECG-Raw/resnet18_ep50_i128_r0.7_balance/resnet18_ep50_i128_r0.7_balance.pth\n",
      "[2024-07-03 23:56:36,549] [UTL] [INFO] Begin finetuning...\n",
      "[2024-07-03 23:56:56,896] [UTL] [INFO] \tEpoch 1 Accuracy 98.25% / Best Accuracy: 98.25%\n",
      "[2024-07-03 23:57:17,111] [UTL] [INFO] \tEpoch 2 Accuracy 98.52% / Best Accuracy: 98.52%\n",
      "[2024-07-03 23:57:37,370] [UTL] [INFO] \tEpoch 3 Accuracy 98.51% / Best Accuracy: 98.52%\n",
      "[2024-07-03 23:57:57,713] [UTL] [INFO] \tEpoch 4 Accuracy 98.63% / Best Accuracy: 98.63%\n",
      "[2024-07-03 23:58:18,000] [UTL] [INFO] \tEpoch 5 Accuracy 98.56% / Best Accuracy: 98.63%\n",
      "[2024-07-03 23:58:38,370] [UTL] [INFO] \tEpoch 6 Accuracy 98.63% / Best Accuracy: 98.63%\n",
      "[2024-07-03 23:58:58,656] [UTL] [INFO] \tEpoch 7 Accuracy 98.75% / Best Accuracy: 98.75%\n",
      "[2024-07-03 23:59:18,882] [UTL] [INFO] \tEpoch 8 Accuracy 98.58% / Best Accuracy: 98.75%\n",
      "[2024-07-03 23:59:39,214] [UTL] [INFO] \tEpoch 9 Accuracy 98.73% / Best Accuracy: 98.75%\n",
      "[2024-07-03 23:59:59,531] [UTL] [INFO] \tEpoch 10 Accuracy 98.62% / Best Accuracy: 98.75%\n",
      "[2024-07-04 00:00:19,885] [UTL] [INFO] \tEpoch 11 Accuracy 98.72% / Best Accuracy: 98.75%\n",
      "[2024-07-04 00:00:40,436] [UTL] [INFO] \tEpoch 12 Accuracy 98.76% / Best Accuracy: 98.76%\n",
      "[2024-07-04 00:01:00,767] [UTL] [INFO] \tEpoch 13 Accuracy 98.74% / Best Accuracy: 98.76%\n",
      "[2024-07-04 00:01:21,112] [UTL] [INFO] \tEpoch 14 Accuracy 98.75% / Best Accuracy: 98.76%\n",
      "[2024-07-04 00:01:41,403] [UTL] [INFO] \tEpoch 15 Accuracy 98.78% / Best Accuracy: 98.78%\n",
      "[2024-07-04 00:02:01,775] [UTL] [INFO] \tEpoch 16 Accuracy 98.82% / Best Accuracy: 98.82%\n",
      "[2024-07-04 00:02:22,145] [UTL] [INFO] \tEpoch 17 Accuracy 98.74% / Best Accuracy: 98.82%\n",
      "[2024-07-04 00:02:42,532] [UTL] [INFO] \tEpoch 18 Accuracy 98.81% / Best Accuracy: 98.82%\n",
      "[2024-07-04 00:03:02,952] [UTL] [INFO] \tEpoch 19 Accuracy 98.74% / Best Accuracy: 98.82%\n",
      "[2024-07-04 00:03:23,357] [UTL] [INFO] \tEpoch 20 Accuracy 98.74% / Best Accuracy: 98.82%\n",
      "[2024-07-04 00:03:43,790] [UTL] [INFO] \tEpoch 21 Accuracy 98.76% / Best Accuracy: 98.82%\n",
      "[2024-07-04 00:04:04,273] [UTL] [INFO] \tEpoch 22 Accuracy 98.77% / Best Accuracy: 98.82%\n",
      "[2024-07-04 00:04:25,237] [UTL] [INFO] \tEpoch 23 Accuracy 98.76% / Best Accuracy: 98.82%\n",
      "[2024-07-04 00:04:45,666] [UTL] [INFO] \tEpoch 24 Accuracy 98.75% / Best Accuracy: 98.82%\n",
      "[2024-07-04 00:05:06,139] [UTL] [INFO] \tEpoch 25 Accuracy 98.77% / Best Accuracy: 98.82%\n",
      "[2024-07-04 00:05:26,604] [UTL] [INFO] \tEpoch 26 Accuracy 98.78% / Best Accuracy: 98.82%\n",
      "[2024-07-04 00:05:47,059] [UTL] [INFO] \tEpoch 27 Accuracy 98.78% / Best Accuracy: 98.82%\n",
      "[2024-07-04 00:06:07,600] [UTL] [INFO] \tEpoch 28 Accuracy 98.77% / Best Accuracy: 98.82%\n",
      "[2024-07-04 00:06:28,043] [UTL] [INFO] \tEpoch 29 Accuracy 98.75% / Best Accuracy: 98.82%\n",
      "[2024-07-04 00:06:48,538] [UTL] [INFO] \tEpoch 30 Accuracy 98.78% / Best Accuracy: 98.82%\n",
      "[2024-07-04 00:07:08,998] [UTL] [INFO] \tEpoch 31 Accuracy 98.76% / Best Accuracy: 98.82%\n",
      "[2024-07-04 00:07:29,431] [UTL] [INFO] \tEpoch 32 Accuracy 98.76% / Best Accuracy: 98.82%\n",
      "[2024-07-04 00:07:49,912] [UTL] [INFO] \tEpoch 33 Accuracy 98.78% / Best Accuracy: 98.82%\n",
      "[2024-07-04 00:08:10,472] [UTL] [INFO] \tEpoch 34 Accuracy 98.77% / Best Accuracy: 98.82%\n",
      "[2024-07-04 00:08:30,956] [UTL] [INFO] \tEpoch 35 Accuracy 98.77% / Best Accuracy: 98.82%\n",
      "[2024-07-04 00:08:51,432] [UTL] [INFO] \tEpoch 36 Accuracy 98.78% / Best Accuracy: 98.82%\n",
      "[2024-07-04 00:09:11,903] [UTL] [INFO] \tEpoch 37 Accuracy 98.75% / Best Accuracy: 98.82%\n",
      "[2024-07-04 00:09:32,346] [UTL] [INFO] \tEpoch 38 Accuracy 98.79% / Best Accuracy: 98.82%\n",
      "[2024-07-04 00:09:52,865] [UTL] [INFO] \tEpoch 39 Accuracy 98.75% / Best Accuracy: 98.82%\n",
      "[2024-07-04 00:10:13,381] [UTL] [INFO] \tEpoch 40 Accuracy 98.77% / Best Accuracy: 98.82%\n",
      "[2024-07-04 00:10:33,794] [UTL] [INFO] \tEpoch 41 Accuracy 98.77% / Best Accuracy: 98.82%\n",
      "[2024-07-04 00:10:54,164] [UTL] [INFO] \tEpoch 42 Accuracy 98.76% / Best Accuracy: 98.82%\n",
      "[2024-07-04 00:11:14,544] [UTL] [INFO] \tEpoch 43 Accuracy 98.78% / Best Accuracy: 98.82%\n",
      "[2024-07-04 00:11:34,999] [UTL] [INFO] \tEpoch 44 Accuracy 98.75% / Best Accuracy: 98.82%\n",
      "[2024-07-04 00:11:55,386] [UTL] [INFO] \tEpoch 45 Accuracy 98.75% / Best Accuracy: 98.82%\n",
      "[2024-07-04 00:12:15,757] [UTL] [INFO] \tEpoch 46 Accuracy 98.73% / Best Accuracy: 98.82%\n",
      "[2024-07-04 00:12:36,189] [UTL] [INFO] \tEpoch 47 Accuracy 98.76% / Best Accuracy: 98.82%\n",
      "[2024-07-04 00:12:56,644] [UTL] [INFO] \tEpoch 48 Accuracy 98.72% / Best Accuracy: 98.82%\n",
      "[2024-07-04 00:13:17,085] [UTL] [INFO] \tEpoch 49 Accuracy 98.75% / Best Accuracy: 98.82%\n",
      "[2024-07-04 00:13:37,596] [UTL] [INFO] \tEpoch 50 Accuracy 98.74% / Best Accuracy: 98.82%\n",
      "[2024-07-04 00:13:37,596] [UTL] [INFO] Finetuning completed\n",
      "[2024-07-04 00:13:37,640] [UTL] [INFO] Model saved to ../Pretrained/ECG-Raw/resnet18_ep50_i128_r0.7_random/resnet18_ep50_i128_r0.7_random.pth\n",
      "[2024-07-04 00:23:05,629] [UTL] [INFO] Begin finetuning...\n",
      "[2024-07-04 00:23:23,952] [UTL] [INFO] \tEpoch 1 Accuracy 98.11% / Best Accuracy: 98.11%\n",
      "[2024-07-04 00:23:42,005] [UTL] [INFO] \tEpoch 2 Accuracy 98.57% / Best Accuracy: 98.57%\n",
      "[2024-07-04 00:23:59,992] [UTL] [INFO] \tEpoch 3 Accuracy 98.58% / Best Accuracy: 98.58%\n",
      "[2024-07-04 00:24:18,005] [UTL] [INFO] \tEpoch 4 Accuracy 98.52% / Best Accuracy: 98.58%\n",
      "[2024-07-04 00:24:36,009] [UTL] [INFO] \tEpoch 5 Accuracy 98.51% / Best Accuracy: 98.58%\n",
      "[2024-07-04 00:24:54,040] [UTL] [INFO] \tEpoch 6 Accuracy 98.58% / Best Accuracy: 98.58%\n",
      "[2024-07-04 00:25:12,163] [UTL] [INFO] \tEpoch 7 Accuracy 98.55% / Best Accuracy: 98.58%\n",
      "[2024-07-04 00:25:30,219] [UTL] [INFO] \tEpoch 8 Accuracy 98.68% / Best Accuracy: 98.68%\n",
      "[2024-07-04 00:25:48,305] [UTL] [INFO] \tEpoch 9 Accuracy 98.73% / Best Accuracy: 98.73%\n",
      "[2024-07-04 00:26:06,405] [UTL] [INFO] \tEpoch 10 Accuracy 98.67% / Best Accuracy: 98.73%\n",
      "[2024-07-04 00:26:24,480] [UTL] [INFO] \tEpoch 11 Accuracy 98.68% / Best Accuracy: 98.73%\n",
      "[2024-07-04 00:26:42,549] [UTL] [INFO] \tEpoch 12 Accuracy 98.71% / Best Accuracy: 98.73%\n",
      "[2024-07-04 00:27:00,679] [UTL] [INFO] \tEpoch 13 Accuracy 98.65% / Best Accuracy: 98.73%\n",
      "[2024-07-04 00:27:18,814] [UTL] [INFO] \tEpoch 14 Accuracy 98.70% / Best Accuracy: 98.73%\n",
      "[2024-07-04 00:27:36,915] [UTL] [INFO] \tEpoch 15 Accuracy 98.67% / Best Accuracy: 98.73%\n",
      "[2024-07-04 00:27:55,025] [UTL] [INFO] \tEpoch 16 Accuracy 98.70% / Best Accuracy: 98.73%\n",
      "[2024-07-04 00:28:13,126] [UTL] [INFO] \tEpoch 17 Accuracy 98.68% / Best Accuracy: 98.73%\n",
      "[2024-07-04 00:28:31,278] [UTL] [INFO] \tEpoch 18 Accuracy 98.67% / Best Accuracy: 98.73%\n",
      "[2024-07-04 00:28:49,397] [UTL] [INFO] \tEpoch 19 Accuracy 98.72% / Best Accuracy: 98.73%\n",
      "[2024-07-04 00:29:07,552] [UTL] [INFO] \tEpoch 20 Accuracy 98.74% / Best Accuracy: 98.74%\n",
      "[2024-07-04 00:29:25,631] [UTL] [INFO] \tEpoch 21 Accuracy 98.70% / Best Accuracy: 98.74%\n",
      "[2024-07-04 00:29:43,737] [UTL] [INFO] \tEpoch 22 Accuracy 98.72% / Best Accuracy: 98.74%\n",
      "[2024-07-04 00:30:01,881] [UTL] [INFO] \tEpoch 23 Accuracy 98.71% / Best Accuracy: 98.74%\n",
      "[2024-07-04 00:30:20,039] [UTL] [INFO] \tEpoch 24 Accuracy 98.69% / Best Accuracy: 98.74%\n",
      "[2024-07-04 00:30:38,142] [UTL] [INFO] \tEpoch 25 Accuracy 98.70% / Best Accuracy: 98.74%\n",
      "[2024-07-04 00:30:56,301] [UTL] [INFO] \tEpoch 26 Accuracy 98.75% / Best Accuracy: 98.75%\n",
      "[2024-07-04 00:31:14,433] [UTL] [INFO] \tEpoch 27 Accuracy 98.73% / Best Accuracy: 98.75%\n",
      "[2024-07-04 00:31:32,619] [UTL] [INFO] \tEpoch 28 Accuracy 98.73% / Best Accuracy: 98.75%\n",
      "[2024-07-04 00:31:50,783] [UTL] [INFO] \tEpoch 29 Accuracy 98.67% / Best Accuracy: 98.75%\n",
      "[2024-07-04 00:32:08,941] [UTL] [INFO] \tEpoch 30 Accuracy 98.73% / Best Accuracy: 98.75%\n",
      "[2024-07-04 00:32:27,192] [UTL] [INFO] \tEpoch 31 Accuracy 98.73% / Best Accuracy: 98.75%\n",
      "[2024-07-04 00:32:45,362] [UTL] [INFO] \tEpoch 32 Accuracy 98.74% / Best Accuracy: 98.75%\n",
      "[2024-07-04 00:33:03,569] [UTL] [INFO] \tEpoch 33 Accuracy 98.69% / Best Accuracy: 98.75%\n",
      "[2024-07-04 00:33:21,760] [UTL] [INFO] \tEpoch 34 Accuracy 98.71% / Best Accuracy: 98.75%\n",
      "[2024-07-04 00:33:39,874] [UTL] [INFO] \tEpoch 35 Accuracy 98.71% / Best Accuracy: 98.75%\n",
      "[2024-07-04 00:33:57,950] [UTL] [INFO] \tEpoch 36 Accuracy 98.69% / Best Accuracy: 98.75%\n",
      "[2024-07-04 00:34:16,098] [UTL] [INFO] \tEpoch 37 Accuracy 98.73% / Best Accuracy: 98.75%\n",
      "[2024-07-04 00:34:34,281] [UTL] [INFO] \tEpoch 38 Accuracy 98.73% / Best Accuracy: 98.75%\n",
      "[2024-07-04 00:34:52,465] [UTL] [INFO] \tEpoch 39 Accuracy 98.69% / Best Accuracy: 98.75%\n",
      "[2024-07-04 00:35:10,581] [UTL] [INFO] \tEpoch 40 Accuracy 98.72% / Best Accuracy: 98.75%\n",
      "[2024-07-04 00:35:28,779] [UTL] [INFO] \tEpoch 41 Accuracy 98.70% / Best Accuracy: 98.75%\n",
      "[2024-07-04 00:35:46,896] [UTL] [INFO] \tEpoch 42 Accuracy 98.66% / Best Accuracy: 98.75%\n",
      "[2024-07-04 00:36:05,036] [UTL] [INFO] \tEpoch 43 Accuracy 98.70% / Best Accuracy: 98.75%\n",
      "[2024-07-04 00:36:23,133] [UTL] [INFO] \tEpoch 44 Accuracy 98.70% / Best Accuracy: 98.75%\n",
      "[2024-07-04 00:36:41,342] [UTL] [INFO] \tEpoch 45 Accuracy 98.71% / Best Accuracy: 98.75%\n",
      "[2024-07-04 00:36:59,536] [UTL] [INFO] \tEpoch 46 Accuracy 98.69% / Best Accuracy: 98.75%\n",
      "[2024-07-04 00:37:17,759] [UTL] [INFO] \tEpoch 47 Accuracy 98.72% / Best Accuracy: 98.75%\n",
      "[2024-07-04 00:37:36,011] [UTL] [INFO] \tEpoch 48 Accuracy 98.72% / Best Accuracy: 98.75%\n",
      "[2024-07-04 00:37:54,155] [UTL] [INFO] \tEpoch 49 Accuracy 98.69% / Best Accuracy: 98.75%\n",
      "[2024-07-04 00:38:12,428] [UTL] [INFO] \tEpoch 50 Accuracy 98.72% / Best Accuracy: 98.75%\n",
      "[2024-07-04 00:38:12,428] [UTL] [INFO] Finetuning completed\n",
      "[2024-07-04 00:38:12,934] [UTL] [INFO] Model saved to ../Pretrained/ECG-Raw/resnet18_ep50_i128_r0.6_balance/resnet18_ep50_i128_r0.6_balance.pth\n",
      "[2024-07-04 00:50:39,953] [UTL] [INFO] Begin finetuning...\n",
      "[2024-07-04 00:50:58,073] [UTL] [INFO] \tEpoch 1 Accuracy 98.31% / Best Accuracy: 98.31%\n",
      "[2024-07-04 00:51:16,158] [UTL] [INFO] \tEpoch 2 Accuracy 98.47% / Best Accuracy: 98.47%\n",
      "[2024-07-04 00:51:34,179] [UTL] [INFO] \tEpoch 3 Accuracy 98.50% / Best Accuracy: 98.50%\n",
      "[2024-07-04 00:51:52,157] [UTL] [INFO] \tEpoch 4 Accuracy 98.64% / Best Accuracy: 98.64%\n",
      "[2024-07-04 00:52:10,258] [UTL] [INFO] \tEpoch 5 Accuracy 98.63% / Best Accuracy: 98.64%\n",
      "[2024-07-04 00:52:28,286] [UTL] [INFO] \tEpoch 6 Accuracy 98.66% / Best Accuracy: 98.66%\n",
      "[2024-07-04 00:52:46,343] [UTL] [INFO] \tEpoch 7 Accuracy 98.64% / Best Accuracy: 98.66%\n",
      "[2024-07-04 00:53:04,448] [UTL] [INFO] \tEpoch 8 Accuracy 98.71% / Best Accuracy: 98.71%\n",
      "[2024-07-04 00:53:22,572] [UTL] [INFO] \tEpoch 9 Accuracy 98.70% / Best Accuracy: 98.71%\n",
      "[2024-07-04 00:53:40,589] [UTL] [INFO] \tEpoch 10 Accuracy 98.71% / Best Accuracy: 98.71%\n",
      "[2024-07-04 00:53:58,736] [UTL] [INFO] \tEpoch 11 Accuracy 98.72% / Best Accuracy: 98.72%\n",
      "[2024-07-04 00:54:16,829] [UTL] [INFO] \tEpoch 12 Accuracy 98.72% / Best Accuracy: 98.72%\n",
      "[2024-07-04 00:54:34,849] [UTL] [INFO] \tEpoch 13 Accuracy 98.70% / Best Accuracy: 98.72%\n",
      "[2024-07-04 00:54:53,038] [UTL] [INFO] \tEpoch 14 Accuracy 98.71% / Best Accuracy: 98.72%\n",
      "[2024-07-04 00:55:11,154] [UTL] [INFO] \tEpoch 15 Accuracy 98.70% / Best Accuracy: 98.72%\n",
      "[2024-07-04 00:55:29,242] [UTL] [INFO] \tEpoch 16 Accuracy 98.75% / Best Accuracy: 98.75%\n",
      "[2024-07-04 00:55:47,312] [UTL] [INFO] \tEpoch 17 Accuracy 98.71% / Best Accuracy: 98.75%\n",
      "[2024-07-04 00:56:05,398] [UTL] [INFO] \tEpoch 18 Accuracy 98.70% / Best Accuracy: 98.75%\n",
      "[2024-07-04 00:56:23,477] [UTL] [INFO] \tEpoch 19 Accuracy 98.71% / Best Accuracy: 98.75%\n",
      "[2024-07-04 00:56:41,605] [UTL] [INFO] \tEpoch 20 Accuracy 98.72% / Best Accuracy: 98.75%\n",
      "[2024-07-04 00:56:59,754] [UTL] [INFO] \tEpoch 21 Accuracy 98.69% / Best Accuracy: 98.75%\n",
      "[2024-07-04 00:57:17,910] [UTL] [INFO] \tEpoch 22 Accuracy 98.71% / Best Accuracy: 98.75%\n",
      "[2024-07-04 00:57:36,029] [UTL] [INFO] \tEpoch 23 Accuracy 98.74% / Best Accuracy: 98.75%\n",
      "[2024-07-04 00:57:54,177] [UTL] [INFO] \tEpoch 24 Accuracy 98.71% / Best Accuracy: 98.75%\n",
      "[2024-07-04 00:58:12,299] [UTL] [INFO] \tEpoch 25 Accuracy 98.69% / Best Accuracy: 98.75%\n",
      "[2024-07-04 00:58:30,504] [UTL] [INFO] \tEpoch 26 Accuracy 98.71% / Best Accuracy: 98.75%\n",
      "[2024-07-04 00:58:48,707] [UTL] [INFO] \tEpoch 27 Accuracy 98.70% / Best Accuracy: 98.75%\n",
      "[2024-07-04 00:59:06,842] [UTL] [INFO] \tEpoch 28 Accuracy 98.70% / Best Accuracy: 98.75%\n",
      "[2024-07-04 00:59:25,020] [UTL] [INFO] \tEpoch 29 Accuracy 98.70% / Best Accuracy: 98.75%\n",
      "[2024-07-04 00:59:43,082] [UTL] [INFO] \tEpoch 30 Accuracy 98.72% / Best Accuracy: 98.75%\n",
      "[2024-07-04 01:00:01,239] [UTL] [INFO] \tEpoch 31 Accuracy 98.73% / Best Accuracy: 98.75%\n",
      "[2024-07-04 01:00:19,413] [UTL] [INFO] \tEpoch 32 Accuracy 98.73% / Best Accuracy: 98.75%\n",
      "[2024-07-04 01:00:37,543] [UTL] [INFO] \tEpoch 33 Accuracy 98.73% / Best Accuracy: 98.75%\n",
      "[2024-07-04 01:00:55,696] [UTL] [INFO] \tEpoch 34 Accuracy 98.72% / Best Accuracy: 98.75%\n",
      "[2024-07-04 01:01:13,875] [UTL] [INFO] \tEpoch 35 Accuracy 98.70% / Best Accuracy: 98.75%\n",
      "[2024-07-04 01:01:32,075] [UTL] [INFO] \tEpoch 36 Accuracy 98.72% / Best Accuracy: 98.75%\n",
      "[2024-07-04 01:01:50,210] [UTL] [INFO] \tEpoch 37 Accuracy 98.73% / Best Accuracy: 98.75%\n",
      "[2024-07-04 01:02:08,299] [UTL] [INFO] \tEpoch 38 Accuracy 98.69% / Best Accuracy: 98.75%\n",
      "[2024-07-04 01:02:26,464] [UTL] [INFO] \tEpoch 39 Accuracy 98.71% / Best Accuracy: 98.75%\n",
      "[2024-07-04 01:02:44,689] [UTL] [INFO] \tEpoch 40 Accuracy 98.72% / Best Accuracy: 98.75%\n",
      "[2024-07-04 01:03:02,778] [UTL] [INFO] \tEpoch 41 Accuracy 98.74% / Best Accuracy: 98.75%\n",
      "[2024-07-04 01:03:20,948] [UTL] [INFO] \tEpoch 42 Accuracy 98.72% / Best Accuracy: 98.75%\n",
      "[2024-07-04 01:03:39,018] [UTL] [INFO] \tEpoch 43 Accuracy 98.72% / Best Accuracy: 98.75%\n",
      "[2024-07-04 01:03:57,218] [UTL] [INFO] \tEpoch 44 Accuracy 98.71% / Best Accuracy: 98.75%\n",
      "[2024-07-04 01:04:15,324] [UTL] [INFO] \tEpoch 45 Accuracy 98.73% / Best Accuracy: 98.75%\n",
      "[2024-07-04 01:04:33,503] [UTL] [INFO] \tEpoch 46 Accuracy 98.70% / Best Accuracy: 98.75%\n",
      "[2024-07-04 01:04:51,688] [UTL] [INFO] \tEpoch 47 Accuracy 98.73% / Best Accuracy: 98.75%\n",
      "[2024-07-04 01:05:09,867] [UTL] [INFO] \tEpoch 48 Accuracy 98.71% / Best Accuracy: 98.75%\n",
      "[2024-07-04 01:05:28,521] [UTL] [INFO] \tEpoch 49 Accuracy 98.71% / Best Accuracy: 98.75%\n",
      "[2024-07-04 01:05:47,000] [UTL] [INFO] \tEpoch 50 Accuracy 98.70% / Best Accuracy: 98.75%\n",
      "[2024-07-04 01:05:47,001] [UTL] [INFO] Finetuning completed\n",
      "[2024-07-04 01:05:47,050] [UTL] [INFO] Model saved to ../Pretrained/ECG-Raw/resnet18_ep50_i128_r0.6_random/resnet18_ep50_i128_r0.6_random.pth\n",
      "[2024-07-04 01:12:52,804] [UTL] [INFO] Begin finetuning...\n",
      "[2024-07-04 01:13:06,355] [UTL] [INFO] \tEpoch 1 Accuracy 98.05% / Best Accuracy: 98.05%\n",
      "[2024-07-04 01:13:19,546] [UTL] [INFO] \tEpoch 2 Accuracy 97.39% / Best Accuracy: 98.05%\n",
      "[2024-07-04 01:13:32,760] [UTL] [INFO] \tEpoch 3 Accuracy 98.22% / Best Accuracy: 98.22%\n",
      "[2024-07-04 01:13:45,965] [UTL] [INFO] \tEpoch 4 Accuracy 98.24% / Best Accuracy: 98.24%\n",
      "[2024-07-04 01:13:59,213] [UTL] [INFO] \tEpoch 5 Accuracy 98.30% / Best Accuracy: 98.30%\n",
      "[2024-07-04 01:14:12,469] [UTL] [INFO] \tEpoch 6 Accuracy 98.43% / Best Accuracy: 98.43%\n",
      "[2024-07-04 01:14:25,701] [UTL] [INFO] \tEpoch 7 Accuracy 98.46% / Best Accuracy: 98.46%\n",
      "[2024-07-04 01:14:38,994] [UTL] [INFO] \tEpoch 8 Accuracy 98.49% / Best Accuracy: 98.49%\n",
      "[2024-07-04 01:14:52,218] [UTL] [INFO] \tEpoch 9 Accuracy 98.43% / Best Accuracy: 98.49%\n",
      "[2024-07-04 01:15:05,468] [UTL] [INFO] \tEpoch 10 Accuracy 98.48% / Best Accuracy: 98.49%\n",
      "[2024-07-04 01:15:18,788] [UTL] [INFO] \tEpoch 11 Accuracy 98.51% / Best Accuracy: 98.51%\n",
      "[2024-07-04 01:15:32,162] [UTL] [INFO] \tEpoch 12 Accuracy 98.53% / Best Accuracy: 98.53%\n",
      "[2024-07-04 01:15:45,402] [UTL] [INFO] \tEpoch 13 Accuracy 98.50% / Best Accuracy: 98.53%\n",
      "[2024-07-04 01:15:58,651] [UTL] [INFO] \tEpoch 14 Accuracy 98.49% / Best Accuracy: 98.53%\n",
      "[2024-07-04 01:16:11,900] [UTL] [INFO] \tEpoch 15 Accuracy 98.53% / Best Accuracy: 98.53%\n",
      "[2024-07-04 01:16:25,240] [UTL] [INFO] \tEpoch 16 Accuracy 98.48% / Best Accuracy: 98.53%\n",
      "[2024-07-04 01:16:38,545] [UTL] [INFO] \tEpoch 17 Accuracy 98.47% / Best Accuracy: 98.53%\n",
      "[2024-07-04 01:16:51,802] [UTL] [INFO] \tEpoch 18 Accuracy 98.51% / Best Accuracy: 98.53%\n",
      "[2024-07-04 01:17:05,136] [UTL] [INFO] \tEpoch 19 Accuracy 98.61% / Best Accuracy: 98.61%\n",
      "[2024-07-04 01:17:18,407] [UTL] [INFO] \tEpoch 20 Accuracy 98.44% / Best Accuracy: 98.61%\n",
      "[2024-07-04 01:17:31,678] [UTL] [INFO] \tEpoch 21 Accuracy 98.50% / Best Accuracy: 98.61%\n",
      "[2024-07-04 01:17:44,988] [UTL] [INFO] \tEpoch 22 Accuracy 98.46% / Best Accuracy: 98.61%\n",
      "[2024-07-04 01:17:58,324] [UTL] [INFO] \tEpoch 23 Accuracy 98.55% / Best Accuracy: 98.61%\n",
      "[2024-07-04 01:18:11,653] [UTL] [INFO] \tEpoch 24 Accuracy 98.43% / Best Accuracy: 98.61%\n",
      "[2024-07-04 01:18:24,921] [UTL] [INFO] \tEpoch 25 Accuracy 98.50% / Best Accuracy: 98.61%\n",
      "[2024-07-04 01:18:38,215] [UTL] [INFO] \tEpoch 26 Accuracy 98.46% / Best Accuracy: 98.61%\n",
      "[2024-07-04 01:18:51,554] [UTL] [INFO] \tEpoch 27 Accuracy 98.49% / Best Accuracy: 98.61%\n",
      "[2024-07-04 01:19:04,854] [UTL] [INFO] \tEpoch 28 Accuracy 98.46% / Best Accuracy: 98.61%\n",
      "[2024-07-04 01:19:18,206] [UTL] [INFO] \tEpoch 29 Accuracy 98.48% / Best Accuracy: 98.61%\n",
      "[2024-07-04 01:19:31,519] [UTL] [INFO] \tEpoch 30 Accuracy 98.53% / Best Accuracy: 98.61%\n",
      "[2024-07-04 01:19:44,812] [UTL] [INFO] \tEpoch 31 Accuracy 98.53% / Best Accuracy: 98.61%\n",
      "[2024-07-04 01:19:58,144] [UTL] [INFO] \tEpoch 32 Accuracy 98.43% / Best Accuracy: 98.61%\n",
      "[2024-07-04 01:20:11,535] [UTL] [INFO] \tEpoch 33 Accuracy 98.51% / Best Accuracy: 98.61%\n",
      "[2024-07-04 01:20:24,787] [UTL] [INFO] \tEpoch 34 Accuracy 98.54% / Best Accuracy: 98.61%\n",
      "[2024-07-04 01:20:38,173] [UTL] [INFO] \tEpoch 35 Accuracy 98.52% / Best Accuracy: 98.61%\n",
      "[2024-07-04 01:20:51,425] [UTL] [INFO] \tEpoch 36 Accuracy 98.55% / Best Accuracy: 98.61%\n",
      "[2024-07-04 01:21:04,759] [UTL] [INFO] \tEpoch 37 Accuracy 98.50% / Best Accuracy: 98.61%\n",
      "[2024-07-04 01:21:18,061] [UTL] [INFO] \tEpoch 38 Accuracy 98.51% / Best Accuracy: 98.61%\n",
      "[2024-07-04 01:21:31,433] [UTL] [INFO] \tEpoch 39 Accuracy 98.51% / Best Accuracy: 98.61%\n",
      "[2024-07-04 01:21:44,744] [UTL] [INFO] \tEpoch 40 Accuracy 98.49% / Best Accuracy: 98.61%\n",
      "[2024-07-04 01:21:58,036] [UTL] [INFO] \tEpoch 41 Accuracy 98.51% / Best Accuracy: 98.61%\n",
      "[2024-07-04 01:22:11,388] [UTL] [INFO] \tEpoch 42 Accuracy 98.52% / Best Accuracy: 98.61%\n",
      "[2024-07-04 01:22:24,807] [UTL] [INFO] \tEpoch 43 Accuracy 98.50% / Best Accuracy: 98.61%\n",
      "[2024-07-04 01:22:38,203] [UTL] [INFO] \tEpoch 44 Accuracy 98.54% / Best Accuracy: 98.61%\n",
      "[2024-07-04 01:22:51,565] [UTL] [INFO] \tEpoch 45 Accuracy 98.47% / Best Accuracy: 98.61%\n",
      "[2024-07-04 01:23:04,951] [UTL] [INFO] \tEpoch 46 Accuracy 98.51% / Best Accuracy: 98.61%\n",
      "[2024-07-04 01:23:18,311] [UTL] [INFO] \tEpoch 47 Accuracy 98.50% / Best Accuracy: 98.61%\n",
      "[2024-07-04 01:23:31,643] [UTL] [INFO] \tEpoch 48 Accuracy 98.53% / Best Accuracy: 98.61%\n",
      "[2024-07-04 01:23:44,936] [UTL] [INFO] \tEpoch 49 Accuracy 98.56% / Best Accuracy: 98.61%\n",
      "[2024-07-04 01:23:58,445] [UTL] [INFO] \tEpoch 50 Accuracy 98.52% / Best Accuracy: 98.61%\n",
      "[2024-07-04 01:23:58,445] [UTL] [INFO] Finetuning completed\n",
      "[2024-07-04 01:23:58,495] [UTL] [INFO] Model saved to ../Pretrained/ECG-Raw/resnet18_ep50_i128_r0.4_balance/resnet18_ep50_i128_r0.4_balance.pth\n",
      "[2024-07-04 01:29:19,201] [UTL] [INFO] Begin finetuning...\n",
      "[2024-07-04 01:29:32,654] [UTL] [INFO] \tEpoch 1 Accuracy 98.00% / Best Accuracy: 98.00%\n",
      "[2024-07-04 01:29:45,882] [UTL] [INFO] \tEpoch 2 Accuracy 98.28% / Best Accuracy: 98.28%\n",
      "[2024-07-04 01:29:59,145] [UTL] [INFO] \tEpoch 3 Accuracy 98.36% / Best Accuracy: 98.36%\n",
      "[2024-07-04 01:30:12,401] [UTL] [INFO] \tEpoch 4 Accuracy 98.48% / Best Accuracy: 98.48%\n",
      "[2024-07-04 01:30:25,802] [UTL] [INFO] \tEpoch 5 Accuracy 98.51% / Best Accuracy: 98.51%\n",
      "[2024-07-04 01:30:39,110] [UTL] [INFO] \tEpoch 6 Accuracy 98.49% / Best Accuracy: 98.51%\n",
      "[2024-07-04 01:30:52,461] [UTL] [INFO] \tEpoch 7 Accuracy 98.56% / Best Accuracy: 98.56%\n",
      "[2024-07-04 01:31:05,866] [UTL] [INFO] \tEpoch 8 Accuracy 98.58% / Best Accuracy: 98.58%\n",
      "[2024-07-04 01:31:19,231] [UTL] [INFO] \tEpoch 9 Accuracy 98.62% / Best Accuracy: 98.62%\n",
      "[2024-07-04 01:31:32,628] [UTL] [INFO] \tEpoch 10 Accuracy 98.65% / Best Accuracy: 98.65%\n",
      "[2024-07-04 01:31:46,007] [UTL] [INFO] \tEpoch 11 Accuracy 98.64% / Best Accuracy: 98.65%\n",
      "[2024-07-04 01:31:59,368] [UTL] [INFO] \tEpoch 12 Accuracy 98.63% / Best Accuracy: 98.65%\n",
      "[2024-07-04 01:32:12,788] [UTL] [INFO] \tEpoch 13 Accuracy 98.59% / Best Accuracy: 98.65%\n",
      "[2024-07-04 01:32:26,195] [UTL] [INFO] \tEpoch 14 Accuracy 98.63% / Best Accuracy: 98.65%\n",
      "[2024-07-04 01:32:39,677] [UTL] [INFO] \tEpoch 15 Accuracy 98.62% / Best Accuracy: 98.65%\n",
      "[2024-07-04 01:32:53,124] [UTL] [INFO] \tEpoch 16 Accuracy 98.63% / Best Accuracy: 98.65%\n",
      "[2024-07-04 01:33:06,520] [UTL] [INFO] \tEpoch 17 Accuracy 98.61% / Best Accuracy: 98.65%\n",
      "[2024-07-04 01:33:19,913] [UTL] [INFO] \tEpoch 18 Accuracy 98.63% / Best Accuracy: 98.65%\n",
      "[2024-07-04 01:33:33,368] [UTL] [INFO] \tEpoch 19 Accuracy 98.61% / Best Accuracy: 98.65%\n",
      "[2024-07-04 01:33:46,802] [UTL] [INFO] \tEpoch 20 Accuracy 98.62% / Best Accuracy: 98.65%\n",
      "[2024-07-04 01:34:00,148] [UTL] [INFO] \tEpoch 21 Accuracy 98.64% / Best Accuracy: 98.65%\n",
      "[2024-07-04 01:34:13,621] [UTL] [INFO] \tEpoch 22 Accuracy 98.61% / Best Accuracy: 98.65%\n",
      "[2024-07-04 01:34:27,000] [UTL] [INFO] \tEpoch 23 Accuracy 98.63% / Best Accuracy: 98.65%\n",
      "[2024-07-04 01:34:40,362] [UTL] [INFO] \tEpoch 24 Accuracy 98.62% / Best Accuracy: 98.65%\n",
      "[2024-07-04 01:34:53,779] [UTL] [INFO] \tEpoch 25 Accuracy 98.65% / Best Accuracy: 98.65%\n",
      "[2024-07-04 01:35:07,114] [UTL] [INFO] \tEpoch 26 Accuracy 98.65% / Best Accuracy: 98.65%\n",
      "[2024-07-04 01:35:20,490] [UTL] [INFO] \tEpoch 27 Accuracy 98.61% / Best Accuracy: 98.65%\n",
      "[2024-07-04 01:35:33,909] [UTL] [INFO] \tEpoch 28 Accuracy 98.63% / Best Accuracy: 98.65%\n",
      "[2024-07-04 01:35:47,343] [UTL] [INFO] \tEpoch 29 Accuracy 98.63% / Best Accuracy: 98.65%\n",
      "[2024-07-04 01:36:00,912] [UTL] [INFO] \tEpoch 30 Accuracy 98.66% / Best Accuracy: 98.66%\n",
      "[2024-07-04 01:36:14,291] [UTL] [INFO] \tEpoch 31 Accuracy 98.64% / Best Accuracy: 98.66%\n",
      "[2024-07-04 01:36:27,582] [UTL] [INFO] \tEpoch 32 Accuracy 98.62% / Best Accuracy: 98.66%\n",
      "[2024-07-04 01:36:40,951] [UTL] [INFO] \tEpoch 33 Accuracy 98.61% / Best Accuracy: 98.66%\n",
      "[2024-07-04 01:36:54,283] [UTL] [INFO] \tEpoch 34 Accuracy 98.64% / Best Accuracy: 98.66%\n",
      "[2024-07-04 01:37:07,614] [UTL] [INFO] \tEpoch 35 Accuracy 98.65% / Best Accuracy: 98.66%\n",
      "[2024-07-04 01:37:20,964] [UTL] [INFO] \tEpoch 36 Accuracy 98.64% / Best Accuracy: 98.66%\n",
      "[2024-07-04 01:37:34,235] [UTL] [INFO] \tEpoch 37 Accuracy 98.64% / Best Accuracy: 98.66%\n",
      "[2024-07-04 01:37:47,560] [UTL] [INFO] \tEpoch 38 Accuracy 98.62% / Best Accuracy: 98.66%\n",
      "[2024-07-04 01:38:00,894] [UTL] [INFO] \tEpoch 39 Accuracy 98.61% / Best Accuracy: 98.66%\n",
      "[2024-07-04 01:38:14,209] [UTL] [INFO] \tEpoch 40 Accuracy 98.62% / Best Accuracy: 98.66%\n",
      "[2024-07-04 01:38:27,495] [UTL] [INFO] \tEpoch 41 Accuracy 98.62% / Best Accuracy: 98.66%\n",
      "[2024-07-04 01:38:40,806] [UTL] [INFO] \tEpoch 42 Accuracy 98.64% / Best Accuracy: 98.66%\n",
      "[2024-07-04 01:38:54,188] [UTL] [INFO] \tEpoch 43 Accuracy 98.64% / Best Accuracy: 98.66%\n",
      "[2024-07-04 01:39:07,545] [UTL] [INFO] \tEpoch 44 Accuracy 98.62% / Best Accuracy: 98.66%\n",
      "[2024-07-04 01:39:20,870] [UTL] [INFO] \tEpoch 45 Accuracy 98.63% / Best Accuracy: 98.66%\n",
      "[2024-07-04 01:39:34,212] [UTL] [INFO] \tEpoch 46 Accuracy 98.62% / Best Accuracy: 98.66%\n",
      "[2024-07-04 01:39:47,556] [UTL] [INFO] \tEpoch 47 Accuracy 98.60% / Best Accuracy: 98.66%\n",
      "[2024-07-04 01:40:00,951] [UTL] [INFO] \tEpoch 48 Accuracy 98.63% / Best Accuracy: 98.66%\n",
      "[2024-07-04 01:40:14,261] [UTL] [INFO] \tEpoch 49 Accuracy 98.62% / Best Accuracy: 98.66%\n",
      "[2024-07-04 01:40:27,583] [UTL] [INFO] \tEpoch 50 Accuracy 98.64% / Best Accuracy: 98.66%\n",
      "[2024-07-04 01:40:27,583] [UTL] [INFO] Finetuning completed\n",
      "[2024-07-04 01:40:28,088] [UTL] [INFO] Model saved to ../Pretrained/ECG-Raw/resnet18_ep50_i128_r0.4_random/resnet18_ep50_i128_r0.4_random.pth\n",
      "[2024-07-04 01:45:03,489] [UTL] [INFO] Begin finetuning...\n",
      "[2024-07-04 01:45:14,618] [UTL] [INFO] \tEpoch 1 Accuracy 97.84% / Best Accuracy: 97.84%\n",
      "[2024-07-04 01:45:25,428] [UTL] [INFO] \tEpoch 2 Accuracy 98.25% / Best Accuracy: 98.25%\n",
      "[2024-07-04 01:45:36,211] [UTL] [INFO] \tEpoch 3 Accuracy 98.14% / Best Accuracy: 98.25%\n",
      "[2024-07-04 01:45:47,027] [UTL] [INFO] \tEpoch 4 Accuracy 98.03% / Best Accuracy: 98.25%\n",
      "[2024-07-04 01:45:57,800] [UTL] [INFO] \tEpoch 5 Accuracy 98.29% / Best Accuracy: 98.29%\n",
      "[2024-07-04 01:46:08,662] [UTL] [INFO] \tEpoch 6 Accuracy 98.23% / Best Accuracy: 98.29%\n",
      "[2024-07-04 01:46:19,539] [UTL] [INFO] \tEpoch 7 Accuracy 98.31% / Best Accuracy: 98.31%\n",
      "[2024-07-04 01:46:30,450] [UTL] [INFO] \tEpoch 8 Accuracy 98.29% / Best Accuracy: 98.31%\n",
      "[2024-07-04 01:46:41,305] [UTL] [INFO] \tEpoch 9 Accuracy 98.34% / Best Accuracy: 98.34%\n",
      "[2024-07-04 01:46:52,252] [UTL] [INFO] \tEpoch 10 Accuracy 98.29% / Best Accuracy: 98.34%\n",
      "[2024-07-04 01:47:03,145] [UTL] [INFO] \tEpoch 11 Accuracy 98.30% / Best Accuracy: 98.34%\n",
      "[2024-07-04 01:47:14,054] [UTL] [INFO] \tEpoch 12 Accuracy 98.30% / Best Accuracy: 98.34%\n",
      "[2024-07-04 01:47:24,916] [UTL] [INFO] \tEpoch 13 Accuracy 98.39% / Best Accuracy: 98.39%\n",
      "[2024-07-04 01:47:35,826] [UTL] [INFO] \tEpoch 14 Accuracy 98.29% / Best Accuracy: 98.39%\n",
      "[2024-07-04 01:47:46,733] [UTL] [INFO] \tEpoch 15 Accuracy 98.32% / Best Accuracy: 98.39%\n",
      "[2024-07-04 01:47:57,652] [UTL] [INFO] \tEpoch 16 Accuracy 98.40% / Best Accuracy: 98.40%\n",
      "[2024-07-04 01:48:08,466] [UTL] [INFO] \tEpoch 17 Accuracy 98.40% / Best Accuracy: 98.40%\n",
      "[2024-07-04 01:48:19,315] [UTL] [INFO] \tEpoch 18 Accuracy 98.37% / Best Accuracy: 98.40%\n",
      "[2024-07-04 01:48:30,267] [UTL] [INFO] \tEpoch 19 Accuracy 98.41% / Best Accuracy: 98.41%\n",
      "[2024-07-04 01:48:41,108] [UTL] [INFO] \tEpoch 20 Accuracy 98.35% / Best Accuracy: 98.41%\n",
      "[2024-07-04 01:48:51,922] [UTL] [INFO] \tEpoch 21 Accuracy 98.29% / Best Accuracy: 98.41%\n",
      "[2024-07-04 01:49:02,822] [UTL] [INFO] \tEpoch 22 Accuracy 98.30% / Best Accuracy: 98.41%\n",
      "[2024-07-04 01:49:13,734] [UTL] [INFO] \tEpoch 23 Accuracy 98.38% / Best Accuracy: 98.41%\n",
      "[2024-07-04 01:49:24,609] [UTL] [INFO] \tEpoch 24 Accuracy 98.34% / Best Accuracy: 98.41%\n",
      "[2024-07-04 01:49:35,470] [UTL] [INFO] \tEpoch 25 Accuracy 98.39% / Best Accuracy: 98.41%\n",
      "[2024-07-04 01:49:46,363] [UTL] [INFO] \tEpoch 26 Accuracy 98.21% / Best Accuracy: 98.41%\n",
      "[2024-07-04 01:49:57,204] [UTL] [INFO] \tEpoch 27 Accuracy 98.24% / Best Accuracy: 98.41%\n",
      "[2024-07-04 01:50:08,069] [UTL] [INFO] \tEpoch 28 Accuracy 98.24% / Best Accuracy: 98.41%\n",
      "[2024-07-04 01:50:19,047] [UTL] [INFO] \tEpoch 29 Accuracy 98.31% / Best Accuracy: 98.41%\n",
      "[2024-07-04 01:50:29,985] [UTL] [INFO] \tEpoch 30 Accuracy 98.36% / Best Accuracy: 98.41%\n",
      "[2024-07-04 01:50:40,963] [UTL] [INFO] \tEpoch 31 Accuracy 98.37% / Best Accuracy: 98.41%\n",
      "[2024-07-04 01:50:51,845] [UTL] [INFO] \tEpoch 32 Accuracy 98.27% / Best Accuracy: 98.41%\n",
      "[2024-07-04 01:51:02,727] [UTL] [INFO] \tEpoch 33 Accuracy 98.36% / Best Accuracy: 98.41%\n",
      "[2024-07-04 01:51:13,626] [UTL] [INFO] \tEpoch 34 Accuracy 98.35% / Best Accuracy: 98.41%\n",
      "[2024-07-04 01:51:24,605] [UTL] [INFO] \tEpoch 35 Accuracy 98.32% / Best Accuracy: 98.41%\n",
      "[2024-07-04 01:51:35,506] [UTL] [INFO] \tEpoch 36 Accuracy 98.27% / Best Accuracy: 98.41%\n",
      "[2024-07-04 01:51:46,422] [UTL] [INFO] \tEpoch 37 Accuracy 98.31% / Best Accuracy: 98.41%\n",
      "[2024-07-04 01:51:57,368] [UTL] [INFO] \tEpoch 38 Accuracy 98.35% / Best Accuracy: 98.41%\n",
      "[2024-07-04 01:52:08,288] [UTL] [INFO] \tEpoch 39 Accuracy 98.34% / Best Accuracy: 98.41%\n",
      "[2024-07-04 01:52:19,148] [UTL] [INFO] \tEpoch 40 Accuracy 98.28% / Best Accuracy: 98.41%\n",
      "[2024-07-04 01:52:30,086] [UTL] [INFO] \tEpoch 41 Accuracy 98.34% / Best Accuracy: 98.41%\n",
      "[2024-07-04 01:52:40,969] [UTL] [INFO] \tEpoch 42 Accuracy 98.34% / Best Accuracy: 98.41%\n",
      "[2024-07-04 01:52:51,888] [UTL] [INFO] \tEpoch 43 Accuracy 98.34% / Best Accuracy: 98.41%\n",
      "[2024-07-04 01:53:02,873] [UTL] [INFO] \tEpoch 44 Accuracy 98.37% / Best Accuracy: 98.41%\n",
      "[2024-07-04 01:53:13,829] [UTL] [INFO] \tEpoch 45 Accuracy 98.32% / Best Accuracy: 98.41%\n",
      "[2024-07-04 01:53:24,682] [UTL] [INFO] \tEpoch 46 Accuracy 98.29% / Best Accuracy: 98.41%\n",
      "[2024-07-04 01:53:35,571] [UTL] [INFO] \tEpoch 47 Accuracy 98.36% / Best Accuracy: 98.41%\n",
      "[2024-07-04 01:53:46,546] [UTL] [INFO] \tEpoch 48 Accuracy 98.32% / Best Accuracy: 98.41%\n",
      "[2024-07-04 01:53:57,518] [UTL] [INFO] \tEpoch 49 Accuracy 98.38% / Best Accuracy: 98.41%\n",
      "[2024-07-04 01:54:08,450] [UTL] [INFO] \tEpoch 50 Accuracy 98.23% / Best Accuracy: 98.41%\n",
      "[2024-07-04 01:54:08,451] [UTL] [INFO] Finetuning completed\n",
      "[2024-07-04 01:54:08,498] [UTL] [INFO] Model saved to ../Pretrained/ECG-Raw/resnet18_ep50_i128_r0.3_balance/resnet18_ep50_i128_r0.3_balance.pth\n",
      "[2024-07-04 01:59:50,340] [UTL] [INFO] Begin finetuning...\n",
      "[2024-07-04 02:00:01,679] [UTL] [INFO] \tEpoch 1 Accuracy 97.29% / Best Accuracy: 97.29%\n",
      "[2024-07-04 02:00:12,811] [UTL] [INFO] \tEpoch 2 Accuracy 98.09% / Best Accuracy: 98.09%\n",
      "[2024-07-04 02:00:23,905] [UTL] [INFO] \tEpoch 3 Accuracy 98.31% / Best Accuracy: 98.31%\n",
      "[2024-07-04 02:00:35,102] [UTL] [INFO] \tEpoch 4 Accuracy 98.34% / Best Accuracy: 98.34%\n",
      "[2024-07-04 02:00:46,336] [UTL] [INFO] \tEpoch 5 Accuracy 98.47% / Best Accuracy: 98.47%\n",
      "[2024-07-04 02:00:57,510] [UTL] [INFO] \tEpoch 6 Accuracy 98.49% / Best Accuracy: 98.49%\n",
      "[2024-07-04 02:01:08,644] [UTL] [INFO] \tEpoch 7 Accuracy 98.48% / Best Accuracy: 98.49%\n",
      "[2024-07-04 02:01:19,877] [UTL] [INFO] \tEpoch 8 Accuracy 98.45% / Best Accuracy: 98.49%\n",
      "[2024-07-04 02:01:31,102] [UTL] [INFO] \tEpoch 9 Accuracy 98.50% / Best Accuracy: 98.50%\n",
      "[2024-07-04 02:01:42,222] [UTL] [INFO] \tEpoch 10 Accuracy 98.48% / Best Accuracy: 98.50%\n",
      "[2024-07-04 02:01:53,353] [UTL] [INFO] \tEpoch 11 Accuracy 98.51% / Best Accuracy: 98.51%\n",
      "[2024-07-04 02:02:04,650] [UTL] [INFO] \tEpoch 12 Accuracy 98.45% / Best Accuracy: 98.51%\n",
      "[2024-07-04 02:02:15,886] [UTL] [INFO] \tEpoch 13 Accuracy 98.50% / Best Accuracy: 98.51%\n",
      "[2024-07-04 02:02:27,070] [UTL] [INFO] \tEpoch 14 Accuracy 98.51% / Best Accuracy: 98.51%\n",
      "[2024-07-04 02:02:38,270] [UTL] [INFO] \tEpoch 15 Accuracy 98.50% / Best Accuracy: 98.51%\n",
      "[2024-07-04 02:02:49,552] [UTL] [INFO] \tEpoch 16 Accuracy 98.54% / Best Accuracy: 98.54%\n",
      "[2024-07-04 02:03:00,852] [UTL] [INFO] \tEpoch 17 Accuracy 98.52% / Best Accuracy: 98.54%\n",
      "[2024-07-04 02:03:12,115] [UTL] [INFO] \tEpoch 18 Accuracy 98.51% / Best Accuracy: 98.54%\n",
      "[2024-07-04 02:03:23,306] [UTL] [INFO] \tEpoch 19 Accuracy 98.56% / Best Accuracy: 98.56%\n",
      "[2024-07-04 02:03:34,606] [UTL] [INFO] \tEpoch 20 Accuracy 98.49% / Best Accuracy: 98.56%\n",
      "[2024-07-04 02:03:45,827] [UTL] [INFO] \tEpoch 21 Accuracy 98.49% / Best Accuracy: 98.56%\n",
      "[2024-07-04 02:03:56,989] [UTL] [INFO] \tEpoch 22 Accuracy 98.49% / Best Accuracy: 98.56%\n",
      "[2024-07-04 02:04:08,279] [UTL] [INFO] \tEpoch 23 Accuracy 98.49% / Best Accuracy: 98.56%\n",
      "[2024-07-04 02:04:19,531] [UTL] [INFO] \tEpoch 24 Accuracy 98.48% / Best Accuracy: 98.56%\n",
      "[2024-07-04 02:04:30,754] [UTL] [INFO] \tEpoch 25 Accuracy 98.46% / Best Accuracy: 98.56%\n",
      "[2024-07-04 02:04:41,981] [UTL] [INFO] \tEpoch 26 Accuracy 98.52% / Best Accuracy: 98.56%\n",
      "[2024-07-04 02:04:53,199] [UTL] [INFO] \tEpoch 27 Accuracy 98.55% / Best Accuracy: 98.56%\n",
      "[2024-07-04 02:05:04,515] [UTL] [INFO] \tEpoch 28 Accuracy 98.51% / Best Accuracy: 98.56%\n",
      "[2024-07-04 02:05:15,850] [UTL] [INFO] \tEpoch 29 Accuracy 98.53% / Best Accuracy: 98.56%\n",
      "[2024-07-04 02:05:27,086] [UTL] [INFO] \tEpoch 30 Accuracy 98.53% / Best Accuracy: 98.56%\n",
      "[2024-07-04 02:05:38,287] [UTL] [INFO] \tEpoch 31 Accuracy 98.55% / Best Accuracy: 98.56%\n",
      "[2024-07-04 02:05:49,540] [UTL] [INFO] \tEpoch 32 Accuracy 98.54% / Best Accuracy: 98.56%\n",
      "[2024-07-04 02:06:00,794] [UTL] [INFO] \tEpoch 33 Accuracy 98.53% / Best Accuracy: 98.56%\n",
      "[2024-07-04 02:06:12,006] [UTL] [INFO] \tEpoch 34 Accuracy 98.56% / Best Accuracy: 98.56%\n",
      "[2024-07-04 02:06:23,169] [UTL] [INFO] \tEpoch 35 Accuracy 98.55% / Best Accuracy: 98.56%\n",
      "[2024-07-04 02:06:34,483] [UTL] [INFO] \tEpoch 36 Accuracy 98.52% / Best Accuracy: 98.56%\n",
      "[2024-07-04 02:06:45,653] [UTL] [INFO] \tEpoch 37 Accuracy 98.53% / Best Accuracy: 98.56%\n",
      "[2024-07-04 02:06:56,767] [UTL] [INFO] \tEpoch 38 Accuracy 98.52% / Best Accuracy: 98.56%\n",
      "[2024-07-04 02:07:07,871] [UTL] [INFO] \tEpoch 39 Accuracy 98.49% / Best Accuracy: 98.56%\n",
      "[2024-07-04 02:07:19,130] [UTL] [INFO] \tEpoch 40 Accuracy 98.51% / Best Accuracy: 98.56%\n",
      "[2024-07-04 02:07:30,362] [UTL] [INFO] \tEpoch 41 Accuracy 98.51% / Best Accuracy: 98.56%\n",
      "[2024-07-04 02:07:41,698] [UTL] [INFO] \tEpoch 42 Accuracy 98.55% / Best Accuracy: 98.56%\n",
      "[2024-07-04 02:07:52,819] [UTL] [INFO] \tEpoch 43 Accuracy 98.52% / Best Accuracy: 98.56%\n",
      "[2024-07-04 02:08:04,104] [UTL] [INFO] \tEpoch 44 Accuracy 98.51% / Best Accuracy: 98.56%\n",
      "[2024-07-04 02:08:15,419] [UTL] [INFO] \tEpoch 45 Accuracy 98.50% / Best Accuracy: 98.56%\n",
      "[2024-07-04 02:08:26,655] [UTL] [INFO] \tEpoch 46 Accuracy 98.54% / Best Accuracy: 98.56%\n",
      "[2024-07-04 02:08:37,851] [UTL] [INFO] \tEpoch 47 Accuracy 98.52% / Best Accuracy: 98.56%\n",
      "[2024-07-04 02:08:49,096] [UTL] [INFO] \tEpoch 48 Accuracy 98.52% / Best Accuracy: 98.56%\n",
      "[2024-07-04 02:09:00,360] [UTL] [INFO] \tEpoch 49 Accuracy 98.52% / Best Accuracy: 98.56%\n",
      "[2024-07-04 02:09:11,639] [UTL] [INFO] \tEpoch 50 Accuracy 98.53% / Best Accuracy: 98.56%\n",
      "[2024-07-04 02:09:11,639] [UTL] [INFO] Finetuning completed\n",
      "[2024-07-04 02:09:11,689] [UTL] [INFO] Model saved to ../Pretrained/ECG-Raw/resnet18_ep50_i128_r0.3_random/resnet18_ep50_i128_r0.3_random.pth\n"
     ]
    }
   ],
   "source": [
    "for ratio in [0.7, 0.6, 0.5, 0.4, 0.3]:\n",
    "    for method in [\"balance\", \"random\"]:\n",
    "        image_size = 128\n",
    "        dataloader = build_dataloader(\n",
    "            train_path = f\"../Data/MIT-BIH-Raw/Datasets/Resolution-{image_size}/image_unfiltered_i{image_size}_train_r{ratio}_{method}.h5\",\n",
    "            test_path  = f\"../Data/MIT-BIH-Raw/Datasets/Resolution-{image_size}/image_unfiltered_i{image_size}_test.h5\",\n",
    "            transform  = None,\n",
    "            batch_size = 128\n",
    "        )\n",
    "\n",
    "        num_classes = ArrhythmiaLabels.size\n",
    "        model_name  = \"resnet18\"\n",
    "        model       = load_model(model_name)\n",
    "        model.fc    = nn.Linear(512, num_classes)\n",
    "\n",
    "        epochs    = 50\n",
    "        save_name = f\"{model_name}_ep{epochs}_i{image_size}_r{ratio}_{method}\"\n",
    "        save_dir  = f\"../Pretrained/ECG-Raw/Dataset-Shrinking/{save_name}\"\n",
    "\n",
    "        warm_up_dataloader(dataloader[\"train\"])\n",
    "        warm_up_dataloader(dataloader[\"test\"])\n",
    "\n",
    "        training_stats = finetune(\n",
    "            model      = model,\n",
    "            epochs     = epochs,\n",
    "            dataloader = dataloader,\n",
    "            save_path  = f\"{save_dir}/{save_name}.pth\"\n",
    "        )\n",
    "\n",
    "        training_stats.serialize(f\"{save_dir}/stats.txt\")"
   ]
  },
  {
   "cell_type": "markdown",
   "metadata": {},
   "source": [
    "## Window Shrinking"
   ]
  },
  {
   "cell_type": "markdown",
   "metadata": {},
   "source": [
    "### Resize and Cropping"
   ]
  },
  {
   "cell_type": "code",
   "execution_count": 3,
   "metadata": {},
   "outputs": [
    {
     "name": "stderr",
     "output_type": "stream",
     "text": [
      "[2024-07-08 19:00:56,614] [UTL] [INFO] Begin finetuning...\n",
      "[2024-07-08 19:01:29,706] [UTL] [INFO] \tEpoch 1 Accuracy 98.73% / Best Accuracy: 98.73%. Time: 33.091649293899536s\n",
      "[2024-07-08 19:01:57,099] [UTL] [INFO] \tEpoch 2 Accuracy 98.92% / Best Accuracy: 98.92%. Time: 27.39310336112976s\n",
      "[2024-07-08 19:02:24,701] [UTL] [INFO] \tEpoch 3 Accuracy 98.95% / Best Accuracy: 98.95%. Time: 27.601943969726562s\n",
      "[2024-07-08 19:02:52,311] [UTL] [INFO] \tEpoch 4 Accuracy 98.88% / Best Accuracy: 98.95%. Time: 27.609546661376953s\n",
      "[2024-07-08 19:03:19,829] [UTL] [INFO] \tEpoch 5 Accuracy 99.06% / Best Accuracy: 99.06%. Time: 27.51664113998413s\n",
      "[2024-07-08 19:03:47,361] [UTL] [INFO] \tEpoch 6 Accuracy 99.14% / Best Accuracy: 99.14%. Time: 27.531224966049194s\n",
      "[2024-07-08 19:04:14,985] [UTL] [INFO] \tEpoch 7 Accuracy 99.08% / Best Accuracy: 99.14%. Time: 27.62355327606201s\n",
      "[2024-07-08 19:04:42,608] [UTL] [INFO] \tEpoch 8 Accuracy 99.13% / Best Accuracy: 99.14%. Time: 27.6229829788208s\n",
      "[2024-07-08 19:05:10,315] [UTL] [INFO] \tEpoch 9 Accuracy 99.07% / Best Accuracy: 99.14%. Time: 27.705955028533936s\n",
      "[2024-07-08 19:05:37,840] [UTL] [INFO] \tEpoch 10 Accuracy 99.11% / Best Accuracy: 99.14%. Time: 27.52451181411743s\n",
      "[2024-07-08 19:06:05,410] [UTL] [INFO] \tEpoch 11 Accuracy 99.12% / Best Accuracy: 99.14%. Time: 27.57014513015747s\n",
      "[2024-07-08 19:06:33,041] [UTL] [INFO] \tEpoch 12 Accuracy 99.13% / Best Accuracy: 99.14%. Time: 27.63104224205017s\n",
      "[2024-07-08 19:07:00,576] [UTL] [INFO] \tEpoch 13 Accuracy 99.12% / Best Accuracy: 99.14%. Time: 27.534168243408203s\n",
      "[2024-07-08 19:07:28,110] [UTL] [INFO] \tEpoch 14 Accuracy 99.14% / Best Accuracy: 99.14%. Time: 27.53294086456299s\n",
      "[2024-07-08 19:07:55,733] [UTL] [INFO] \tEpoch 15 Accuracy 99.14% / Best Accuracy: 99.14%. Time: 27.622912645339966s\n",
      "[2024-07-08 19:08:23,245] [UTL] [INFO] \tEpoch 16 Accuracy 99.13% / Best Accuracy: 99.14%. Time: 27.512627124786377s\n",
      "[2024-07-08 19:08:50,852] [UTL] [INFO] \tEpoch 17 Accuracy 99.14% / Best Accuracy: 99.14%. Time: 27.60649013519287s\n",
      "[2024-07-08 19:09:18,351] [UTL] [INFO] \tEpoch 18 Accuracy 99.15% / Best Accuracy: 99.15%. Time: 27.49967122077942s\n",
      "[2024-07-08 19:09:45,968] [UTL] [INFO] \tEpoch 19 Accuracy 99.14% / Best Accuracy: 99.15%. Time: 27.616361141204834s\n",
      "[2024-07-08 19:10:13,537] [UTL] [INFO] \tEpoch 20 Accuracy 99.14% / Best Accuracy: 99.15%. Time: 27.568332195281982s\n",
      "[2024-07-08 19:10:41,110] [UTL] [INFO] \tEpoch 21 Accuracy 99.17% / Best Accuracy: 99.17%. Time: 27.571688890457153s\n",
      "[2024-07-08 19:11:09,323] [UTL] [INFO] \tEpoch 22 Accuracy 99.15% / Best Accuracy: 99.17%. Time: 28.210538864135742s\n",
      "[2024-07-08 19:11:37,190] [UTL] [INFO] \tEpoch 23 Accuracy 99.14% / Best Accuracy: 99.17%. Time: 27.867228031158447s\n",
      "[2024-07-08 19:12:04,948] [UTL] [INFO] \tEpoch 24 Accuracy 99.16% / Best Accuracy: 99.17%. Time: 27.75664472579956s\n",
      "[2024-07-08 19:12:32,618] [UTL] [INFO] \tEpoch 25 Accuracy 99.14% / Best Accuracy: 99.17%. Time: 27.670382738113403s\n",
      "[2024-07-08 19:13:00,341] [UTL] [INFO] \tEpoch 26 Accuracy 99.12% / Best Accuracy: 99.17%. Time: 27.72259521484375s\n",
      "[2024-07-08 19:13:28,002] [UTL] [INFO] \tEpoch 27 Accuracy 99.14% / Best Accuracy: 99.17%. Time: 27.661406993865967s\n",
      "[2024-07-08 19:13:55,647] [UTL] [INFO] \tEpoch 28 Accuracy 99.17% / Best Accuracy: 99.17%. Time: 27.644033193588257s\n",
      "[2024-07-08 19:14:23,319] [UTL] [INFO] \tEpoch 29 Accuracy 99.16% / Best Accuracy: 99.17%. Time: 27.67236089706421s\n",
      "[2024-07-08 19:14:51,019] [UTL] [INFO] \tEpoch 30 Accuracy 99.16% / Best Accuracy: 99.17%. Time: 27.699623346328735s\n",
      "[2024-07-08 19:15:18,735] [UTL] [INFO] \tEpoch 31 Accuracy 99.16% / Best Accuracy: 99.17%. Time: 27.716578006744385s\n",
      "[2024-07-08 19:15:46,393] [UTL] [INFO] \tEpoch 32 Accuracy 99.15% / Best Accuracy: 99.17%. Time: 27.657812356948853s\n",
      "[2024-07-08 19:16:14,134] [UTL] [INFO] \tEpoch 33 Accuracy 99.13% / Best Accuracy: 99.17%. Time: 27.74043369293213s\n",
      "[2024-07-08 19:16:41,905] [UTL] [INFO] \tEpoch 34 Accuracy 99.16% / Best Accuracy: 99.17%. Time: 27.771044969558716s\n",
      "[2024-07-08 19:17:09,712] [UTL] [INFO] \tEpoch 35 Accuracy 99.16% / Best Accuracy: 99.17%. Time: 27.806853771209717s\n",
      "[2024-07-08 19:17:37,515] [UTL] [INFO] \tEpoch 36 Accuracy 99.16% / Best Accuracy: 99.17%. Time: 27.801394939422607s\n",
      "[2024-07-08 19:18:05,185] [UTL] [INFO] \tEpoch 37 Accuracy 99.16% / Best Accuracy: 99.17%. Time: 27.670103549957275s\n",
      "[2024-07-08 19:18:32,900] [UTL] [INFO] \tEpoch 38 Accuracy 99.17% / Best Accuracy: 99.17%. Time: 27.71454167366028s\n",
      "[2024-07-08 19:19:00,597] [UTL] [INFO] \tEpoch 39 Accuracy 99.17% / Best Accuracy: 99.17%. Time: 27.696789503097534s\n",
      "[2024-07-08 19:19:28,350] [UTL] [INFO] \tEpoch 40 Accuracy 99.16% / Best Accuracy: 99.17%. Time: 27.75333881378174s\n",
      "[2024-07-08 19:19:56,120] [UTL] [INFO] \tEpoch 41 Accuracy 99.14% / Best Accuracy: 99.17%. Time: 27.768267393112183s\n",
      "[2024-07-08 19:20:23,869] [UTL] [INFO] \tEpoch 42 Accuracy 99.15% / Best Accuracy: 99.17%. Time: 27.748631715774536s\n",
      "[2024-07-08 19:20:51,647] [UTL] [INFO] \tEpoch 43 Accuracy 99.17% / Best Accuracy: 99.17%. Time: 27.77682590484619s\n",
      "[2024-07-08 19:21:19,341] [UTL] [INFO] \tEpoch 44 Accuracy 99.17% / Best Accuracy: 99.17%. Time: 27.692548513412476s\n",
      "[2024-07-08 19:21:47,113] [UTL] [INFO] \tEpoch 45 Accuracy 99.13% / Best Accuracy: 99.17%. Time: 27.771403551101685s\n",
      "[2024-07-08 19:22:14,917] [UTL] [INFO] \tEpoch 46 Accuracy 99.17% / Best Accuracy: 99.17%. Time: 27.803765296936035s\n",
      "[2024-07-08 19:22:42,736] [UTL] [INFO] \tEpoch 47 Accuracy 99.17% / Best Accuracy: 99.17%. Time: 27.817914724349976s\n",
      "[2024-07-08 19:23:10,492] [UTL] [INFO] \tEpoch 48 Accuracy 99.17% / Best Accuracy: 99.17%. Time: 27.754966974258423s\n",
      "[2024-07-08 19:23:38,227] [UTL] [INFO] \tEpoch 49 Accuracy 99.17% / Best Accuracy: 99.17%. Time: 27.734341382980347s\n",
      "[2024-07-08 19:24:05,942] [UTL] [INFO] \tEpoch 50 Accuracy 99.16% / Best Accuracy: 99.17%. Time: 27.715171575546265s\n",
      "[2024-07-08 19:24:05,942] [UTL] [INFO] Finetuning completed\n",
      "[2024-07-08 19:24:06,660] [UTL] [INFO] Model saved to ../Pretrained/ECG-Raw/Base/resnet18_ep50_i128_resize/resnet18_ep50_i128_resize.pth\n",
      "[2024-07-08 19:45:48,169] [UTL] [INFO] Begin finetuning...\n",
      "[2024-07-08 19:46:15,918] [UTL] [INFO] \tEpoch 1 Accuracy 98.55% / Best Accuracy: 98.55%. Time: 27.747397422790527s\n",
      "[2024-07-08 19:46:43,395] [UTL] [INFO] \tEpoch 2 Accuracy 98.64% / Best Accuracy: 98.64%. Time: 27.476963758468628s\n",
      "[2024-07-08 19:47:10,959] [UTL] [INFO] \tEpoch 3 Accuracy 98.69% / Best Accuracy: 98.69%. Time: 27.56398296356201s\n",
      "[2024-07-08 19:47:38,624] [UTL] [INFO] \tEpoch 4 Accuracy 98.84% / Best Accuracy: 98.84%. Time: 27.664340257644653s\n",
      "[2024-07-08 19:48:06,296] [UTL] [INFO] \tEpoch 5 Accuracy 98.75% / Best Accuracy: 98.84%. Time: 27.671136617660522s\n",
      "[2024-07-08 19:48:33,859] [UTL] [INFO] \tEpoch 6 Accuracy 98.85% / Best Accuracy: 98.85%. Time: 27.56188678741455s\n",
      "[2024-07-08 19:49:01,498] [UTL] [INFO] \tEpoch 7 Accuracy 98.85% / Best Accuracy: 98.85%. Time: 27.638603687286377s\n",
      "[2024-07-08 19:49:29,156] [UTL] [INFO] \tEpoch 8 Accuracy 98.80% / Best Accuracy: 98.85%. Time: 27.657114267349243s\n",
      "[2024-07-08 19:49:56,995] [UTL] [INFO] \tEpoch 9 Accuracy 98.88% / Best Accuracy: 98.88%. Time: 27.838759899139404s\n",
      "[2024-07-08 19:50:24,777] [UTL] [INFO] \tEpoch 10 Accuracy 98.88% / Best Accuracy: 98.88%. Time: 27.78006649017334s\n",
      "[2024-07-08 19:50:52,455] [UTL] [INFO] \tEpoch 11 Accuracy 98.92% / Best Accuracy: 98.92%. Time: 27.67736053466797s\n",
      "[2024-07-08 19:51:20,104] [UTL] [INFO] \tEpoch 12 Accuracy 98.93% / Best Accuracy: 98.93%. Time: 27.649038314819336s\n",
      "[2024-07-08 19:51:47,753] [UTL] [INFO] \tEpoch 13 Accuracy 98.88% / Best Accuracy: 98.93%. Time: 27.649808883666992s\n",
      "[2024-07-08 19:52:15,312] [UTL] [INFO] \tEpoch 14 Accuracy 98.86% / Best Accuracy: 98.93%. Time: 27.55830979347229s\n",
      "[2024-07-08 19:52:43,015] [UTL] [INFO] \tEpoch 15 Accuracy 98.92% / Best Accuracy: 98.93%. Time: 27.70297074317932s\n",
      "[2024-07-08 19:53:10,602] [UTL] [INFO] \tEpoch 16 Accuracy 98.91% / Best Accuracy: 98.93%. Time: 27.58766746520996s\n",
      "[2024-07-08 19:53:38,165] [UTL] [INFO] \tEpoch 17 Accuracy 98.89% / Best Accuracy: 98.93%. Time: 27.561547994613647s\n",
      "[2024-07-08 19:54:05,845] [UTL] [INFO] \tEpoch 18 Accuracy 98.90% / Best Accuracy: 98.93%. Time: 27.67999005317688s\n",
      "[2024-07-08 19:54:33,537] [UTL] [INFO] \tEpoch 19 Accuracy 98.91% / Best Accuracy: 98.93%. Time: 27.692503690719604s\n",
      "[2024-07-08 19:55:01,187] [UTL] [INFO] \tEpoch 20 Accuracy 98.90% / Best Accuracy: 98.93%. Time: 27.648552179336548s\n",
      "[2024-07-08 19:55:28,865] [UTL] [INFO] \tEpoch 21 Accuracy 98.91% / Best Accuracy: 98.93%. Time: 27.676172256469727s\n",
      "[2024-07-08 19:55:56,475] [UTL] [INFO] \tEpoch 22 Accuracy 98.91% / Best Accuracy: 98.93%. Time: 27.60919189453125s\n",
      "[2024-07-08 19:56:24,192] [UTL] [INFO] \tEpoch 23 Accuracy 98.91% / Best Accuracy: 98.93%. Time: 27.71655821800232s\n",
      "[2024-07-08 19:56:51,848] [UTL] [INFO] \tEpoch 24 Accuracy 98.90% / Best Accuracy: 98.93%. Time: 27.656024932861328s\n",
      "[2024-07-08 19:57:19,441] [UTL] [INFO] \tEpoch 25 Accuracy 98.92% / Best Accuracy: 98.93%. Time: 27.593344688415527s\n",
      "[2024-07-08 19:57:47,023] [UTL] [INFO] \tEpoch 26 Accuracy 98.92% / Best Accuracy: 98.93%. Time: 27.581970691680908s\n",
      "[2024-07-08 19:58:14,693] [UTL] [INFO] \tEpoch 27 Accuracy 98.89% / Best Accuracy: 98.93%. Time: 27.668497800827026s\n",
      "[2024-07-08 19:58:42,240] [UTL] [INFO] \tEpoch 28 Accuracy 98.91% / Best Accuracy: 98.93%. Time: 27.54596519470215s\n",
      "[2024-07-08 19:59:09,864] [UTL] [INFO] \tEpoch 29 Accuracy 98.90% / Best Accuracy: 98.93%. Time: 27.624428749084473s\n",
      "[2024-07-08 19:59:37,557] [UTL] [INFO] \tEpoch 30 Accuracy 98.90% / Best Accuracy: 98.93%. Time: 27.693248748779297s\n",
      "[2024-07-08 20:00:05,261] [UTL] [INFO] \tEpoch 31 Accuracy 98.91% / Best Accuracy: 98.93%. Time: 27.704007387161255s\n",
      "[2024-07-08 20:00:32,928] [UTL] [INFO] \tEpoch 32 Accuracy 98.92% / Best Accuracy: 98.93%. Time: 27.666398286819458s\n",
      "[2024-07-08 20:01:00,608] [UTL] [INFO] \tEpoch 33 Accuracy 98.90% / Best Accuracy: 98.93%. Time: 27.679796934127808s\n",
      "[2024-07-08 20:01:28,295] [UTL] [INFO] \tEpoch 34 Accuracy 98.90% / Best Accuracy: 98.93%. Time: 27.6877703666687s\n",
      "[2024-07-08 20:01:56,101] [UTL] [INFO] \tEpoch 35 Accuracy 98.91% / Best Accuracy: 98.93%. Time: 27.804221153259277s\n",
      "[2024-07-08 20:02:23,797] [UTL] [INFO] \tEpoch 36 Accuracy 98.90% / Best Accuracy: 98.93%. Time: 27.69634437561035s\n",
      "[2024-07-08 20:02:51,570] [UTL] [INFO] \tEpoch 37 Accuracy 98.90% / Best Accuracy: 98.93%. Time: 27.773075342178345s\n",
      "[2024-07-08 20:03:19,201] [UTL] [INFO] \tEpoch 38 Accuracy 98.90% / Best Accuracy: 98.93%. Time: 27.6311936378479s\n",
      "[2024-07-08 20:03:46,834] [UTL] [INFO] \tEpoch 39 Accuracy 98.91% / Best Accuracy: 98.93%. Time: 27.631534337997437s\n",
      "[2024-07-08 20:04:14,445] [UTL] [INFO] \tEpoch 40 Accuracy 98.89% / Best Accuracy: 98.93%. Time: 27.609349727630615s\n",
      "[2024-07-08 20:04:42,096] [UTL] [INFO] \tEpoch 41 Accuracy 98.91% / Best Accuracy: 98.93%. Time: 27.65004324913025s\n",
      "[2024-07-08 20:05:09,818] [UTL] [INFO] \tEpoch 42 Accuracy 98.90% / Best Accuracy: 98.93%. Time: 27.72272515296936s\n",
      "[2024-07-08 20:05:37,492] [UTL] [INFO] \tEpoch 43 Accuracy 98.90% / Best Accuracy: 98.93%. Time: 27.67246150970459s\n",
      "[2024-07-08 20:06:05,077] [UTL] [INFO] \tEpoch 44 Accuracy 98.89% / Best Accuracy: 98.93%. Time: 27.584476947784424s\n",
      "[2024-07-08 20:06:32,789] [UTL] [INFO] \tEpoch 45 Accuracy 98.89% / Best Accuracy: 98.93%. Time: 27.71153211593628s\n",
      "[2024-07-08 20:07:00,410] [UTL] [INFO] \tEpoch 46 Accuracy 98.89% / Best Accuracy: 98.93%. Time: 27.621122360229492s\n",
      "[2024-07-08 20:07:28,109] [UTL] [INFO] \tEpoch 47 Accuracy 98.91% / Best Accuracy: 98.93%. Time: 27.698469638824463s\n",
      "[2024-07-08 20:07:55,732] [UTL] [INFO] \tEpoch 48 Accuracy 98.92% / Best Accuracy: 98.93%. Time: 27.62133240699768s\n",
      "[2024-07-08 20:08:23,391] [UTL] [INFO] \tEpoch 49 Accuracy 98.89% / Best Accuracy: 98.93%. Time: 27.657749891281128s\n",
      "[2024-07-08 20:08:50,980] [UTL] [INFO] \tEpoch 50 Accuracy 98.89% / Best Accuracy: 98.93%. Time: 27.588627815246582s\n",
      "[2024-07-08 20:08:50,980] [UTL] [INFO] Finetuning completed\n",
      "[2024-07-08 20:08:51,025] [UTL] [INFO] Model saved to ../Pretrained/ECG-Raw/Base/resnet18_ep50_i128_crop/resnet18_ep50_i128_crop.pth\n"
     ]
    }
   ],
   "source": [
    "for method in [\"resize\", \"crop\"]:\n",
    "    dataloader = build_dataloader(\n",
    "        train_path = f\"../Data/MIT-BIH-Raw/Datasets/Resolution-128/image_{method}_i128_train.h5\",\n",
    "        test_path  = f\"../Data/MIT-BIH-Raw/Datasets/Resolution-128/image_{method}_i128_test.h5\",\n",
    "        transform  = None,\n",
    "        batch_size = 128\n",
    "    )\n",
    "\n",
    "    num_classes = ArrhythmiaLabels.size\n",
    "    model_name  = \"resnet18\"\n",
    "    model       = load_model(model_name)\n",
    "    model.fc    = nn.Linear(512, num_classes)\n",
    "\n",
    "    epochs    = 50\n",
    "    save_name = f\"{model_name}_ep{epochs}_i128_{method}\"\n",
    "    save_dir  = f\"../Pretrained/ECG-Raw/Base/{save_name}\"\n",
    "\n",
    "    warm_up_dataloader(dataloader[\"train\"])\n",
    "    warm_up_dataloader(dataloader[\"test\"])\n",
    "\n",
    "    training_stats = finetune(\n",
    "        model      = model,\n",
    "        epochs     = epochs,\n",
    "        dataloader = dataloader,\n",
    "        save_path  = f\"{save_dir}/{save_name}.pth\"\n",
    "    )\n",
    "\n",
    "    training_stats.serialize(f\"{save_dir}/stats.txt\")"
   ]
  },
  {
   "cell_type": "code",
   "execution_count": 3,
   "metadata": {},
   "outputs": [
    {
     "name": "stderr",
     "output_type": "stream",
     "text": [
      "[2024-07-08 21:46:49,871] [UTL] [INFO] Begin finetuning...\n",
      "[2024-07-08 21:47:18,571] [UTL] [INFO] \tEpoch 1 Accuracy 98.47% / Best Accuracy: 98.47%. Time: 28.69891667366028s\n",
      "[2024-07-08 21:47:46,198] [UTL] [INFO] \tEpoch 2 Accuracy 98.63% / Best Accuracy: 98.63%. Time: 27.626131772994995s\n",
      "[2024-07-08 21:48:13,760] [UTL] [INFO] \tEpoch 3 Accuracy 98.85% / Best Accuracy: 98.85%. Time: 27.562315464019775s\n",
      "[2024-07-08 21:48:41,331] [UTL] [INFO] \tEpoch 4 Accuracy 98.75% / Best Accuracy: 98.85%. Time: 27.57027840614319s\n",
      "[2024-07-08 21:49:08,955] [UTL] [INFO] \tEpoch 5 Accuracy 98.70% / Best Accuracy: 98.85%. Time: 27.62327265739441s\n",
      "[2024-07-08 21:49:36,595] [UTL] [INFO] \tEpoch 6 Accuracy 98.79% / Best Accuracy: 98.85%. Time: 27.640103101730347s\n",
      "[2024-07-08 21:50:04,366] [UTL] [INFO] \tEpoch 7 Accuracy 98.78% / Best Accuracy: 98.85%. Time: 27.770612716674805s\n",
      "[2024-07-08 21:50:32,218] [UTL] [INFO] \tEpoch 8 Accuracy 98.91% / Best Accuracy: 98.91%. Time: 27.85117816925049s\n",
      "[2024-07-08 21:51:00,122] [UTL] [INFO] \tEpoch 9 Accuracy 98.92% / Best Accuracy: 98.92%. Time: 27.903408765792847s\n",
      "[2024-07-08 21:51:27,937] [UTL] [INFO] \tEpoch 10 Accuracy 98.91% / Best Accuracy: 98.92%. Time: 27.81539297103882s\n",
      "[2024-07-08 21:51:55,727] [UTL] [INFO] \tEpoch 11 Accuracy 98.95% / Best Accuracy: 98.95%. Time: 27.789836406707764s\n",
      "[2024-07-08 21:52:23,520] [UTL] [INFO] \tEpoch 12 Accuracy 98.89% / Best Accuracy: 98.95%. Time: 27.792608499526978s\n",
      "[2024-07-08 21:52:51,316] [UTL] [INFO] \tEpoch 13 Accuracy 98.90% / Best Accuracy: 98.95%. Time: 27.796590089797974s\n",
      "[2024-07-08 21:53:19,171] [UTL] [INFO] \tEpoch 14 Accuracy 98.93% / Best Accuracy: 98.95%. Time: 27.854093551635742s\n",
      "[2024-07-08 21:53:46,996] [UTL] [INFO] \tEpoch 15 Accuracy 98.91% / Best Accuracy: 98.95%. Time: 27.82509970664978s\n",
      "[2024-07-08 21:54:14,738] [UTL] [INFO] \tEpoch 16 Accuracy 98.92% / Best Accuracy: 98.95%. Time: 27.741320371627808s\n",
      "[2024-07-08 21:54:42,414] [UTL] [INFO] \tEpoch 17 Accuracy 98.93% / Best Accuracy: 98.95%. Time: 27.676104307174683s\n",
      "[2024-07-08 21:55:10,122] [UTL] [INFO] \tEpoch 18 Accuracy 98.95% / Best Accuracy: 98.95%. Time: 27.708433628082275s\n",
      "[2024-07-08 21:55:37,851] [UTL] [INFO] \tEpoch 19 Accuracy 98.94% / Best Accuracy: 98.95%. Time: 27.727205991744995s\n",
      "[2024-07-08 21:56:05,723] [UTL] [INFO] \tEpoch 20 Accuracy 98.95% / Best Accuracy: 98.95%. Time: 27.871243715286255s\n",
      "[2024-07-08 21:56:33,614] [UTL] [INFO] \tEpoch 21 Accuracy 98.95% / Best Accuracy: 98.95%. Time: 27.89145851135254s\n",
      "[2024-07-08 21:57:01,430] [UTL] [INFO] \tEpoch 22 Accuracy 98.96% / Best Accuracy: 98.96%. Time: 27.815359830856323s\n",
      "[2024-07-08 21:57:29,294] [UTL] [INFO] \tEpoch 23 Accuracy 98.95% / Best Accuracy: 98.96%. Time: 27.864697456359863s\n",
      "[2024-07-08 21:57:57,135] [UTL] [INFO] \tEpoch 24 Accuracy 98.94% / Best Accuracy: 98.96%. Time: 27.840643882751465s\n",
      "[2024-07-08 21:58:25,019] [UTL] [INFO] \tEpoch 25 Accuracy 98.95% / Best Accuracy: 98.96%. Time: 27.88318943977356s\n",
      "[2024-07-08 21:58:52,841] [UTL] [INFO] \tEpoch 26 Accuracy 98.94% / Best Accuracy: 98.96%. Time: 27.822450876235962s\n",
      "[2024-07-08 21:59:20,718] [UTL] [INFO] \tEpoch 27 Accuracy 98.95% / Best Accuracy: 98.96%. Time: 27.87690758705139s\n",
      "[2024-07-08 21:59:48,582] [UTL] [INFO] \tEpoch 28 Accuracy 98.95% / Best Accuracy: 98.96%. Time: 27.862870931625366s\n",
      "[2024-07-08 22:00:16,417] [UTL] [INFO] \tEpoch 29 Accuracy 98.95% / Best Accuracy: 98.96%. Time: 27.83493685722351s\n",
      "[2024-07-08 22:00:44,211] [UTL] [INFO] \tEpoch 30 Accuracy 98.95% / Best Accuracy: 98.96%. Time: 27.793821096420288s\n",
      "[2024-07-08 22:00:44,211] [UTL] [INFO] Finetuning completed\n",
      "[2024-07-08 22:00:44,252] [UTL] [INFO] Model saved to ../Pretrained/ECG-Raw/Base/resnet18_ep30_i128_resize_back/resnet18_ep30_i128_resize_back.pth\n"
     ]
    }
   ],
   "source": [
    "dataloader = build_dataloader(\n",
    "    train_path = f\"../Data/MIT-BIH-Raw/Datasets/Resolution-128/image_unfiltered_i128_train.h5\",\n",
    "    test_path  = f\"../Data/MIT-BIH-Raw/Datasets/Resolution-128/image_unfiltered_i128_test.h5\",\n",
    "    transform  = None,\n",
    "    batch_size = 128\n",
    ")\n",
    "\n",
    "num_classes = ArrhythmiaLabels.size\n",
    "model_name  = \"resnet18\"\n",
    "model = load_model_from_pretrained(model_name, \"../Pretrained/ECG-Raw/Base/resnet18_ep50_i128_resize/resnet18_ep50_i128_resize.pth\", num_classes)\n",
    "\n",
    "epochs    = 30\n",
    "save_name = f\"{model_name}_ep{epochs}_i128_resize_back\"\n",
    "save_dir  = f\"../Pretrained/ECG-Raw/Base/{save_name}\"\n",
    "\n",
    "warm_up_dataloader(dataloader[\"train\"])\n",
    "warm_up_dataloader(dataloader[\"test\"])\n",
    "\n",
    "training_stats = finetune(\n",
    "    model      = model,\n",
    "    epochs     = epochs,\n",
    "    dataloader = dataloader,\n",
    "    save_path  = f\"{save_dir}/{save_name}.pth\"\n",
    ")\n",
    "\n",
    "training_stats.serialize(f\"{save_dir}/stats.txt\")"
   ]
  },
  {
   "cell_type": "code",
   "execution_count": 3,
   "metadata": {},
   "outputs": [
    {
     "name": "stdout",
     "output_type": "stream",
     "text": [
      "===== Window Size 256 =====\n"
     ]
    },
    {
     "name": "stderr",
     "output_type": "stream",
     "text": [
      "[2024-07-10 10:52:07,452] [UTL] [INFO] Begin finetuning...\n",
      "[2024-07-10 10:52:36,681] [UTL] [INFO] \tEpoch 1 Finished. Time: 29.22675085067749s\n",
      "[2024-07-10 10:53:02,037] [UTL] [INFO] \tEpoch 2 Finished. Time: 25.35603642463684s\n",
      "[2024-07-10 10:53:27,475] [UTL] [INFO] \tEpoch 3 Finished. Time: 25.43710970878601s\n",
      "[2024-07-10 10:53:52,975] [UTL] [INFO] \tEpoch 4 Finished. Time: 25.500168085098267s\n",
      "[2024-07-10 10:54:18,513] [UTL] [INFO] \tEpoch 5 Finished. Time: 25.53720188140869s\n",
      "[2024-07-10 10:54:44,056] [UTL] [INFO] \tEpoch 6 Finished. Time: 25.543205976486206s\n",
      "[2024-07-10 10:55:09,685] [UTL] [INFO] \tEpoch 7 Finished. Time: 25.629284858703613s\n",
      "[2024-07-10 10:55:35,342] [UTL] [INFO] \tEpoch 8 Finished. Time: 25.65731143951416s\n",
      "[2024-07-10 10:56:01,011] [UTL] [INFO] \tEpoch 9 Finished. Time: 25.668319940567017s\n",
      "[2024-07-10 10:56:26,671] [UTL] [INFO] \tEpoch 10 Finished. Time: 25.660313606262207s\n",
      "[2024-07-10 10:56:26,671] [UTL] [INFO] Finetuning completed\n",
      "[2024-07-10 10:56:26,812] [UTL] [INFO] Model saved to ../Pretrained/ECG-Raw/Window-Shrinking/balance/Resize/resnet18_ep10_i256_r0.3/resnet18_ep10_i256_r0.3.pth\n"
     ]
    },
    {
     "name": "stdout",
     "output_type": "stream",
     "text": [
      "===== Window Size 224 =====\n"
     ]
    },
    {
     "name": "stderr",
     "output_type": "stream",
     "text": [
      "[2024-07-10 11:04:20,434] [UTL] [INFO] Begin finetuning...\n",
      "[2024-07-10 11:04:40,298] [UTL] [INFO] \tEpoch 1 Finished. Time: 19.863122940063477s\n",
      "[2024-07-10 11:04:59,882] [UTL] [INFO] \tEpoch 2 Finished. Time: 19.582791090011597s\n",
      "[2024-07-10 11:05:19,504] [UTL] [INFO] \tEpoch 3 Finished. Time: 19.621828317642212s\n",
      "[2024-07-10 11:05:39,189] [UTL] [INFO] \tEpoch 4 Finished. Time: 19.685885429382324s\n",
      "[2024-07-10 11:05:58,907] [UTL] [INFO] \tEpoch 5 Finished. Time: 19.7169132232666s\n",
      "[2024-07-10 11:06:18,637] [UTL] [INFO] \tEpoch 6 Finished. Time: 19.72892475128174s\n",
      "[2024-07-10 11:06:38,374] [UTL] [INFO] \tEpoch 7 Finished. Time: 19.736931562423706s\n",
      "[2024-07-10 11:06:58,160] [UTL] [INFO] \tEpoch 8 Finished. Time: 19.785975694656372s\n",
      "[2024-07-10 11:07:17,951] [UTL] [INFO] \tEpoch 9 Finished. Time: 19.78998112678528s\n",
      "[2024-07-10 11:07:37,752] [UTL] [INFO] \tEpoch 10 Finished. Time: 19.800989627838135s\n",
      "[2024-07-10 11:07:37,752] [UTL] [INFO] Finetuning completed\n",
      "[2024-07-10 11:07:37,860] [UTL] [INFO] Model saved to ../Pretrained/ECG-Raw/Window-Shrinking/balance/Resize/resnet18_ep10_i224_r0.3/resnet18_ep10_i224_r0.3.pth\n"
     ]
    },
    {
     "name": "stdout",
     "output_type": "stream",
     "text": [
      "===== Window Size 192 =====\n"
     ]
    },
    {
     "name": "stderr",
     "output_type": "stream",
     "text": [
      "[2024-07-10 11:17:07,693] [UTL] [INFO] Begin finetuning...\n",
      "[2024-07-10 11:17:27,509] [UTL] [INFO] \tEpoch 1 Finished. Time: 19.81642436981201s\n",
      "[2024-07-10 11:17:46,774] [UTL] [INFO] \tEpoch 2 Finished. Time: 19.263499975204468s\n",
      "[2024-07-10 11:18:06,111] [UTL] [INFO] \tEpoch 3 Finished. Time: 19.336567163467407s\n",
      "[2024-07-10 11:18:25,454] [UTL] [INFO] \tEpoch 4 Finished. Time: 19.342573404312134s\n",
      "[2024-07-10 11:18:44,847] [UTL] [INFO] \tEpoch 5 Finished. Time: 19.392619371414185s\n",
      "[2024-07-10 11:19:04,239] [UTL] [INFO] \tEpoch 6 Finished. Time: 19.392618894577026s\n",
      "[2024-07-10 11:19:23,698] [UTL] [INFO] \tEpoch 7 Finished. Time: 19.457677364349365s\n",
      "[2024-07-10 11:19:43,180] [UTL] [INFO] \tEpoch 8 Finished. Time: 19.481700897216797s\n",
      "[2024-07-10 11:20:02,644] [UTL] [INFO] \tEpoch 9 Finished. Time: 19.46468472480774s\n",
      "[2024-07-10 11:20:22,163] [UTL] [INFO] \tEpoch 10 Finished. Time: 19.51873207092285s\n",
      "[2024-07-10 11:20:22,163] [UTL] [INFO] Finetuning completed\n",
      "[2024-07-10 11:20:22,253] [UTL] [INFO] Model saved to ../Pretrained/ECG-Raw/Window-Shrinking/balance/Resize/resnet18_ep10_i192_r0.4/resnet18_ep10_i192_r0.4.pth\n"
     ]
    },
    {
     "name": "stdout",
     "output_type": "stream",
     "text": [
      "===== Window Size 160 =====\n"
     ]
    },
    {
     "name": "stderr",
     "output_type": "stream",
     "text": [
      "[2024-07-10 11:31:49,212] [UTL] [INFO] Begin finetuning...\n",
      "[2024-07-10 11:32:07,236] [UTL] [INFO] \tEpoch 1 Finished. Time: 18.022772550582886s\n",
      "[2024-07-10 11:32:24,888] [UTL] [INFO] \tEpoch 2 Finished. Time: 17.652036905288696s\n",
      "[2024-07-10 11:32:42,608] [UTL] [INFO] \tEpoch 3 Finished. Time: 17.719098567962646s\n",
      "[2024-07-10 11:33:00,382] [UTL] [INFO] \tEpoch 4 Finished. Time: 17.773147344589233s\n",
      "[2024-07-10 11:33:18,177] [UTL] [INFO] \tEpoch 5 Finished. Time: 17.794167518615723s\n",
      "[2024-07-10 11:33:35,967] [UTL] [INFO] \tEpoch 6 Finished. Time: 17.790161848068237s\n",
      "[2024-07-10 11:33:53,814] [UTL] [INFO] \tEpoch 7 Finished. Time: 17.845213890075684s\n",
      "[2024-07-10 11:34:11,685] [UTL] [INFO] \tEpoch 8 Finished. Time: 17.871236085891724s\n",
      "[2024-07-10 11:34:29,574] [UTL] [INFO] \tEpoch 9 Finished. Time: 17.889252424240112s\n",
      "[2024-07-10 11:34:47,443] [UTL] [INFO] \tEpoch 10 Finished. Time: 17.868233680725098s\n",
      "[2024-07-10 11:34:47,443] [UTL] [INFO] Finetuning completed\n",
      "[2024-07-10 11:34:47,510] [UTL] [INFO] Model saved to ../Pretrained/ECG-Raw/Window-Shrinking/balance/Resize/resnet18_ep10_i160_r0.5/resnet18_ep10_i160_r0.5.pth\n"
     ]
    },
    {
     "name": "stdout",
     "output_type": "stream",
     "text": [
      "===== Window Size 128 =====\n"
     ]
    },
    {
     "name": "stderr",
     "output_type": "stream",
     "text": [
      "[2024-07-10 11:55:36,421] [UTL] [INFO] Begin finetuning...\n",
      "[2024-07-10 11:56:04,686] [UTL] [INFO] \tEpoch 1 Accuracy 99.04% / Best Accuracy: 99.04%. Time: 28.265289306640625s\n",
      "[2024-07-10 11:56:32,357] [UTL] [INFO] \tEpoch 2 Accuracy 99.06% / Best Accuracy: 99.06%. Time: 27.669138431549072s\n",
      "[2024-07-10 11:57:00,118] [UTL] [INFO] \tEpoch 3 Accuracy 99.05% / Best Accuracy: 99.06%. Time: 27.761221647262573s\n",
      "[2024-07-10 11:57:27,860] [UTL] [INFO] \tEpoch 4 Accuracy 99.21% / Best Accuracy: 99.21%. Time: 27.742204666137695s\n",
      "[2024-07-10 11:57:55,736] [UTL] [INFO] \tEpoch 5 Accuracy 99.20% / Best Accuracy: 99.21%. Time: 27.875325679779053s\n",
      "[2024-07-10 11:58:23,615] [UTL] [INFO] \tEpoch 6 Accuracy 99.20% / Best Accuracy: 99.21%. Time: 27.877326488494873s\n",
      "[2024-07-10 11:58:51,450] [UTL] [INFO] \tEpoch 7 Accuracy 99.25% / Best Accuracy: 99.25%. Time: 27.835289478302002s\n",
      "[2024-07-10 11:59:19,241] [UTL] [INFO] \tEpoch 8 Accuracy 99.25% / Best Accuracy: 99.25%. Time: 27.790247917175293s\n",
      "[2024-07-10 11:59:47,073] [UTL] [INFO] \tEpoch 9 Accuracy 99.21% / Best Accuracy: 99.25%. Time: 27.831286430358887s\n",
      "[2024-07-10 12:00:14,972] [UTL] [INFO] \tEpoch 10 Accuracy 99.21% / Best Accuracy: 99.25%. Time: 27.898346185684204s\n",
      "[2024-07-10 12:00:42,820] [UTL] [INFO] \tEpoch 11 Accuracy 99.22% / Best Accuracy: 99.25%. Time: 27.84730076789856s\n",
      "[2024-07-10 12:01:10,683] [UTL] [INFO] \tEpoch 12 Accuracy 99.25% / Best Accuracy: 99.25%. Time: 27.862313270568848s\n",
      "[2024-07-10 12:01:38,667] [UTL] [INFO] \tEpoch 13 Accuracy 99.23% / Best Accuracy: 99.25%. Time: 27.98242211341858s\n",
      "[2024-07-10 12:02:06,590] [UTL] [INFO] \tEpoch 14 Accuracy 99.23% / Best Accuracy: 99.25%. Time: 27.92336893081665s\n",
      "[2024-07-10 12:02:34,462] [UTL] [INFO] \tEpoch 15 Accuracy 99.24% / Best Accuracy: 99.25%. Time: 27.87132215499878s\n",
      "[2024-07-10 12:03:02,454] [UTL] [INFO] \tEpoch 16 Accuracy 99.22% / Best Accuracy: 99.25%. Time: 27.99115490913391s\n",
      "[2024-07-10 12:03:30,395] [UTL] [INFO] \tEpoch 17 Accuracy 99.23% / Best Accuracy: 99.25%. Time: 27.941385507583618s\n",
      "[2024-07-10 12:03:58,395] [UTL] [INFO] \tEpoch 18 Accuracy 99.23% / Best Accuracy: 99.25%. Time: 27.99843668937683s\n",
      "[2024-07-10 12:04:26,353] [UTL] [INFO] \tEpoch 19 Accuracy 99.22% / Best Accuracy: 99.25%. Time: 27.958401441574097s\n",
      "[2024-07-10 12:04:54,346] [UTL] [INFO] \tEpoch 20 Accuracy 99.23% / Best Accuracy: 99.25%. Time: 27.993433952331543s\n",
      "[2024-07-10 12:05:22,330] [UTL] [INFO] \tEpoch 21 Accuracy 99.23% / Best Accuracy: 99.25%. Time: 27.983423709869385s\n",
      "[2024-07-10 12:05:50,344] [UTL] [INFO] \tEpoch 22 Accuracy 99.23% / Best Accuracy: 99.25%. Time: 28.01345205307007s\n",
      "[2024-07-10 12:06:18,233] [UTL] [INFO] \tEpoch 23 Accuracy 99.22% / Best Accuracy: 99.25%. Time: 27.888336181640625s\n",
      "[2024-07-10 12:06:46,165] [UTL] [INFO] \tEpoch 24 Accuracy 99.21% / Best Accuracy: 99.25%. Time: 27.931377410888672s\n",
      "[2024-07-10 12:07:14,162] [UTL] [INFO] \tEpoch 25 Accuracy 99.22% / Best Accuracy: 99.25%. Time: 27.997435808181763s\n",
      "[2024-07-10 12:07:42,115] [UTL] [INFO] \tEpoch 26 Accuracy 99.20% / Best Accuracy: 99.25%. Time: 27.95139503479004s\n",
      "[2024-07-10 12:08:10,121] [UTL] [INFO] \tEpoch 27 Accuracy 99.21% / Best Accuracy: 99.25%. Time: 28.005443811416626s\n",
      "[2024-07-10 12:08:38,054] [UTL] [INFO] \tEpoch 28 Accuracy 99.21% / Best Accuracy: 99.25%. Time: 27.931376934051514s\n",
      "[2024-07-10 12:09:06,107] [UTL] [INFO] \tEpoch 29 Accuracy 99.22% / Best Accuracy: 99.25%. Time: 28.05193829536438s\n",
      "[2024-07-10 12:09:34,075] [UTL] [INFO] \tEpoch 30 Accuracy 99.21% / Best Accuracy: 99.25%. Time: 27.96740961074829s\n",
      "[2024-07-10 12:09:34,075] [UTL] [INFO] Finetuning completed\n",
      "[2024-07-10 12:09:34,117] [UTL] [INFO] Model saved to ../Pretrained/ECG-Raw/Window-Shrinking/balance/Resize/resnet18_ep30_i128_r1.0/resnet18_ep30_i128_r1.0.pth\n"
     ]
    }
   ],
   "source": [
    "num_classes = ArrhythmiaLabels.size\n",
    "model_name  = \"resnet18\"\n",
    "model       = load_model(model_name)\n",
    "model.fc    = nn.Linear(512, num_classes)\n",
    "\n",
    "# To resume training\n",
    "# model = load_model_from_pretrained(model_name, f\"../Pretrained/ECG-Raw/Window-Shrinking/balance/resnet18_ep10_i256_r0.3/resnet18_ep10_i256_r0.3.pth\", num_classes)\n",
    "\n",
    "TrainConfig  = namedtuple(\"TrainConfig\", [\"window_size\", \"ratio\", \"epochs\"])\n",
    "train_config = [\n",
    "    TrainConfig(256, 0.3, 10),\n",
    "    TrainConfig(224, 0.3, 10),\n",
    "    TrainConfig(192, 0.4, 10),\n",
    "    TrainConfig(160, 0.5, 10),\n",
    "    TrainConfig(128, 1.0, 30),\n",
    "]\n",
    "method = \"balance\"\n",
    "\n",
    "for config in train_config:\n",
    "    print(f\"===== Window Size {config.window_size} =====\")\n",
    "\n",
    "    if config.window_size == 128:\n",
    "        train_path = f\"../Data/MIT-BIH-Raw/Datasets/Resolution-{config.window_size}/image_resize_i{config.window_size}_train.h5\"\n",
    "    else:\n",
    "        train_path = f\"../Data/MIT-BIH-Raw/Datasets/Resolution-{config.window_size}/image_resize_i{config.window_size}_train_r{config.ratio}.h5\"\n",
    "\n",
    "    dataloader = build_dataloader(\n",
    "        train_path = train_path,\n",
    "        test_path  = f\"../Data/MIT-BIH-Raw/Datasets/Resolution-128/image_resize_i128_test.h5\",\n",
    "        transform  = None,\n",
    "        batch_size = 128\n",
    "    )\n",
    "\n",
    "    save_name = f\"{model_name}_ep{config.epochs}_i{config.window_size}_r{config.ratio}\"\n",
    "    save_dir  = f\"../Pretrained/ECG-Raw/Window-Shrinking/{method}/Resize/{save_name}\"\n",
    "\n",
    "    warm_up_dataloader(dataloader[\"train\"])\n",
    "    if config.window_size == 128:\n",
    "        warm_up_dataloader(dataloader[\"test\"])\n",
    "\n",
    "    training_stats = finetune(\n",
    "        model      = model,\n",
    "        epochs     = config.epochs,\n",
    "        dataloader = dataloader,\n",
    "        save_path  = f\"{save_dir}/{save_name}.pth\",\n",
    "        do_eval    = (config.window_size == 128) # Only evaluate on 128\n",
    "    )\n",
    "\n",
    "    training_stats.serialize(f\"{save_dir}/stats.txt\")"
   ]
  },
  {
   "cell_type": "markdown",
   "metadata": {},
   "source": [
    "### 256 => 128"
   ]
  },
  {
   "cell_type": "code",
   "execution_count": 2,
   "metadata": {},
   "outputs": [
    {
     "name": "stderr",
     "output_type": "stream",
     "text": [
      "[2024-07-10 20:55:30,662] [DTSET] [INFO] Building ECG Dataset from ../Data/MIT-BIH-Raw/Datasets/Resolution-128/image_unfiltered_i128_train.h5\n",
      "[2024-07-10 20:55:30,664] [DTSET] [INFO] \tAvailable Memory: 22.98 GiB\n",
      "[2024-07-10 20:55:30,664] [DTSET] [INFO] \tDataset Memory:   14.75 GiB\n"
     ]
    },
    {
     "name": "stdout",
     "output_type": "stream",
     "text": [
      "===== Window Size 128 =====\n"
     ]
    },
    {
     "name": "stderr",
     "output_type": "stream",
     "text": [
      "[2024-07-10 20:58:17,961] [DTSET] [INFO] Building ECG Dataset from ../Data/MIT-BIH-Raw/Datasets/Resolution-128/image_unfiltered_i128_test.h5\n",
      "[2024-07-10 20:58:17,978] [DTSET] [INFO] \tAvailable Memory: 8.43 GiB\n",
      "[2024-07-10 20:58:17,978] [DTSET] [INFO] \tDataset Memory:   3.69 GiB\n",
      "[2024-07-10 20:58:59,634] [UTL] [INFO] Begin finetuning...\n",
      "[2024-07-10 20:59:31,318] [UTL] [INFO] \tEpoch 1 Accuracy 98.56% / Best Accuracy: 98.56%. Time: 31.682904958724976s\n",
      "[2024-07-10 20:59:57,777] [UTL] [INFO] \tEpoch 2 Accuracy 98.72% / Best Accuracy: 98.72%. Time: 26.459038496017456s\n",
      "[2024-07-10 21:00:24,248] [UTL] [INFO] \tEpoch 3 Accuracy 98.70% / Best Accuracy: 98.72%. Time: 26.470048904418945s\n",
      "[2024-07-10 21:00:50,835] [UTL] [INFO] \tEpoch 4 Accuracy 98.80% / Best Accuracy: 98.80%. Time: 26.586154222488403s\n",
      "[2024-07-10 21:01:17,439] [UTL] [INFO] \tEpoch 5 Accuracy 98.92% / Best Accuracy: 98.92%. Time: 26.60417103767395s\n",
      "[2024-07-10 21:01:44,056] [UTL] [INFO] \tEpoch 6 Accuracy 98.90% / Best Accuracy: 98.92%. Time: 26.61618185043335s\n",
      "[2024-07-10 21:02:10,720] [UTL] [INFO] \tEpoch 7 Accuracy 98.89% / Best Accuracy: 98.92%. Time: 26.664225339889526s\n",
      "[2024-07-10 21:02:37,384] [UTL] [INFO] \tEpoch 8 Accuracy 98.96% / Best Accuracy: 98.96%. Time: 26.66322374343872s\n",
      "[2024-07-10 21:03:04,074] [UTL] [INFO] \tEpoch 9 Accuracy 98.96% / Best Accuracy: 98.96%. Time: 26.6902494430542s\n",
      "[2024-07-10 21:03:30,801] [UTL] [INFO] \tEpoch 10 Accuracy 98.94% / Best Accuracy: 98.96%. Time: 26.725280284881592s\n",
      "[2024-07-10 21:03:57,537] [UTL] [INFO] \tEpoch 11 Accuracy 98.93% / Best Accuracy: 98.96%. Time: 26.73629117012024s\n",
      "[2024-07-10 21:04:24,257] [UTL] [INFO] \tEpoch 12 Accuracy 98.95% / Best Accuracy: 98.96%. Time: 26.72027587890625s\n",
      "[2024-07-10 21:04:50,981] [UTL] [INFO] \tEpoch 13 Accuracy 98.92% / Best Accuracy: 98.96%. Time: 26.72428059577942s\n",
      "[2024-07-10 21:05:17,696] [UTL] [INFO] \tEpoch 14 Accuracy 98.95% / Best Accuracy: 98.96%. Time: 26.714269876480103s\n",
      "[2024-07-10 21:05:44,426] [UTL] [INFO] \tEpoch 15 Accuracy 98.92% / Best Accuracy: 98.96%. Time: 26.72928476333618s\n",
      "[2024-07-10 21:06:11,164] [UTL] [INFO] \tEpoch 16 Accuracy 98.93% / Best Accuracy: 98.96%. Time: 26.73729157447815s\n",
      "[2024-07-10 21:06:37,904] [UTL] [INFO] \tEpoch 17 Accuracy 98.95% / Best Accuracy: 98.96%. Time: 26.738293170928955s\n",
      "[2024-07-10 21:07:04,628] [UTL] [INFO] \tEpoch 18 Accuracy 98.94% / Best Accuracy: 98.96%. Time: 26.724279165267944s\n",
      "[2024-07-10 21:07:31,347] [UTL] [INFO] \tEpoch 19 Accuracy 98.94% / Best Accuracy: 98.96%. Time: 26.71927571296692s\n",
      "[2024-07-10 21:07:58,076] [UTL] [INFO] \tEpoch 20 Accuracy 98.95% / Best Accuracy: 98.96%. Time: 26.728283405303955s\n",
      "[2024-07-10 21:08:24,803] [UTL] [INFO] \tEpoch 21 Accuracy 98.94% / Best Accuracy: 98.96%. Time: 26.726282358169556s\n",
      "[2024-07-10 21:08:51,564] [UTL] [INFO] \tEpoch 22 Accuracy 98.95% / Best Accuracy: 98.96%. Time: 26.760312795639038s\n",
      "[2024-07-10 21:09:18,299] [UTL] [INFO] \tEpoch 23 Accuracy 98.95% / Best Accuracy: 98.96%. Time: 26.735289335250854s\n",
      "[2024-07-10 21:09:45,019] [UTL] [INFO] \tEpoch 24 Accuracy 98.94% / Best Accuracy: 98.96%. Time: 26.71927523612976s\n",
      "[2024-07-10 21:10:11,733] [UTL] [INFO] \tEpoch 25 Accuracy 98.92% / Best Accuracy: 98.96%. Time: 26.71326994895935s\n",
      "[2024-07-10 21:10:38,421] [UTL] [INFO] \tEpoch 26 Accuracy 98.93% / Best Accuracy: 98.96%. Time: 26.688247203826904s\n",
      "[2024-07-10 21:11:05,177] [UTL] [INFO] \tEpoch 27 Accuracy 98.90% / Best Accuracy: 98.96%. Time: 26.755308151245117s\n",
      "[2024-07-10 21:11:31,906] [UTL] [INFO] \tEpoch 28 Accuracy 98.94% / Best Accuracy: 98.96%. Time: 26.727283000946045s\n",
      "[2024-07-10 21:11:58,720] [UTL] [INFO] \tEpoch 29 Accuracy 98.91% / Best Accuracy: 98.96%. Time: 26.813360691070557s\n",
      "[2024-07-10 21:12:25,510] [UTL] [INFO] \tEpoch 30 Accuracy 98.92% / Best Accuracy: 98.96%. Time: 26.790339946746826s\n",
      "[2024-07-10 21:12:25,510] [UTL] [INFO] Finetuning completed\n",
      "[2024-07-10 21:12:25,663] [UTL] [INFO] Model saved to ../Pretrained/ECG-Raw/Window-Shrinking/balance/Step-128/resnet18_ep30_i128_r1.0/resnet18_ep30_i128_r1.0.pth\n"
     ]
    }
   ],
   "source": [
    "# 128 Step\n",
    "\n",
    "num_classes = ArrhythmiaLabels.size\n",
    "model_name  = \"resnet50\"\n",
    "model       = load_model(model_name)\n",
    "model.fc    = nn.Linear(2048, num_classes)\n",
    "\n",
    "# To resume training\n",
    "# model = load_model_from_pretrained(model_name, f\"../Pretrained/ECG-Raw/Window-Shrinking/balance/resnet18_ep10_i256_r0.3/resnet18_ep10_i256_r0.3.pth\", num_classes)\n",
    "\n",
    "TrainConfig  = namedtuple(\"TrainConfig\", [\"window_size\", \"ratio\", \"epochs\"])\n",
    "train_config = [\n",
    "    #TrainConfig(256, 0.3, 10),\n",
    "    TrainConfig(128, 1.0, 30),\n",
    "]\n",
    "method = \"balance\"\n",
    "\n",
    "for config in train_config:\n",
    "    print(f\"===== Window Size {config.window_size} =====\")\n",
    "\n",
    "    if config.window_size == 128:\n",
    "        train_path = f\"../Data/MIT-BIH-Raw/Datasets/Resolution-{config.window_size}/image_unfiltered_i{config.window_size}_train.h5\"\n",
    "    else:\n",
    "        train_path = f\"../Data/MIT-BIH-Raw/Datasets/Resolution-{config.window_size}/image_unfiltered_i{config.window_size}_train_r{config.ratio}_{method}.h5\"\n",
    "\n",
    "    dataloader = build_dataloader(\n",
    "        train_path    = train_path,\n",
    "        test_path     = f\"../Data/MIT-BIH-Raw/Datasets/Resolution-128/image_unfiltered_i128_test.h5\",\n",
    "        transform     = None,\n",
    "        batch_size    = 128,\n",
    "        preload_train = True,\n",
    "        preload_test  = (config.window_size == 128)\n",
    "    )\n",
    "\n",
    "    save_name = f\"{model_name}_ep{config.epochs}_i{config.window_size}_r{config.ratio}\"\n",
    "    save_dir  = f\"../Pretrained/ECG-Raw/Window-Shrinking/{method}/Step-128/{save_name}\"\n",
    "\n",
    "    warm_up_dataloader(dataloader[\"train\"])\n",
    "    if config.window_size == 128:\n",
    "        warm_up_dataloader(dataloader[\"test\"])\n",
    "\n",
    "    training_stats = finetune(\n",
    "        model      = model,\n",
    "        epochs     = config.epochs,\n",
    "        dataloader = dataloader,\n",
    "        save_path  = f\"{save_dir}/{save_name}.pth\",\n",
    "        do_eval    = (config.window_size == 128)\n",
    "    )\n",
    "\n",
    "    training_stats.serialize(f\"{save_dir}/stats.txt\")\n",
    "\n",
    "    del dataloader"
   ]
  },
  {
   "cell_type": "code",
   "execution_count": 3,
   "metadata": {},
   "outputs": [
    {
     "name": "stderr",
     "output_type": "stream",
     "text": [
      "[2024-07-10 21:12:31,314] [DTSET] [INFO] Building ECG Dataset from ../Data/MIT-BIH-Raw/Datasets/Resolution-192/image_unfiltered_i192_train_r0.4_balance.h5\n",
      "[2024-07-10 21:12:31,376] [DTSET] [INFO] \tAvailable Memory: 22.71 GiB\n",
      "[2024-07-10 21:12:31,376] [DTSET] [INFO] \tDataset Memory:   13.28 GiB\n"
     ]
    },
    {
     "name": "stdout",
     "output_type": "stream",
     "text": [
      "===== Window Size 192 =====\n"
     ]
    },
    {
     "name": "stderr",
     "output_type": "stream",
     "text": [
      "[2024-07-10 21:14:36,786] [DTSET] [INFO] Building ECG Dataset from ../Data/MIT-BIH-Raw/Datasets/Resolution-128/image_unfiltered_i128_test.h5\n",
      "[2024-07-10 21:14:36,799] [DTSET] [INFO] \tAvailable Memory: 9.46 GiB\n",
      "[2024-07-10 21:14:36,800] [DTSET] [INFO] \tDataset Memory:   3.69 GiB\n",
      "[2024-07-10 21:14:49,827] [UTL] [INFO] Begin finetuning...\n",
      "[2024-07-10 21:15:09,451] [UTL] [INFO] \tEpoch 1 Finished. Time: 19.624327898025513s\n",
      "[2024-07-10 21:15:28,486] [UTL] [INFO] \tEpoch 2 Finished. Time: 19.033292531967163s\n",
      "[2024-07-10 21:15:47,565] [UTL] [INFO] \tEpoch 3 Finished. Time: 19.079333782196045s\n",
      "[2024-07-10 21:16:06,705] [UTL] [INFO] \tEpoch 4 Finished. Time: 19.13938879966736s\n",
      "[2024-07-10 21:16:25,869] [UTL] [INFO] \tEpoch 5 Finished. Time: 19.164411783218384s\n",
      "[2024-07-10 21:16:45,046] [UTL] [INFO] \tEpoch 6 Finished. Time: 19.177423000335693s\n",
      "[2024-07-10 21:17:04,243] [UTL] [INFO] \tEpoch 7 Finished. Time: 19.196441411972046s\n",
      "[2024-07-10 21:17:23,446] [UTL] [INFO] \tEpoch 8 Finished. Time: 19.203447580337524s\n",
      "[2024-07-10 21:17:42,667] [UTL] [INFO] \tEpoch 9 Finished. Time: 19.220460653305054s\n",
      "[2024-07-10 21:18:01,893] [UTL] [INFO] \tEpoch 10 Finished. Time: 19.225467205047607s\n",
      "[2024-07-10 21:18:01,893] [UTL] [INFO] Finetuning completed\n",
      "[2024-07-10 21:18:01,980] [UTL] [INFO] Model saved to ../Pretrained/ECG-Raw/Window-Shrinking/balance/Step-64/resnet18_ep10_i192_r0.4/resnet18_ep10_i192_r0.4.pth\n",
      "[2024-07-10 21:18:03,494] [DTSET] [INFO] Building ECG Dataset from ../Data/MIT-BIH-Raw/Datasets/Resolution-128/image_unfiltered_i128_train.h5\n",
      "[2024-07-10 21:18:03,522] [DTSET] [INFO] \tAvailable Memory: 22.55 GiB\n",
      "[2024-07-10 21:18:03,523] [DTSET] [INFO] \tDataset Memory:   14.75 GiB\n"
     ]
    },
    {
     "name": "stdout",
     "output_type": "stream",
     "text": [
      "===== Window Size 128 =====\n"
     ]
    },
    {
     "name": "stderr",
     "output_type": "stream",
     "text": [
      "[2024-07-10 21:20:48,586] [DTSET] [INFO] Building ECG Dataset from ../Data/MIT-BIH-Raw/Datasets/Resolution-128/image_unfiltered_i128_test.h5\n",
      "[2024-07-10 21:20:48,601] [DTSET] [INFO] \tAvailable Memory: 7.84 GiB\n",
      "[2024-07-10 21:20:48,601] [DTSET] [INFO] \tDataset Memory:   3.69 GiB\n",
      "[2024-07-10 21:21:26,317] [UTL] [INFO] Begin finetuning...\n",
      "[2024-07-10 21:21:52,553] [UTL] [INFO] \tEpoch 1 Accuracy 98.75% / Best Accuracy: 98.75%. Time: 26.235836267471313s\n",
      "[2024-07-10 21:22:18,791] [UTL] [INFO] \tEpoch 2 Accuracy 98.80% / Best Accuracy: 98.80%. Time: 26.23783779144287s\n",
      "[2024-07-10 21:22:45,054] [UTL] [INFO] \tEpoch 3 Accuracy 98.88% / Best Accuracy: 98.88%. Time: 26.262860536575317s\n",
      "[2024-07-10 21:23:11,397] [UTL] [INFO] \tEpoch 4 Accuracy 98.95% / Best Accuracy: 98.95%. Time: 26.34193253517151s\n",
      "[2024-07-10 21:23:37,827] [UTL] [INFO] \tEpoch 5 Accuracy 98.78% / Best Accuracy: 98.95%. Time: 26.430012941360474s\n",
      "[2024-07-10 21:24:04,264] [UTL] [INFO] \tEpoch 6 Accuracy 98.96% / Best Accuracy: 98.96%. Time: 26.436017751693726s\n",
      "[2024-07-10 21:24:30,650] [UTL] [INFO] \tEpoch 7 Accuracy 99.04% / Best Accuracy: 99.04%. Time: 26.38597273826599s\n",
      "[2024-07-10 21:24:57,044] [UTL] [INFO] \tEpoch 8 Accuracy 99.01% / Best Accuracy: 99.04%. Time: 26.39297914505005s\n",
      "[2024-07-10 21:25:23,476] [UTL] [INFO] \tEpoch 9 Accuracy 99.03% / Best Accuracy: 99.04%. Time: 26.431013822555542s\n",
      "[2024-07-10 21:25:49,886] [UTL] [INFO] \tEpoch 10 Accuracy 98.99% / Best Accuracy: 99.04%. Time: 26.4089937210083s\n",
      "[2024-07-10 21:26:16,288] [UTL] [INFO] \tEpoch 11 Accuracy 98.98% / Best Accuracy: 99.04%. Time: 26.4019877910614s\n",
      "[2024-07-10 21:26:42,792] [UTL] [INFO] \tEpoch 12 Accuracy 98.99% / Best Accuracy: 99.04%. Time: 26.50407862663269s\n",
      "[2024-07-10 21:27:09,320] [UTL] [INFO] \tEpoch 13 Accuracy 98.98% / Best Accuracy: 99.04%. Time: 26.528102159500122s\n",
      "[2024-07-10 21:27:35,809] [UTL] [INFO] \tEpoch 14 Accuracy 98.97% / Best Accuracy: 99.04%. Time: 26.488064765930176s\n",
      "[2024-07-10 21:28:02,309] [UTL] [INFO] \tEpoch 15 Accuracy 98.99% / Best Accuracy: 99.04%. Time: 26.50007653236389s\n",
      "[2024-07-10 21:28:28,827] [UTL] [INFO] \tEpoch 16 Accuracy 98.99% / Best Accuracy: 99.04%. Time: 26.517091512680054s\n",
      "[2024-07-10 21:28:55,339] [UTL] [INFO] \tEpoch 17 Accuracy 98.97% / Best Accuracy: 99.04%. Time: 26.512087106704712s\n",
      "[2024-07-10 21:29:21,862] [UTL] [INFO] \tEpoch 18 Accuracy 98.98% / Best Accuracy: 99.04%. Time: 26.52309775352478s\n",
      "[2024-07-10 21:29:48,405] [UTL] [INFO] \tEpoch 19 Accuracy 98.99% / Best Accuracy: 99.04%. Time: 26.542113780975342s\n",
      "[2024-07-10 21:30:14,964] [UTL] [INFO] \tEpoch 20 Accuracy 98.99% / Best Accuracy: 99.04%. Time: 26.55812907218933s\n",
      "[2024-07-10 21:30:41,484] [UTL] [INFO] \tEpoch 21 Accuracy 98.99% / Best Accuracy: 99.04%. Time: 26.520094394683838s\n",
      "[2024-07-10 21:31:07,986] [UTL] [INFO] \tEpoch 22 Accuracy 98.98% / Best Accuracy: 99.04%. Time: 26.50207805633545s\n",
      "[2024-07-10 21:31:34,532] [UTL] [INFO] \tEpoch 23 Accuracy 99.00% / Best Accuracy: 99.04%. Time: 26.546117782592773s\n",
      "[2024-07-10 21:32:01,094] [UTL] [INFO] \tEpoch 24 Accuracy 98.95% / Best Accuracy: 99.04%. Time: 26.561131715774536s\n",
      "[2024-07-10 21:32:27,612] [UTL] [INFO] \tEpoch 25 Accuracy 98.95% / Best Accuracy: 99.04%. Time: 26.51809310913086s\n",
      "[2024-07-10 21:32:54,128] [UTL] [INFO] \tEpoch 26 Accuracy 99.00% / Best Accuracy: 99.04%. Time: 26.515089750289917s\n",
      "[2024-07-10 21:33:20,718] [UTL] [INFO] \tEpoch 27 Accuracy 99.02% / Best Accuracy: 99.04%. Time: 26.589157819747925s\n",
      "[2024-07-10 21:33:47,229] [UTL] [INFO] \tEpoch 28 Accuracy 98.98% / Best Accuracy: 99.04%. Time: 26.511085510253906s\n",
      "[2024-07-10 21:34:13,757] [UTL] [INFO] \tEpoch 29 Accuracy 98.97% / Best Accuracy: 99.04%. Time: 26.527100801467896s\n",
      "[2024-07-10 21:34:40,313] [UTL] [INFO] \tEpoch 30 Accuracy 98.94% / Best Accuracy: 99.04%. Time: 26.555126428604126s\n",
      "[2024-07-10 21:34:40,314] [UTL] [INFO] Finetuning completed\n",
      "[2024-07-10 21:34:40,359] [UTL] [INFO] Model saved to ../Pretrained/ECG-Raw/Window-Shrinking/balance/Step-64/resnet18_ep30_i128_r1.0/resnet18_ep30_i128_r1.0.pth\n"
     ]
    }
   ],
   "source": [
    "# 64 Step\n",
    "\n",
    "num_classes = ArrhythmiaLabels.size\n",
    "model_name  = \"resnet18\"\n",
    "model       = load_model(model_name)\n",
    "model.fc    = nn.Linear(512, num_classes)\n",
    "\n",
    "# To resume training\n",
    "model = load_model_from_pretrained(model_name, f\"../Pretrained/ECG-Raw/Window-Shrinking/balance/resnet18_ep10_i256_r0.3/resnet18_ep10_i256_r0.3.pth\", num_classes)\n",
    "\n",
    "TrainConfig  = namedtuple(\"TrainConfig\", [\"window_size\", \"ratio\", \"epochs\"])\n",
    "train_config = [\n",
    "    #TrainConfig(256, 0.3, 10),\n",
    "    TrainConfig(192, 0.4, 10),\n",
    "    TrainConfig(128, 1.0, 30),\n",
    "]\n",
    "method = \"balance\"\n",
    "\n",
    "for config in train_config:\n",
    "    print(f\"===== Window Size {config.window_size} =====\")\n",
    "\n",
    "    if config.window_size == 128:\n",
    "        train_path = f\"../Data/MIT-BIH-Raw/Datasets/Resolution-{config.window_size}/image_unfiltered_i{config.window_size}_train.h5\"\n",
    "    else:\n",
    "        train_path = f\"../Data/MIT-BIH-Raw/Datasets/Resolution-{config.window_size}/image_unfiltered_i{config.window_size}_train_r{config.ratio}_{method}.h5\"\n",
    "\n",
    "    dataloader = build_dataloader(\n",
    "        train_path    = train_path,\n",
    "        test_path     = f\"../Data/MIT-BIH-Raw/Datasets/Resolution-128/image_unfiltered_i128_test.h5\",\n",
    "        transform     = None,\n",
    "        batch_size    = 128,\n",
    "        preload_train = True,\n",
    "        preload_test  = (config.window_size == 128)\n",
    "    )\n",
    "\n",
    "    save_name = f\"{model_name}_ep{config.epochs}_i{config.window_size}_r{config.ratio}\"\n",
    "    save_dir  = f\"../Pretrained/ECG-Raw/Window-Shrinking/{method}/Step-64/{save_name}\"\n",
    "\n",
    "    warm_up_dataloader(dataloader[\"train\"])\n",
    "    if config.window_size == 128:\n",
    "        warm_up_dataloader(dataloader[\"test\"])\n",
    "\n",
    "    training_stats = finetune(\n",
    "        model      = model,\n",
    "        epochs     = config.epochs,\n",
    "        dataloader = dataloader,\n",
    "        save_path  = f\"{save_dir}/{save_name}.pth\",\n",
    "        do_eval    = (config.window_size == 128)\n",
    "    )\n",
    "\n",
    "    training_stats.serialize(f\"{save_dir}/stats.txt\")\n",
    "\n",
    "    del dataloader"
   ]
  },
  {
   "cell_type": "code",
   "execution_count": 3,
   "metadata": {},
   "outputs": [
    {
     "name": "stderr",
     "output_type": "stream",
     "text": [
      "[2024-07-10 21:58:44,275] [DTSET] [INFO] Building ECG Dataset from ../Data/MIT-BIH-Raw/Datasets/Resolution-224/image_unfiltered_i224_train_r0.3_balance.h5\n",
      "[2024-07-10 21:58:44,277] [DTSET] [INFO] \tAvailable Memory: 23.11 GiB\n",
      "[2024-07-10 21:58:44,278] [DTSET] [INFO] \tDataset Memory:   13.55 GiB\n"
     ]
    },
    {
     "name": "stdout",
     "output_type": "stream",
     "text": [
      "===== Window Size 224 =====\n"
     ]
    },
    {
     "name": "stderr",
     "output_type": "stream",
     "text": [
      "[2024-07-10 22:00:39,662] [DTSET] [INFO] Building ECG Dataset from ../Data/MIT-BIH-Raw/Datasets/Resolution-128/image_unfiltered_i128_test.h5\n",
      "[2024-07-10 22:00:39,663] [DTSET] [INFO] \tAvailable Memory: 9.84 GiB\n",
      "[2024-07-10 22:00:39,664] [DTSET] [INFO] \tDataset Memory:   3.69 GiB\n",
      "[2024-07-10 22:00:48,757] [UTL] [INFO] Begin finetuning...\n",
      "[2024-07-10 22:01:08,566] [UTL] [INFO] \tEpoch 1 Finished. Time: 19.808088302612305s\n",
      "[2024-07-10 22:01:28,158] [UTL] [INFO] \tEpoch 2 Finished. Time: 19.591800212860107s\n",
      "[2024-07-10 22:01:47,832] [UTL] [INFO] \tEpoch 3 Finished. Time: 19.67287278175354s\n",
      "[2024-07-10 22:02:07,589] [UTL] [INFO] \tEpoch 4 Finished. Time: 19.75695013999939s\n",
      "[2024-07-10 22:02:27,405] [UTL] [INFO] \tEpoch 5 Finished. Time: 19.81600332260132s\n",
      "[2024-07-10 22:02:47,236] [UTL] [INFO] \tEpoch 6 Finished. Time: 19.83101725578308s\n",
      "[2024-07-10 22:03:07,074] [UTL] [INFO] \tEpoch 7 Finished. Time: 19.83802342414856s\n",
      "[2024-07-10 22:03:26,931] [UTL] [INFO] \tEpoch 8 Finished. Time: 19.857040405273438s\n",
      "[2024-07-10 22:03:46,798] [UTL] [INFO] \tEpoch 9 Finished. Time: 19.86604881286621s\n",
      "[2024-07-10 22:04:06,686] [UTL] [INFO] \tEpoch 10 Finished. Time: 19.887067794799805s\n",
      "[2024-07-10 22:04:26,585] [UTL] [INFO] \tEpoch 11 Finished. Time: 19.898077964782715s\n",
      "[2024-07-10 22:04:46,465] [UTL] [INFO] \tEpoch 12 Finished. Time: 19.879060983657837s\n",
      "[2024-07-10 22:05:06,370] [UTL] [INFO] \tEpoch 13 Finished. Time: 19.905084133148193s\n",
      "[2024-07-10 22:05:26,319] [UTL] [INFO] \tEpoch 14 Finished. Time: 19.949124574661255s\n",
      "[2024-07-10 22:05:46,266] [UTL] [INFO] \tEpoch 15 Finished. Time: 19.947122812271118s\n",
      "[2024-07-10 22:06:06,227] [UTL] [INFO] \tEpoch 16 Finished. Time: 19.961135149002075s\n",
      "[2024-07-10 22:06:26,201] [UTL] [INFO] \tEpoch 17 Finished. Time: 19.972145795822144s\n",
      "[2024-07-10 22:06:46,164] [UTL] [INFO] \tEpoch 18 Finished. Time: 19.963136672973633s\n",
      "[2024-07-10 22:07:06,132] [UTL] [INFO] \tEpoch 19 Finished. Time: 19.967141151428223s\n",
      "[2024-07-10 22:07:26,099] [UTL] [INFO] \tEpoch 20 Finished. Time: 19.967140913009644s\n",
      "[2024-07-10 22:07:26,099] [UTL] [INFO] Finetuning completed\n",
      "[2024-07-10 22:07:26,211] [UTL] [INFO] Model saved to ../Pretrained/ECG-Raw/Window-Shrinking/balance/Step-32/Epoch-20/resnet18_ep20_i224_r0.3/resnet18_ep20_i224_r0.3.pth\n",
      "[2024-07-10 22:07:27,532] [DTSET] [INFO] Building ECG Dataset from ../Data/MIT-BIH-Raw/Datasets/Resolution-192/image_unfiltered_i192_train_r0.4_balance.h5\n",
      "[2024-07-10 22:07:27,542] [DTSET] [INFO] \tAvailable Memory: 23.36 GiB\n",
      "[2024-07-10 22:07:27,543] [DTSET] [INFO] \tDataset Memory:   13.28 GiB\n"
     ]
    },
    {
     "name": "stdout",
     "output_type": "stream",
     "text": [
      "===== Window Size 192 =====\n"
     ]
    },
    {
     "name": "stderr",
     "output_type": "stream",
     "text": [
      "[2024-07-10 22:09:32,445] [DTSET] [INFO] Building ECG Dataset from ../Data/MIT-BIH-Raw/Datasets/Resolution-128/image_unfiltered_i128_test.h5\n",
      "[2024-07-10 22:09:32,459] [DTSET] [INFO] \tAvailable Memory: 10.10 GiB\n",
      "[2024-07-10 22:09:32,459] [DTSET] [INFO] \tDataset Memory:   3.69 GiB\n",
      "[2024-07-10 22:09:42,942] [UTL] [INFO] Begin finetuning...\n",
      "[2024-07-10 22:10:02,734] [UTL] [INFO] \tEpoch 1 Finished. Time: 19.790789127349854s\n",
      "[2024-07-10 22:10:22,084] [UTL] [INFO] \tEpoch 2 Finished. Time: 19.350579500198364s\n",
      "[2024-07-10 22:10:41,491] [UTL] [INFO] \tEpoch 3 Finished. Time: 19.40663242340088s\n",
      "[2024-07-10 22:11:00,956] [UTL] [INFO] \tEpoch 4 Finished. Time: 19.463682889938354s\n",
      "[2024-07-10 22:11:20,469] [UTL] [INFO] \tEpoch 5 Finished. Time: 19.512728452682495s\n",
      "[2024-07-10 22:11:39,969] [UTL] [INFO] \tEpoch 6 Finished. Time: 19.499715566635132s\n",
      "[2024-07-10 22:11:59,520] [UTL] [INFO] \tEpoch 7 Finished. Time: 19.549761533737183s\n",
      "[2024-07-10 22:12:19,098] [UTL] [INFO] \tEpoch 8 Finished. Time: 19.57778763771057s\n",
      "[2024-07-10 22:12:38,687] [UTL] [INFO] \tEpoch 9 Finished. Time: 19.587795972824097s\n",
      "[2024-07-10 22:12:58,284] [UTL] [INFO] \tEpoch 10 Finished. Time: 19.596803903579712s\n",
      "[2024-07-10 22:13:17,875] [UTL] [INFO] \tEpoch 11 Finished. Time: 19.59079933166504s\n",
      "[2024-07-10 22:13:37,475] [UTL] [INFO] \tEpoch 12 Finished. Time: 19.598805904388428s\n",
      "[2024-07-10 22:13:57,087] [UTL] [INFO] \tEpoch 13 Finished. Time: 19.611818075180054s\n",
      "[2024-07-10 22:14:16,702] [UTL] [INFO] \tEpoch 14 Finished. Time: 19.61482048034668s\n",
      "[2024-07-10 22:14:36,308] [UTL] [INFO] \tEpoch 15 Finished. Time: 19.605813026428223s\n",
      "[2024-07-10 22:14:55,940] [UTL] [INFO] \tEpoch 16 Finished. Time: 19.631836414337158s\n",
      "[2024-07-10 22:15:15,574] [UTL] [INFO] \tEpoch 17 Finished. Time: 19.63383722305298s\n",
      "[2024-07-10 22:15:35,206] [UTL] [INFO] \tEpoch 18 Finished. Time: 19.631836414337158s\n",
      "[2024-07-10 22:15:54,843] [UTL] [INFO] \tEpoch 19 Finished. Time: 19.6368408203125s\n",
      "[2024-07-10 22:16:14,461] [UTL] [INFO] \tEpoch 20 Finished. Time: 19.617823839187622s\n",
      "[2024-07-10 22:16:14,461] [UTL] [INFO] Finetuning completed\n",
      "[2024-07-10 22:16:14,951] [UTL] [INFO] Model saved to ../Pretrained/ECG-Raw/Window-Shrinking/balance/Step-32/Epoch-20/resnet18_ep20_i192_r0.4/resnet18_ep20_i192_r0.4.pth\n",
      "[2024-07-10 22:16:17,057] [DTSET] [INFO] Building ECG Dataset from ../Data/MIT-BIH-Raw/Datasets/Resolution-160/image_unfiltered_i160_train_r0.5_balance.h5\n",
      "[2024-07-10 22:16:17,066] [DTSET] [INFO] \tAvailable Memory: 23.31 GiB\n",
      "[2024-07-10 22:16:17,066] [DTSET] [INFO] \tDataset Memory:   11.53 GiB\n"
     ]
    },
    {
     "name": "stdout",
     "output_type": "stream",
     "text": [
      "===== Window Size 160 =====\n"
     ]
    },
    {
     "name": "stderr",
     "output_type": "stream",
     "text": [
      "[2024-07-10 22:18:11,090] [DTSET] [INFO] Building ECG Dataset from ../Data/MIT-BIH-Raw/Datasets/Resolution-128/image_unfiltered_i128_test.h5\n",
      "[2024-07-10 22:18:11,091] [DTSET] [INFO] \tAvailable Memory: 11.80 GiB\n",
      "[2024-07-10 22:18:11,092] [DTSET] [INFO] \tDataset Memory:   3.69 GiB\n",
      "[2024-07-10 22:18:22,819] [UTL] [INFO] Begin finetuning...\n",
      "[2024-07-10 22:18:41,046] [UTL] [INFO] \tEpoch 1 Finished. Time: 18.226884365081787s\n",
      "[2024-07-10 22:18:58,939] [UTL] [INFO] \tEpoch 2 Finished. Time: 17.893256425857544s\n",
      "[2024-07-10 22:19:16,948] [UTL] [INFO] \tEpoch 3 Finished. Time: 18.008361339569092s\n",
      "[2024-07-10 22:19:34,978] [UTL] [INFO] \tEpoch 4 Finished. Time: 18.02837872505188s\n",
      "[2024-07-10 22:19:52,971] [UTL] [INFO] \tEpoch 5 Finished. Time: 17.99234700202942s\n",
      "[2024-07-10 22:20:11,023] [UTL] [INFO] \tEpoch 6 Finished. Time: 18.052401065826416s\n",
      "[2024-07-10 22:20:29,104] [UTL] [INFO] \tEpoch 7 Finished. Time: 18.07942533493042s\n",
      "[2024-07-10 22:20:47,195] [UTL] [INFO] \tEpoch 8 Finished. Time: 18.09043598175049s\n",
      "[2024-07-10 22:21:05,294] [UTL] [INFO] \tEpoch 9 Finished. Time: 18.098442792892456s\n",
      "[2024-07-10 22:21:23,378] [UTL] [INFO] \tEpoch 10 Finished. Time: 18.08443021774292s\n",
      "[2024-07-10 22:21:41,461] [UTL] [INFO] \tEpoch 11 Finished. Time: 18.081427097320557s\n",
      "[2024-07-10 22:21:59,527] [UTL] [INFO] \tEpoch 12 Finished. Time: 18.06641411781311s\n",
      "[2024-07-10 22:22:17,583] [UTL] [INFO] \tEpoch 13 Finished. Time: 18.0554039478302s\n",
      "[2024-07-10 22:22:35,714] [UTL] [INFO] \tEpoch 14 Finished. Time: 18.129472017288208s\n",
      "[2024-07-10 22:22:53,811] [UTL] [INFO] \tEpoch 15 Finished. Time: 18.0964412689209s\n",
      "[2024-07-10 22:23:11,893] [UTL] [INFO] \tEpoch 16 Finished. Time: 18.081427335739136s\n",
      "[2024-07-10 22:23:30,202] [UTL] [INFO] \tEpoch 17 Finished. Time: 18.308634996414185s\n",
      "[2024-07-10 22:23:48,250] [UTL] [INFO] \tEpoch 18 Finished. Time: 18.047396421432495s\n",
      "[2024-07-10 22:24:06,325] [UTL] [INFO] \tEpoch 19 Finished. Time: 18.075421571731567s\n",
      "[2024-07-10 22:24:24,385] [UTL] [INFO] \tEpoch 20 Finished. Time: 18.058406829833984s\n",
      "[2024-07-10 22:24:24,386] [UTL] [INFO] Finetuning completed\n",
      "[2024-07-10 22:24:24,452] [UTL] [INFO] Model saved to ../Pretrained/ECG-Raw/Window-Shrinking/balance/Step-32/Epoch-20/resnet18_ep20_i160_r0.5/resnet18_ep20_i160_r0.5.pth\n",
      "[2024-07-10 22:24:27,541] [DTSET] [INFO] Building ECG Dataset from ../Data/MIT-BIH-Raw/Datasets/Resolution-128/image_unfiltered_i128_train.h5\n",
      "[2024-07-10 22:24:27,562] [DTSET] [INFO] \tAvailable Memory: 24.05 GiB\n",
      "[2024-07-10 22:24:27,562] [DTSET] [INFO] \tDataset Memory:   14.75 GiB\n"
     ]
    },
    {
     "name": "stdout",
     "output_type": "stream",
     "text": [
      "===== Window Size 128 =====\n"
     ]
    },
    {
     "name": "stderr",
     "output_type": "stream",
     "text": [
      "[2024-07-10 22:27:11,976] [DTSET] [INFO] Building ECG Dataset from ../Data/MIT-BIH-Raw/Datasets/Resolution-128/image_unfiltered_i128_test.h5\n",
      "[2024-07-10 22:27:11,991] [DTSET] [INFO] \tAvailable Memory: 9.33 GiB\n",
      "[2024-07-10 22:27:11,992] [DTSET] [INFO] \tDataset Memory:   3.69 GiB\n",
      "[2024-07-10 22:27:54,027] [UTL] [INFO] Begin finetuning...\n",
      "[2024-07-10 22:28:21,957] [UTL] [INFO] \tEpoch 1 Accuracy 98.87% / Best Accuracy: 98.87%. Time: 27.929577112197876s\n",
      "[2024-07-10 22:28:49,036] [UTL] [INFO] \tEpoch 2 Accuracy 98.72% / Best Accuracy: 98.87%. Time: 27.077601194381714s\n",
      "[2024-07-10 22:29:16,225] [UTL] [INFO] \tEpoch 3 Accuracy 98.92% / Best Accuracy: 98.92%. Time: 27.188700914382935s\n",
      "[2024-07-10 22:29:43,485] [UTL] [INFO] \tEpoch 4 Accuracy 98.98% / Best Accuracy: 98.98%. Time: 27.259767055511475s\n",
      "[2024-07-10 22:30:10,739] [UTL] [INFO] \tEpoch 5 Accuracy 99.11% / Best Accuracy: 99.11%. Time: 27.253760814666748s\n",
      "[2024-07-10 22:30:38,138] [UTL] [INFO] \tEpoch 6 Accuracy 99.13% / Best Accuracy: 99.13%. Time: 27.397891759872437s\n",
      "[2024-07-10 22:31:05,549] [UTL] [INFO] \tEpoch 7 Accuracy 99.14% / Best Accuracy: 99.14%. Time: 27.4099018573761s\n",
      "[2024-07-10 22:31:32,954] [UTL] [INFO] \tEpoch 8 Accuracy 99.14% / Best Accuracy: 99.14%. Time: 27.403897523880005s\n",
      "[2024-07-10 22:32:00,364] [UTL] [INFO] \tEpoch 9 Accuracy 99.13% / Best Accuracy: 99.14%. Time: 27.408901929855347s\n",
      "[2024-07-10 22:32:27,843] [UTL] [INFO] \tEpoch 10 Accuracy 99.14% / Best Accuracy: 99.14%. Time: 27.478965282440186s\n",
      "[2024-07-10 22:32:55,319] [UTL] [INFO] \tEpoch 11 Accuracy 99.16% / Best Accuracy: 99.16%. Time: 27.47496199607849s\n",
      "[2024-07-10 22:33:22,760] [UTL] [INFO] \tEpoch 12 Accuracy 99.13% / Best Accuracy: 99.16%. Time: 27.44093132019043s\n",
      "[2024-07-10 22:33:50,257] [UTL] [INFO] \tEpoch 13 Accuracy 99.14% / Best Accuracy: 99.16%. Time: 27.495981693267822s\n",
      "[2024-07-10 22:34:17,723] [UTL] [INFO] \tEpoch 14 Accuracy 99.16% / Best Accuracy: 99.16%. Time: 27.46695327758789s\n",
      "[2024-07-10 22:34:45,202] [UTL] [INFO] \tEpoch 15 Accuracy 99.14% / Best Accuracy: 99.16%. Time: 27.478965520858765s\n",
      "[2024-07-10 22:35:12,686] [UTL] [INFO] \tEpoch 16 Accuracy 99.16% / Best Accuracy: 99.16%. Time: 27.482970237731934s\n",
      "[2024-07-10 22:35:40,184] [UTL] [INFO] \tEpoch 17 Accuracy 99.15% / Best Accuracy: 99.16%. Time: 27.497982263565063s\n",
      "[2024-07-10 22:36:07,663] [UTL] [INFO] \tEpoch 18 Accuracy 99.15% / Best Accuracy: 99.16%. Time: 27.478965520858765s\n",
      "[2024-07-10 22:36:35,168] [UTL] [INFO] \tEpoch 19 Accuracy 99.16% / Best Accuracy: 99.16%. Time: 27.504467964172363s\n",
      "[2024-07-10 22:37:02,661] [UTL] [INFO] \tEpoch 20 Accuracy 99.14% / Best Accuracy: 99.16%. Time: 27.491976976394653s\n",
      "[2024-07-10 22:37:30,172] [UTL] [INFO] \tEpoch 21 Accuracy 99.16% / Best Accuracy: 99.16%. Time: 27.510995149612427s\n",
      "[2024-07-10 22:37:57,657] [UTL] [INFO] \tEpoch 22 Accuracy 99.16% / Best Accuracy: 99.16%. Time: 27.48496985435486s\n",
      "[2024-07-10 22:38:25,169] [UTL] [INFO] \tEpoch 23 Accuracy 99.16% / Best Accuracy: 99.16%. Time: 27.510994911193848s\n",
      "[2024-07-10 22:38:52,641] [UTL] [INFO] \tEpoch 24 Accuracy 99.14% / Best Accuracy: 99.16%. Time: 27.4709575176239s\n",
      "[2024-07-10 22:39:20,174] [UTL] [INFO] \tEpoch 25 Accuracy 99.15% / Best Accuracy: 99.16%. Time: 27.53201460838318s\n",
      "[2024-07-10 22:39:47,663] [UTL] [INFO] \tEpoch 26 Accuracy 99.16% / Best Accuracy: 99.16%. Time: 27.488974571228027s\n",
      "[2024-07-10 22:40:15,165] [UTL] [INFO] \tEpoch 27 Accuracy 99.13% / Best Accuracy: 99.16%. Time: 27.501986265182495s\n",
      "[2024-07-10 22:40:42,648] [UTL] [INFO] \tEpoch 28 Accuracy 99.15% / Best Accuracy: 99.16%. Time: 27.481968879699707s\n",
      "[2024-07-10 22:41:10,112] [UTL] [INFO] \tEpoch 29 Accuracy 99.13% / Best Accuracy: 99.16%. Time: 27.463951349258423s\n",
      "[2024-07-10 22:41:37,624] [UTL] [INFO] \tEpoch 30 Accuracy 99.15% / Best Accuracy: 99.16%. Time: 27.511995553970337s\n",
      "[2024-07-10 22:41:37,625] [UTL] [INFO] Finetuning completed\n",
      "[2024-07-10 22:41:37,668] [UTL] [INFO] Model saved to ../Pretrained/ECG-Raw/Window-Shrinking/balance/Step-32/Epoch-20/resnet18_ep30_i128_r1.0/resnet18_ep30_i128_r1.0.pth\n"
     ]
    }
   ],
   "source": [
    "# 32 Step\n",
    "\n",
    "num_classes = ArrhythmiaLabels.size\n",
    "model_name  = \"resnet18\"\n",
    "# model       = load_model(model_name)\n",
    "# model.fc    = nn.Linear(512, num_classes)\n",
    "\n",
    "# To resume training\n",
    "model = load_model_from_pretrained(model_name, f\"../Pretrained/ECG-Raw/Window-Shrinking/balance/Step-32/Epoch-20/resnet18_ep20_i256_r0.3/resnet18_ep20_i256_r0.3.pth\", num_classes)\n",
    "\n",
    "TrainConfig  = namedtuple(\"TrainConfig\", [\"window_size\", \"ratio\", \"epochs\"])\n",
    "train_config = [\n",
    "    # TrainConfig(256, 0.3, 20),\n",
    "    TrainConfig(224, 0.3, 20),\n",
    "    TrainConfig(192, 0.4, 20),\n",
    "    TrainConfig(160, 0.5, 20),\n",
    "    TrainConfig(128, 1.0, 30),\n",
    "]\n",
    "method = \"balance\"\n",
    "\n",
    "for config in train_config:\n",
    "    print(f\"===== Window Size {config.window_size} =====\")\n",
    "\n",
    "    if config.window_size == 128:\n",
    "        train_path = f\"../Data/MIT-BIH-Raw/Datasets/Resolution-{config.window_size}/image_unfiltered_i{config.window_size}_train.h5\"\n",
    "    else:\n",
    "        train_path = f\"../Data/MIT-BIH-Raw/Datasets/Resolution-{config.window_size}/image_unfiltered_i{config.window_size}_train_r{config.ratio}_{method}.h5\"\n",
    "\n",
    "    dataloader = build_dataloader(\n",
    "        train_path    = train_path,\n",
    "        test_path     = f\"../Data/MIT-BIH-Raw/Datasets/Resolution-128/image_unfiltered_i128_test.h5\",\n",
    "        transform     = None,\n",
    "        batch_size    = 128,\n",
    "        preload_train = True,\n",
    "        preload_test  = (config.window_size == 128)\n",
    "    )\n",
    "\n",
    "    save_name = f\"{model_name}_ep{config.epochs}_i{config.window_size}_r{config.ratio}\"\n",
    "    save_dir  = f\"../Pretrained/ECG-Raw/Window-Shrinking/{method}/Step-32/Epoch-20/{save_name}\"\n",
    "\n",
    "    warm_up_dataloader(dataloader[\"train\"])\n",
    "    if config.window_size == 128:\n",
    "        warm_up_dataloader(dataloader[\"test\"])\n",
    "\n",
    "    training_stats = finetune(\n",
    "        model      = model,\n",
    "        epochs     = config.epochs,\n",
    "        dataloader = dataloader,\n",
    "        save_path  = f\"{save_dir}/{save_name}.pth\",\n",
    "        do_eval    = (config.window_size == 128) # Only evaluate on 128\n",
    "    )\n",
    "\n",
    "    training_stats.serialize(f\"{save_dir}/stats.txt\")\n",
    "\n",
    "    del dataloader"
   ]
  },
  {
   "cell_type": "code",
   "execution_count": 5,
   "metadata": {},
   "outputs": [
    {
     "name": "stderr",
     "output_type": "stream",
     "text": [
      "[2024-07-10 16:49:34,209] [DTSET] [INFO] Building ECG Dataset from ../Data/MIT-BIH-Raw/Datasets/Resolution-240/image_unfiltered_i240_train_r0.3_balance.h5\n",
      "[2024-07-10 16:49:34,211] [DTSET] [INFO] \tAvailable Memory: 21.63 GiB\n",
      "[2024-07-10 16:49:34,211] [DTSET] [INFO] \tDataset Memory:   15.56 GiB\n"
     ]
    },
    {
     "name": "stdout",
     "output_type": "stream",
     "text": [
      "===== Window Size 240 =====\n"
     ]
    },
    {
     "name": "stderr",
     "output_type": "stream",
     "text": [
      "[2024-07-10 16:51:32,125] [DTSET] [INFO] Building ECG Dataset from ../Data/MIT-BIH-Raw/Datasets/Resolution-128/image_unfiltered_i128_test.h5\n",
      "[2024-07-10 16:51:32,127] [DTSET] [INFO] \tAvailable Memory: 6.65 GiB\n",
      "[2024-07-10 16:51:32,127] [DTSET] [INFO] \tDataset Memory:   3.69 GiB\n",
      "[2024-07-10 16:51:41,360] [UTL] [INFO] Begin finetuning...\n",
      "[2024-07-10 16:52:04,886] [UTL] [INFO] \tEpoch 1 Finished. Time: 23.524114847183228s\n",
      "[2024-07-10 16:52:28,083] [UTL] [INFO] \tEpoch 2 Finished. Time: 23.196073055267334s\n",
      "[2024-07-10 16:52:51,369] [UTL] [INFO] \tEpoch 3 Finished. Time: 23.28615713119507s\n",
      "[2024-07-10 16:53:14,757] [UTL] [INFO] \tEpoch 4 Finished. Time: 23.387248039245605s\n",
      "[2024-07-10 16:53:38,166] [UTL] [INFO] \tEpoch 5 Finished. Time: 23.40926718711853s\n",
      "[2024-07-10 16:54:01,729] [UTL] [INFO] \tEpoch 6 Finished. Time: 23.561720609664917s\n",
      "[2024-07-10 16:54:25,131] [UTL] [INFO] \tEpoch 7 Finished. Time: 23.402260780334473s\n",
      "[2024-07-10 16:54:48,558] [UTL] [INFO] \tEpoch 8 Finished. Time: 23.4252827167511s\n",
      "[2024-07-10 16:55:11,980] [UTL] [INFO] \tEpoch 9 Finished. Time: 23.422280311584473s\n",
      "[2024-07-10 16:55:35,425] [UTL] [INFO] \tEpoch 10 Finished. Time: 23.445300102233887s\n",
      "[2024-07-10 16:55:35,426] [UTL] [INFO] Finetuning completed\n",
      "[2024-07-10 16:55:35,544] [UTL] [INFO] Model saved to ../Pretrained/ECG-Raw/Window-Shrinking/balance/More/resnet18_ep10_i240_r0.3/resnet18_ep10_i240_r0.3.pth\n",
      "[2024-07-10 16:55:36,737] [DTSET] [INFO] Building ECG Dataset from ../Data/MIT-BIH-Raw/Datasets/Resolution-224/image_unfiltered_i224_train_r0.3_balance.h5\n",
      "[2024-07-10 16:55:36,788] [DTSET] [INFO] \tAvailable Memory: 22.18 GiB\n",
      "[2024-07-10 16:55:36,789] [DTSET] [INFO] \tDataset Memory:   13.55 GiB\n"
     ]
    },
    {
     "name": "stdout",
     "output_type": "stream",
     "text": [
      "===== Window Size 224 =====\n"
     ]
    },
    {
     "name": "stderr",
     "output_type": "stream",
     "text": [
      "[2024-07-10 16:57:32,299] [DTSET] [INFO] Building ECG Dataset from ../Data/MIT-BIH-Raw/Datasets/Resolution-128/image_unfiltered_i128_test.h5\n",
      "[2024-07-10 16:57:32,321] [DTSET] [INFO] \tAvailable Memory: 8.65 GiB\n",
      "[2024-07-10 16:57:32,322] [DTSET] [INFO] \tDataset Memory:   3.69 GiB\n",
      "[2024-07-10 16:57:44,108] [UTL] [INFO] Begin finetuning...\n",
      "[2024-07-10 16:58:03,935] [UTL] [INFO] \tEpoch 1 Finished. Time: 19.827564477920532s\n",
      "[2024-07-10 16:58:23,410] [UTL] [INFO] \tEpoch 2 Finished. Time: 19.474918365478516s\n",
      "[2024-07-10 16:58:42,514] [UTL] [INFO] \tEpoch 3 Finished. Time: 19.103755235671997s\n",
      "[2024-07-10 16:59:02,216] [UTL] [INFO] \tEpoch 4 Finished. Time: 19.70089817047119s\n",
      "[2024-07-10 16:59:21,860] [UTL] [INFO] \tEpoch 5 Finished. Time: 19.64284610748291s\n",
      "[2024-07-10 16:59:41,540] [UTL] [INFO] \tEpoch 6 Finished. Time: 19.679879665374756s\n",
      "[2024-07-10 17:00:01,216] [UTL] [INFO] \tEpoch 7 Finished. Time: 19.67687749862671s\n",
      "[2024-07-10 17:00:20,934] [UTL] [INFO] \tEpoch 8 Finished. Time: 19.71791410446167s\n",
      "[2024-07-10 17:00:40,646] [UTL] [INFO] \tEpoch 9 Finished. Time: 19.71090841293335s\n",
      "[2024-07-10 17:01:00,344] [UTL] [INFO] \tEpoch 10 Finished. Time: 19.697895526885986s\n",
      "[2024-07-10 17:01:00,344] [UTL] [INFO] Finetuning completed\n",
      "[2024-07-10 17:01:00,454] [UTL] [INFO] Model saved to ../Pretrained/ECG-Raw/Window-Shrinking/balance/More/resnet18_ep10_i224_r0.3/resnet18_ep10_i224_r0.3.pth\n",
      "[2024-07-10 17:01:02,068] [DTSET] [INFO] Building ECG Dataset from ../Data/MIT-BIH-Raw/Datasets/Resolution-208/image_unfiltered_i208_train_r0.4_balance.h5\n",
      "[2024-07-10 17:01:02,123] [DTSET] [INFO] \tAvailable Memory: 22.13 GiB\n",
      "[2024-07-10 17:01:02,123] [DTSET] [INFO] \tDataset Memory:   15.58 GiB\n"
     ]
    },
    {
     "name": "stdout",
     "output_type": "stream",
     "text": [
      "===== Window Size 208 =====\n"
     ]
    },
    {
     "name": "stderr",
     "output_type": "stream",
     "text": [
      "[2024-07-10 17:03:01,730] [DTSET] [INFO] Building ECG Dataset from ../Data/MIT-BIH-Raw/Datasets/Resolution-128/image_unfiltered_i128_test.h5\n",
      "[2024-07-10 17:03:01,741] [DTSET] [INFO] \tAvailable Memory: 6.72 GiB\n",
      "[2024-07-10 17:03:01,742] [DTSET] [INFO] \tDataset Memory:   3.69 GiB\n",
      "[2024-07-10 17:03:13,195] [UTL] [INFO] Begin finetuning...\n",
      "[2024-07-10 17:03:37,513] [UTL] [INFO] \tEpoch 1 Finished. Time: 24.316267251968384s\n",
      "[2024-07-10 17:04:01,340] [UTL] [INFO] \tEpoch 2 Finished. Time: 23.825644969940186s\n",
      "[2024-07-10 17:04:25,235] [UTL] [INFO] \tEpoch 3 Finished. Time: 23.895710229873657s\n",
      "[2024-07-10 17:04:49,230] [UTL] [INFO] \tEpoch 4 Finished. Time: 23.993798971176147s\n",
      "[2024-07-10 17:05:13,252] [UTL] [INFO] \tEpoch 5 Finished. Time: 24.021824598312378s\n",
      "[2024-07-10 17:05:37,301] [UTL] [INFO] \tEpoch 6 Finished. Time: 24.046847343444824s\n",
      "[2024-07-10 17:06:01,379] [UTL] [INFO] \tEpoch 7 Finished. Time: 24.07787561416626s\n",
      "[2024-07-10 17:06:25,449] [UTL] [INFO] \tEpoch 8 Finished. Time: 24.07086968421936s\n",
      "[2024-07-10 17:06:49,523] [UTL] [INFO] \tEpoch 9 Finished. Time: 24.072871685028076s\n",
      "[2024-07-10 17:07:13,632] [UTL] [INFO] \tEpoch 10 Finished. Time: 24.107902765274048s\n",
      "[2024-07-10 17:07:13,632] [UTL] [INFO] Finetuning completed\n",
      "[2024-07-10 17:07:13,726] [UTL] [INFO] Model saved to ../Pretrained/ECG-Raw/Window-Shrinking/balance/More/resnet18_ep10_i208_r0.4/resnet18_ep10_i208_r0.4.pth\n",
      "[2024-07-10 17:07:15,879] [DTSET] [INFO] Building ECG Dataset from ../Data/MIT-BIH-Raw/Datasets/Resolution-192/image_unfiltered_i192_train_r0.4_balance.h5\n",
      "[2024-07-10 17:07:15,924] [DTSET] [INFO] \tAvailable Memory: 22.02 GiB\n",
      "[2024-07-10 17:07:15,925] [DTSET] [INFO] \tDataset Memory:   13.28 GiB\n"
     ]
    },
    {
     "name": "stdout",
     "output_type": "stream",
     "text": [
      "===== Window Size 192 =====\n"
     ]
    },
    {
     "name": "stderr",
     "output_type": "stream",
     "text": [
      "[2024-07-10 17:09:31,954] [DTSET] [INFO] Building ECG Dataset from ../Data/MIT-BIH-Raw/Datasets/Resolution-128/image_unfiltered_i128_test.h5\n",
      "[2024-07-10 17:09:32,000] [DTSET] [INFO] \tAvailable Memory: 8.88 GiB\n",
      "[2024-07-10 17:09:32,001] [DTSET] [INFO] \tDataset Memory:   3.69 GiB\n",
      "[2024-07-10 17:09:44,124] [UTL] [INFO] Begin finetuning...\n",
      "[2024-07-10 17:10:03,835] [UTL] [INFO] \tEpoch 1 Finished. Time: 19.709665775299072s\n",
      "[2024-07-10 17:10:23,136] [UTL] [INFO] \tEpoch 2 Finished. Time: 19.301535844802856s\n",
      "[2024-07-10 17:10:42,470] [UTL] [INFO] \tEpoch 3 Finished. Time: 19.333565950393677s\n",
      "[2024-07-10 17:11:01,828] [UTL] [INFO] \tEpoch 4 Finished. Time: 19.35758686065674s\n",
      "[2024-07-10 17:11:21,234] [UTL] [INFO] \tEpoch 5 Finished. Time: 19.405630350112915s\n",
      "[2024-07-10 17:11:40,673] [UTL] [INFO] \tEpoch 6 Finished. Time: 19.438661098480225s\n",
      "[2024-07-10 17:12:00,121] [UTL] [INFO] \tEpoch 7 Finished. Time: 19.44766855239868s\n",
      "[2024-07-10 17:12:19,598] [UTL] [INFO] \tEpoch 8 Finished. Time: 19.47569465637207s\n",
      "[2024-07-10 17:12:39,077] [UTL] [INFO] \tEpoch 9 Finished. Time: 19.478697061538696s\n",
      "[2024-07-10 17:12:58,799] [UTL] [INFO] \tEpoch 10 Finished. Time: 19.721917867660522s\n",
      "[2024-07-10 17:12:58,799] [UTL] [INFO] Finetuning completed\n",
      "[2024-07-10 17:12:58,887] [UTL] [INFO] Model saved to ../Pretrained/ECG-Raw/Window-Shrinking/balance/More/resnet18_ep10_i192_r0.4/resnet18_ep10_i192_r0.4.pth\n",
      "[2024-07-10 17:13:01,126] [DTSET] [INFO] Building ECG Dataset from ../Data/MIT-BIH-Raw/Datasets/Resolution-176/image_unfiltered_i176_train_r0.5_balance.h5\n",
      "[2024-07-10 17:13:01,173] [DTSET] [INFO] \tAvailable Memory: 22.03 GiB\n",
      "[2024-07-10 17:13:01,174] [DTSET] [INFO] \tDataset Memory:   13.95 GiB\n"
     ]
    },
    {
     "name": "stdout",
     "output_type": "stream",
     "text": [
      "===== Window Size 176 =====\n"
     ]
    },
    {
     "name": "stderr",
     "output_type": "stream",
     "text": [
      "[2024-07-10 17:14:49,305] [DTSET] [INFO] Building ECG Dataset from ../Data/MIT-BIH-Raw/Datasets/Resolution-128/image_unfiltered_i128_test.h5\n",
      "[2024-07-10 17:14:49,339] [DTSET] [INFO] \tAvailable Memory: 8.18 GiB\n",
      "[2024-07-10 17:14:49,339] [DTSET] [INFO] \tDataset Memory:   3.69 GiB\n",
      "[2024-07-10 17:15:02,271] [UTL] [INFO] Begin finetuning...\n",
      "[2024-07-10 17:15:24,003] [UTL] [INFO] \tEpoch 1 Finished. Time: 21.732040882110596s\n",
      "[2024-07-10 17:15:45,465] [UTL] [INFO] \tEpoch 2 Finished. Time: 21.461498022079468s\n",
      "[2024-07-10 17:16:07,016] [UTL] [INFO] \tEpoch 3 Finished. Time: 21.549578189849854s\n",
      "[2024-07-10 17:16:28,618] [UTL] [INFO] \tEpoch 4 Finished. Time: 21.60231924057007s\n",
      "[2024-07-10 17:16:50,351] [UTL] [INFO] \tEpoch 5 Finished. Time: 21.731849908828735s\n",
      "[2024-07-10 17:17:12,041] [UTL] [INFO] \tEpoch 6 Finished. Time: 21.689209938049316s\n",
      "[2024-07-10 17:17:33,762] [UTL] [INFO] \tEpoch 7 Finished. Time: 21.72073459625244s\n",
      "[2024-07-10 17:17:55,486] [UTL] [INFO] \tEpoch 8 Finished. Time: 21.72290301322937s\n",
      "[2024-07-10 17:18:17,217] [UTL] [INFO] \tEpoch 9 Finished. Time: 21.730743408203125s\n",
      "[2024-07-10 17:18:38,950] [UTL] [INFO] \tEpoch 10 Finished. Time: 21.731744050979614s\n",
      "[2024-07-10 17:18:38,950] [UTL] [INFO] Finetuning completed\n",
      "[2024-07-10 17:18:39,028] [UTL] [INFO] Model saved to ../Pretrained/ECG-Raw/Window-Shrinking/balance/More/resnet18_ep10_i176_r0.5/resnet18_ep10_i176_r0.5.pth\n",
      "[2024-07-10 17:18:41,712] [DTSET] [INFO] Building ECG Dataset from ../Data/MIT-BIH-Raw/Datasets/Resolution-160/image_unfiltered_i160_train_r0.5_balance.h5\n",
      "[2024-07-10 17:18:41,768] [DTSET] [INFO] \tAvailable Memory: 22.01 GiB\n",
      "[2024-07-10 17:18:41,768] [DTSET] [INFO] \tDataset Memory:   11.53 GiB\n"
     ]
    },
    {
     "name": "stdout",
     "output_type": "stream",
     "text": [
      "===== Window Size 160 =====\n"
     ]
    },
    {
     "name": "stderr",
     "output_type": "stream",
     "text": [
      "[2024-07-10 17:20:37,601] [DTSET] [INFO] Building ECG Dataset from ../Data/MIT-BIH-Raw/Datasets/Resolution-128/image_unfiltered_i128_test.h5\n",
      "[2024-07-10 17:20:37,617] [DTSET] [INFO] \tAvailable Memory: 10.65 GiB\n",
      "[2024-07-10 17:20:37,618] [DTSET] [INFO] \tDataset Memory:   3.69 GiB\n",
      "[2024-07-10 17:20:49,616] [UTL] [INFO] Begin finetuning...\n",
      "[2024-07-10 17:21:07,899] [UTL] [INFO] \tEpoch 1 Finished. Time: 18.282028913497925s\n",
      "[2024-07-10 17:21:25,653] [UTL] [INFO] \tEpoch 2 Finished. Time: 17.75212788581848s\n",
      "[2024-07-10 17:21:43,505] [UTL] [INFO] \tEpoch 3 Finished. Time: 17.851218461990356s\n",
      "[2024-07-10 17:22:01,376] [UTL] [INFO] \tEpoch 4 Finished. Time: 17.871236085891724s\n",
      "[2024-07-10 17:22:19,314] [UTL] [INFO] \tEpoch 5 Finished. Time: 17.938297510147095s\n",
      "[2024-07-10 17:22:37,242] [UTL] [INFO] \tEpoch 6 Finished. Time: 17.927287578582764s\n",
      "[2024-07-10 17:22:55,246] [UTL] [INFO] \tEpoch 7 Finished. Time: 18.00335669517517s\n",
      "[2024-07-10 17:23:13,201] [UTL] [INFO] \tEpoch 8 Finished. Time: 17.955312728881836s\n",
      "[2024-07-10 17:23:31,185] [UTL] [INFO] \tEpoch 9 Finished. Time: 17.98133659362793s\n",
      "[2024-07-10 17:23:49,183] [UTL] [INFO] \tEpoch 10 Finished. Time: 17.99835228919983s\n",
      "[2024-07-10 17:23:49,183] [UTL] [INFO] Finetuning completed\n",
      "[2024-07-10 17:23:49,249] [UTL] [INFO] Model saved to ../Pretrained/ECG-Raw/Window-Shrinking/balance/More/resnet18_ep10_i160_r0.5/resnet18_ep10_i160_r0.5.pth\n",
      "[2024-07-10 17:23:52,118] [DTSET] [INFO] Building ECG Dataset from ../Data/MIT-BIH-Raw/Datasets/Resolution-144/image_unfiltered_i144_train_r0.6_balance.h5\n",
      "[2024-07-10 17:23:52,176] [DTSET] [INFO] \tAvailable Memory: 22.32 GiB\n",
      "[2024-07-10 17:23:52,176] [DTSET] [INFO] \tDataset Memory:   11.20 GiB\n"
     ]
    },
    {
     "name": "stdout",
     "output_type": "stream",
     "text": [
      "===== Window Size 144 =====\n"
     ]
    },
    {
     "name": "stderr",
     "output_type": "stream",
     "text": [
      "[2024-07-10 17:25:32,178] [DTSET] [INFO] Building ECG Dataset from ../Data/MIT-BIH-Raw/Datasets/Resolution-128/image_unfiltered_i128_test.h5\n",
      "[2024-07-10 17:25:32,197] [DTSET] [INFO] \tAvailable Memory: 11.15 GiB\n",
      "[2024-07-10 17:25:32,198] [DTSET] [INFO] \tDataset Memory:   3.69 GiB\n",
      "[2024-07-10 17:25:45,133] [UTL] [INFO] Begin finetuning...\n",
      "[2024-07-10 17:26:04,422] [UTL] [INFO] \tEpoch 1 Finished. Time: 19.2875235080719s\n",
      "[2024-07-10 17:26:23,223] [UTL] [INFO] \tEpoch 2 Finished. Time: 18.800080060958862s\n",
      "[2024-07-10 17:26:41,956] [UTL] [INFO] \tEpoch 3 Finished. Time: 18.733019828796387s\n",
      "[2024-07-10 17:27:00,897] [UTL] [INFO] \tEpoch 4 Finished. Time: 18.940208196640015s\n",
      "[2024-07-10 17:27:20,004] [UTL] [INFO] \tEpoch 5 Finished. Time: 19.107359170913696s\n",
      "[2024-07-10 17:27:39,226] [UTL] [INFO] \tEpoch 6 Finished. Time: 19.220481872558594s\n",
      "[2024-07-10 17:27:58,351] [UTL] [INFO] \tEpoch 7 Finished. Time: 19.124375104904175s\n",
      "[2024-07-10 17:28:17,281] [UTL] [INFO] \tEpoch 8 Finished. Time: 18.929197549819946s\n",
      "[2024-07-10 17:28:36,214] [UTL] [INFO] \tEpoch 9 Finished. Time: 18.933201551437378s\n",
      "[2024-07-10 17:28:55,100] [UTL] [INFO] \tEpoch 10 Finished. Time: 18.884156942367554s\n",
      "[2024-07-10 17:28:55,101] [UTL] [INFO] Finetuning completed\n",
      "[2024-07-10 17:28:55,160] [UTL] [INFO] Model saved to ../Pretrained/ECG-Raw/Window-Shrinking/balance/More/resnet18_ep10_i144_r0.6/resnet18_ep10_i144_r0.6.pth\n",
      "[2024-07-10 17:28:58,548] [DTSET] [INFO] Building ECG Dataset from ../Data/MIT-BIH-Raw/Datasets/Resolution-128/image_unfiltered_i128_train.h5\n",
      "[2024-07-10 17:28:58,678] [DTSET] [INFO] \tAvailable Memory: 22.85 GiB\n",
      "[2024-07-10 17:28:58,679] [DTSET] [INFO] \tDataset Memory:   14.75 GiB\n"
     ]
    },
    {
     "name": "stdout",
     "output_type": "stream",
     "text": [
      "===== Window Size 128 =====\n"
     ]
    },
    {
     "name": "stderr",
     "output_type": "stream",
     "text": [
      "[2024-07-10 17:31:43,675] [DTSET] [INFO] Building ECG Dataset from ../Data/MIT-BIH-Raw/Datasets/Resolution-128/image_unfiltered_i128_test.h5\n",
      "[2024-07-10 17:31:43,691] [DTSET] [INFO] \tAvailable Memory: 8.15 GiB\n",
      "[2024-07-10 17:31:43,692] [DTSET] [INFO] \tDataset Memory:   3.69 GiB\n",
      "[2024-07-10 17:32:38,249] [UTL] [INFO] Begin finetuning...\n",
      "[2024-07-10 17:33:15,573] [UTL] [INFO] \tEpoch 1 Accuracy 98.97% / Best Accuracy: 98.97%. Time: 37.324442625045776s\n",
      "[2024-07-10 17:33:48,666] [UTL] [INFO] \tEpoch 2 Accuracy 99.02% / Best Accuracy: 99.02%. Time: 33.0930655002594s\n",
      "[2024-07-10 17:34:21,547] [UTL] [INFO] \tEpoch 3 Accuracy 99.16% / Best Accuracy: 99.16%. Time: 32.88087320327759s\n",
      "[2024-07-10 17:34:54,456] [UTL] [INFO] \tEpoch 4 Accuracy 99.11% / Best Accuracy: 99.16%. Time: 32.90889930725098s\n",
      "[2024-07-10 17:35:27,396] [UTL] [INFO] \tEpoch 5 Accuracy 99.18% / Best Accuracy: 99.18%. Time: 32.93992638587952s\n",
      "[2024-07-10 17:36:00,266] [UTL] [INFO] \tEpoch 6 Accuracy 99.22% / Best Accuracy: 99.22%. Time: 32.86986422538757s\n",
      "[2024-07-10 17:36:33,107] [UTL] [INFO] \tEpoch 7 Accuracy 99.19% / Best Accuracy: 99.22%. Time: 32.84131217002869s\n",
      "[2024-07-10 17:37:06,083] [UTL] [INFO] \tEpoch 8 Accuracy 99.22% / Best Accuracy: 99.22%. Time: 32.97595977783203s\n",
      "[2024-07-10 17:37:38,959] [UTL] [INFO] \tEpoch 9 Accuracy 99.20% / Best Accuracy: 99.22%. Time: 32.875868797302246s\n",
      "[2024-07-10 17:38:11,893] [UTL] [INFO] \tEpoch 10 Accuracy 99.19% / Best Accuracy: 99.22%. Time: 32.932920694351196s\n",
      "[2024-07-10 17:38:44,815] [UTL] [INFO] \tEpoch 11 Accuracy 99.21% / Best Accuracy: 99.22%. Time: 32.92191028594971s\n",
      "[2024-07-10 17:39:17,705] [UTL] [INFO] \tEpoch 12 Accuracy 99.21% / Best Accuracy: 99.22%. Time: 32.89088249206543s\n",
      "[2024-07-10 17:39:50,747] [UTL] [INFO] \tEpoch 13 Accuracy 99.20% / Best Accuracy: 99.22%. Time: 33.04101872444153s\n",
      "[2024-07-10 17:40:23,709] [UTL] [INFO] \tEpoch 14 Accuracy 99.23% / Best Accuracy: 99.23%. Time: 32.961946964263916s\n",
      "[2024-07-10 17:40:56,656] [UTL] [INFO] \tEpoch 15 Accuracy 99.23% / Best Accuracy: 99.23%. Time: 32.94693374633789s\n",
      "[2024-07-10 17:41:29,537] [UTL] [INFO] \tEpoch 16 Accuracy 99.20% / Best Accuracy: 99.23%. Time: 32.88087344169617s\n",
      "[2024-07-10 17:42:02,495] [UTL] [INFO] \tEpoch 17 Accuracy 99.22% / Best Accuracy: 99.23%. Time: 32.95694184303284s\n",
      "[2024-07-10 17:42:35,411] [UTL] [INFO] \tEpoch 18 Accuracy 99.23% / Best Accuracy: 99.23%. Time: 32.91490364074707s\n",
      "[2024-07-10 17:43:08,239] [UTL] [INFO] \tEpoch 19 Accuracy 99.21% / Best Accuracy: 99.23%. Time: 32.826823711395264s\n",
      "[2024-07-10 17:43:41,037] [UTL] [INFO] \tEpoch 20 Accuracy 99.23% / Best Accuracy: 99.23%. Time: 32.79779815673828s\n",
      "[2024-07-10 17:44:13,868] [UTL] [INFO] \tEpoch 21 Accuracy 99.26% / Best Accuracy: 99.26%. Time: 32.82982683181763s\n",
      "[2024-07-10 17:44:46,739] [UTL] [INFO] \tEpoch 22 Accuracy 99.23% / Best Accuracy: 99.26%. Time: 32.87186527252197s\n",
      "[2024-07-10 17:45:19,569] [UTL] [INFO] \tEpoch 23 Accuracy 99.23% / Best Accuracy: 99.26%. Time: 32.829827308654785s\n",
      "[2024-07-10 17:45:52,589] [UTL] [INFO] \tEpoch 24 Accuracy 99.22% / Best Accuracy: 99.26%. Time: 33.019999265670776s\n",
      "[2024-07-10 17:46:25,676] [UTL] [INFO] \tEpoch 25 Accuracy 99.22% / Best Accuracy: 99.26%. Time: 33.08706068992615s\n",
      "[2024-07-10 17:46:58,657] [UTL] [INFO] \tEpoch 26 Accuracy 99.21% / Best Accuracy: 99.26%. Time: 32.980963945388794s\n",
      "[2024-07-10 17:47:31,656] [UTL] [INFO] \tEpoch 27 Accuracy 99.23% / Best Accuracy: 99.26%. Time: 32.99898147583008s\n",
      "[2024-07-10 17:48:04,731] [UTL] [INFO] \tEpoch 28 Accuracy 99.22% / Best Accuracy: 99.26%. Time: 33.07504940032959s\n",
      "[2024-07-10 17:48:37,730] [UTL] [INFO] \tEpoch 29 Accuracy 99.20% / Best Accuracy: 99.26%. Time: 32.99898052215576s\n",
      "[2024-07-10 17:49:10,821] [UTL] [INFO] \tEpoch 30 Accuracy 99.21% / Best Accuracy: 99.26%. Time: 33.09006333351135s\n",
      "[2024-07-10 17:49:10,822] [UTL] [INFO] Finetuning completed\n",
      "[2024-07-10 17:49:10,865] [UTL] [INFO] Model saved to ../Pretrained/ECG-Raw/Window-Shrinking/balance/More/resnet18_ep30_i128_r1.0/resnet18_ep30_i128_r1.0.pth\n"
     ]
    }
   ],
   "source": [
    "# 16 Step\n",
    "\n",
    "num_classes = ArrhythmiaLabels.size\n",
    "model_name  = \"resnet18\"\n",
    "# model       = load_model(model_name)\n",
    "# model.fc    = nn.Linear(512, num_classes)\n",
    "\n",
    "# To resume training\n",
    "model = load_model_from_pretrained(model_name, f\"../Pretrained/ECG-Raw/Window-Shrinking/balance/More/resnet18_ep10_i256_r0.3/resnet18_ep10_i256_r0.3.pth\", num_classes)\n",
    "\n",
    "TrainConfig  = namedtuple(\"TrainConfig\", [\"window_size\", \"ratio\", \"epochs\"])\n",
    "train_config = [\n",
    "    #TrainConfig(256, 0.3, 10),\n",
    "    TrainConfig(240, 0.3, 10),\n",
    "    TrainConfig(224, 0.3, 10),\n",
    "    TrainConfig(208, 0.4, 10),\n",
    "    TrainConfig(192, 0.4, 10),\n",
    "    TrainConfig(176, 0.5, 10),\n",
    "    TrainConfig(160, 0.5, 10),\n",
    "    TrainConfig(144, 0.6, 10),\n",
    "    TrainConfig(128, 1.0, 30),\n",
    "]\n",
    "method = \"balance\"\n",
    "\n",
    "for config in train_config:\n",
    "    print(f\"===== Window Size {config.window_size} =====\")\n",
    "\n",
    "    if config.window_size == 128:\n",
    "        train_path = f\"../Data/MIT-BIH-Raw/Datasets/Resolution-{config.window_size}/image_unfiltered_i{config.window_size}_train.h5\"\n",
    "    else:\n",
    "        train_path = f\"../Data/MIT-BIH-Raw/Datasets/Resolution-{config.window_size}/image_unfiltered_i{config.window_size}_train_r{config.ratio}_{method}.h5\"\n",
    "\n",
    "    dataloader = build_dataloader(\n",
    "        train_path    = train_path,\n",
    "        test_path     = f\"../Data/MIT-BIH-Raw/Datasets/Resolution-128/image_unfiltered_i128_test.h5\",\n",
    "        transform     = None,\n",
    "        batch_size    = 128,\n",
    "        preload_train = True,\n",
    "        preload_test  = (config.window_size == 128)\n",
    "    )\n",
    "\n",
    "    save_name = f\"{model_name}_ep{config.epochs}_i{config.window_size}_r{config.ratio}\"\n",
    "    save_dir  = f\"../Pretrained/ECG-Raw/Window-Shrinking/{method}/Step-16/{save_name}\"\n",
    "\n",
    "    warm_up_dataloader(dataloader[\"train\"])\n",
    "    if config.window_size == 128:\n",
    "        warm_up_dataloader(dataloader[\"test\"])\n",
    "\n",
    "    training_stats = finetune(\n",
    "        model      = model,\n",
    "        epochs     = config.epochs,\n",
    "        dataloader = dataloader,\n",
    "        save_path  = f\"{save_dir}/{save_name}.pth\",\n",
    "        do_eval    = (config.window_size == 128)\n",
    "    )\n",
    "\n",
    "    training_stats.serialize(f\"{save_dir}/stats.txt\")\n",
    "\n",
    "    del dataloader"
   ]
  },
  {
   "cell_type": "code",
   "execution_count": 2,
   "metadata": {},
   "outputs": [
    {
     "name": "stderr",
     "output_type": "stream",
     "text": [
      "[2024-07-16 14:46:24,662] [DTSET] [INFO] Building ECG Dataset from ../Data/MIT-BIH-Raw/Datasets/Resolution-192/image_unfiltered_i192_train_r0.4_balance.h5\n",
      "[2024-07-16 14:46:24,664] [DTSET] [INFO] \tAvailable Memory: 25.33 GiB\n",
      "[2024-07-16 14:46:24,665] [DTSET] [INFO] \tDataset Memory:   13.28 GiB\n",
      "[2024-07-16 14:46:24,665] [DTSET] [INFO] \tPreloading images and labels\n"
     ]
    },
    {
     "name": "stdout",
     "output_type": "stream",
     "text": [
      "===== Window Size 192 =====\n"
     ]
    },
    {
     "name": "stderr",
     "output_type": "stream",
     "text": [
      "[2024-07-16 14:47:02,197] [DTSET] [INFO] Building ECG Dataset from ../Data/MIT-BIH-Raw/Datasets/Resolution-128/image_unfiltered_i128_test.h5\n",
      "[2024-07-16 14:47:02,211] [DTSET] [INFO] \tAvailable Memory: 12.02 GiB\n",
      "[2024-07-16 14:47:02,211] [DTSET] [INFO] \tDataset Memory:   3.69 GiB\n",
      "[2024-07-16 14:47:08,665] [CLASS] [INFO] Begin finetuning...\n",
      "[2024-07-16 14:48:07,818] [CLASS] [INFO] \tEpoch 1 Finished. Time: 59.152076721191406s\n",
      "[2024-07-16 14:49:03,906] [CLASS] [INFO] \tEpoch 2 Finished. Time: 56.08792161941528s\n",
      "[2024-07-16 14:50:00,158] [CLASS] [INFO] \tEpoch 3 Finished. Time: 56.25107002258301s\n",
      "[2024-07-16 14:50:56,516] [CLASS] [INFO] \tEpoch 4 Finished. Time: 56.35816740989685s\n",
      "[2024-07-16 14:51:52,944] [CLASS] [INFO] \tEpoch 5 Finished. Time: 56.42823052406311s\n",
      "[2024-07-16 14:52:49,402] [CLASS] [INFO] \tEpoch 6 Finished. Time: 56.458258867263794s\n",
      "[2024-07-16 14:53:45,923] [CLASS] [INFO] \tEpoch 7 Finished. Time: 56.52031397819519s\n",
      "[2024-07-16 14:54:42,397] [CLASS] [INFO] \tEpoch 8 Finished. Time: 56.47427225112915s\n",
      "[2024-07-16 14:55:38,868] [CLASS] [INFO] \tEpoch 9 Finished. Time: 56.470269203186035s\n",
      "[2024-07-16 14:56:35,323] [CLASS] [INFO] \tEpoch 10 Finished. Time: 56.45425486564636s\n",
      "[2024-07-16 14:56:35,324] [CLASS] [INFO] Finetuning completed\n",
      "[2024-07-16 14:56:35,924] [CLASS] [INFO] Model saved to ../Pretrained/ECG-Raw/Window-Shrinking/balance/ResNet50/resnet50_ep10_i192_r0.4/resnet50_ep10_i192_r0.4.pth\n",
      "[2024-07-16 14:56:37,412] [DTSET] [INFO] Building ECG Dataset from ../Data/MIT-BIH-Raw/Datasets/Resolution-184/image_unfiltered_i184_train_r0.4_balance.h5\n",
      "[2024-07-16 14:56:37,503] [DTSET] [INFO] \tAvailable Memory: 24.77 GiB\n",
      "[2024-07-16 14:56:37,503] [DTSET] [INFO] \tDataset Memory:   12.19 GiB\n",
      "[2024-07-16 14:56:37,504] [DTSET] [INFO] \tPreloading images and labels\n"
     ]
    },
    {
     "name": "stdout",
     "output_type": "stream",
     "text": [
      "===== Window Size 184 =====\n"
     ]
    },
    {
     "name": "stderr",
     "output_type": "stream",
     "text": [
      "[2024-07-16 14:58:20,457] [DTSET] [INFO] Building ECG Dataset from ../Data/MIT-BIH-Raw/Datasets/Resolution-128/image_unfiltered_i128_test.h5\n",
      "[2024-07-16 14:58:20,459] [DTSET] [INFO] \tAvailable Memory: 12.65 GiB\n",
      "[2024-07-16 14:58:20,459] [DTSET] [INFO] \tDataset Memory:   3.69 GiB\n",
      "[2024-07-16 14:58:27,826] [CLASS] [INFO] Begin finetuning...\n",
      "[2024-07-16 14:59:23,759] [CLASS] [INFO] \tEpoch 1 Finished. Time: 55.93229937553406s\n",
      "[2024-07-16 15:00:19,739] [CLASS] [INFO] \tEpoch 2 Finished. Time: 55.978822469711304s\n",
      "[2024-07-16 15:01:15,841] [CLASS] [INFO] \tEpoch 3 Finished. Time: 56.10193467140198s\n",
      "[2024-07-16 15:02:12,029] [CLASS] [INFO] \tEpoch 4 Finished. Time: 56.18701195716858s\n",
      "[2024-07-16 15:03:08,321] [CLASS] [INFO] \tEpoch 5 Finished. Time: 56.292107582092285s\n",
      "[2024-07-16 15:04:04,625] [CLASS] [INFO] \tEpoch 6 Finished. Time: 56.30411887168884s\n",
      "[2024-07-16 15:05:00,938] [CLASS] [INFO] \tEpoch 7 Finished. Time: 56.312124729156494s\n",
      "[2024-07-16 15:05:57,285] [CLASS] [INFO] \tEpoch 8 Finished. Time: 56.346155405044556s\n",
      "[2024-07-16 15:06:53,612] [CLASS] [INFO] \tEpoch 9 Finished. Time: 56.32513689994812s\n",
      "[2024-07-16 15:07:49,939] [CLASS] [INFO] \tEpoch 10 Finished. Time: 56.32613825798035s\n",
      "[2024-07-16 15:07:49,939] [CLASS] [INFO] Finetuning completed\n",
      "[2024-07-16 15:07:50,059] [CLASS] [INFO] Model saved to ../Pretrained/ECG-Raw/Window-Shrinking/balance/ResNet50/resnet50_ep10_i184_r0.4/resnet50_ep10_i184_r0.4.pth\n",
      "[2024-07-16 15:07:51,995] [DTSET] [INFO] Building ECG Dataset from ../Data/MIT-BIH-Raw/Datasets/Resolution-176/image_unfiltered_i176_train_r0.5_balance.h5\n",
      "[2024-07-16 15:07:52,051] [DTSET] [INFO] \tAvailable Memory: 24.50 GiB\n",
      "[2024-07-16 15:07:52,052] [DTSET] [INFO] \tDataset Memory:   13.95 GiB\n",
      "[2024-07-16 15:07:52,052] [DTSET] [INFO] \tPreloading images and labels\n"
     ]
    },
    {
     "name": "stdout",
     "output_type": "stream",
     "text": [
      "===== Window Size 176 =====\n"
     ]
    },
    {
     "name": "stderr",
     "output_type": "stream",
     "text": [
      "[2024-07-16 15:09:38,766] [DTSET] [INFO] Building ECG Dataset from ../Data/MIT-BIH-Raw/Datasets/Resolution-128/image_unfiltered_i128_test.h5\n",
      "[2024-07-16 15:09:38,774] [DTSET] [INFO] \tAvailable Memory: 10.82 GiB\n",
      "[2024-07-16 15:09:38,775] [DTSET] [INFO] \tDataset Memory:   3.69 GiB\n",
      "[2024-07-16 15:09:47,991] [CLASS] [INFO] Begin finetuning...\n",
      "[2024-07-16 15:10:47,901] [CLASS] [INFO] \tEpoch 1 Finished. Time: 59.90965390205383s\n",
      "[2024-07-16 15:11:47,720] [CLASS] [INFO] \tEpoch 2 Finished. Time: 59.817307472229004s\n",
      "[2024-07-16 15:12:47,694] [CLASS] [INFO] \tEpoch 3 Finished. Time: 59.97344946861267s\n",
      "[2024-07-16 15:13:47,716] [CLASS] [INFO] \tEpoch 4 Finished. Time: 60.02149319648743s\n",
      "[2024-07-16 15:14:47,781] [CLASS] [INFO] \tEpoch 5 Finished. Time: 60.06553316116333s\n",
      "[2024-07-16 15:15:47,871] [CLASS] [INFO] \tEpoch 6 Finished. Time: 60.08955478668213s\n",
      "[2024-07-16 15:16:47,947] [CLASS] [INFO] \tEpoch 7 Finished. Time: 60.075541973114014s\n",
      "[2024-07-16 15:17:48,075] [CLASS] [INFO] \tEpoch 8 Finished. Time: 60.126588582992554s\n",
      "[2024-07-16 15:18:48,295] [CLASS] [INFO] \tEpoch 9 Finished. Time: 60.22067379951477s\n",
      "[2024-07-16 15:19:48,508] [CLASS] [INFO] \tEpoch 10 Finished. Time: 60.212666749954224s\n",
      "[2024-07-16 15:19:48,509] [CLASS] [INFO] Finetuning completed\n",
      "[2024-07-16 15:19:48,707] [CLASS] [INFO] Model saved to ../Pretrained/ECG-Raw/Window-Shrinking/balance/ResNet50/resnet50_ep10_i176_r0.5/resnet50_ep10_i176_r0.5.pth\n",
      "[2024-07-16 15:19:51,133] [DTSET] [INFO] Building ECG Dataset from ../Data/MIT-BIH-Raw/Datasets/Resolution-168/image_unfiltered_i168_train_r0.5_balance.h5\n",
      "[2024-07-16 15:19:51,178] [DTSET] [INFO] \tAvailable Memory: 24.59 GiB\n",
      "[2024-07-16 15:19:51,179] [DTSET] [INFO] \tDataset Memory:   12.71 GiB\n",
      "[2024-07-16 15:19:51,179] [DTSET] [INFO] \tPreloading images and labels\n"
     ]
    },
    {
     "name": "stdout",
     "output_type": "stream",
     "text": [
      "===== Window Size 168 =====\n"
     ]
    },
    {
     "name": "stderr",
     "output_type": "stream",
     "text": [
      "[2024-07-16 15:21:40,727] [DTSET] [INFO] Building ECG Dataset from ../Data/MIT-BIH-Raw/Datasets/Resolution-128/image_unfiltered_i128_test.h5\n",
      "[2024-07-16 15:21:40,752] [DTSET] [INFO] \tAvailable Memory: 11.97 GiB\n",
      "[2024-07-16 15:21:40,752] [DTSET] [INFO] \tDataset Memory:   3.69 GiB\n",
      "[2024-07-16 15:21:50,308] [CLASS] [INFO] Begin finetuning...\n",
      "[2024-07-16 15:22:46,836] [CLASS] [INFO] \tEpoch 1 Finished. Time: 56.52677631378174s\n",
      "[2024-07-16 15:23:43,470] [CLASS] [INFO] \tEpoch 2 Finished. Time: 56.63241624832153s\n",
      "[2024-07-16 15:24:40,295] [CLASS] [INFO] \tEpoch 3 Finished. Time: 56.82559156417847s\n",
      "[2024-07-16 15:25:37,191] [CLASS] [INFO] \tEpoch 4 Finished. Time: 56.894654512405396s\n",
      "[2024-07-16 15:26:34,101] [CLASS] [INFO] \tEpoch 5 Finished. Time: 56.90966773033142s\n",
      "[2024-07-16 15:27:31,034] [CLASS] [INFO] \tEpoch 6 Finished. Time: 56.93268871307373s\n",
      "[2024-07-16 15:28:27,976] [CLASS] [INFO] \tEpoch 7 Finished. Time: 56.940696001052856s\n",
      "[2024-07-16 15:29:24,933] [CLASS] [INFO] \tEpoch 8 Finished. Time: 56.9557101726532s\n",
      "[2024-07-16 15:30:21,886] [CLASS] [INFO] \tEpoch 9 Finished. Time: 56.95270657539368s\n",
      "[2024-07-16 15:31:18,832] [CLASS] [INFO] \tEpoch 10 Finished. Time: 56.945701122283936s\n",
      "[2024-07-16 15:31:18,832] [CLASS] [INFO] Finetuning completed\n",
      "[2024-07-16 15:31:19,386] [CLASS] [INFO] Model saved to ../Pretrained/ECG-Raw/Window-Shrinking/balance/ResNet50/resnet50_ep10_i168_r0.5/resnet50_ep10_i168_r0.5.pth\n",
      "[2024-07-16 15:31:21,869] [DTSET] [INFO] Building ECG Dataset from ../Data/MIT-BIH-Raw/Datasets/Resolution-160/image_unfiltered_i160_train_r0.5_balance.h5\n",
      "[2024-07-16 15:31:21,969] [DTSET] [INFO] \tAvailable Memory: 25.38 GiB\n",
      "[2024-07-16 15:31:21,970] [DTSET] [INFO] \tDataset Memory:   11.53 GiB\n",
      "[2024-07-16 15:31:21,970] [DTSET] [INFO] \tPreloading images and labels\n"
     ]
    },
    {
     "name": "stdout",
     "output_type": "stream",
     "text": [
      "===== Window Size 160 =====\n"
     ]
    },
    {
     "name": "stderr",
     "output_type": "stream",
     "text": [
      "[2024-07-16 15:33:17,309] [DTSET] [INFO] Building ECG Dataset from ../Data/MIT-BIH-Raw/Datasets/Resolution-128/image_unfiltered_i128_test.h5\n",
      "[2024-07-16 15:33:17,311] [DTSET] [INFO] \tAvailable Memory: 13.96 GiB\n",
      "[2024-07-16 15:33:17,311] [DTSET] [INFO] \tDataset Memory:   3.69 GiB\n",
      "[2024-07-16 15:33:25,985] [CLASS] [INFO] Begin finetuning...\n",
      "[2024-07-16 15:34:13,544] [CLASS] [INFO] \tEpoch 1 Finished. Time: 47.558499574661255s\n",
      "[2024-07-16 15:35:01,250] [CLASS] [INFO] \tEpoch 2 Finished. Time: 47.70531105995178s\n",
      "[2024-07-16 15:35:49,137] [CLASS] [INFO] \tEpoch 3 Finished. Time: 47.886475801467896s\n",
      "[2024-07-16 15:36:37,074] [CLASS] [INFO] \tEpoch 4 Finished. Time: 47.93652129173279s\n",
      "[2024-07-16 15:37:25,056] [CLASS] [INFO] \tEpoch 5 Finished. Time: 47.98156213760376s\n",
      "[2024-07-16 15:38:13,031] [CLASS] [INFO] \tEpoch 6 Finished. Time: 47.97555685043335s\n",
      "[2024-07-16 15:39:01,006] [CLASS] [INFO] \tEpoch 7 Finished. Time: 47.9745557308197s\n",
      "[2024-07-16 15:39:49,008] [CLASS] [INFO] \tEpoch 8 Finished. Time: 48.001580238342285s\n",
      "[2024-07-16 15:40:36,991] [CLASS] [INFO] \tEpoch 9 Finished. Time: 47.98256325721741s\n",
      "[2024-07-16 15:41:24,992] [CLASS] [INFO] \tEpoch 10 Finished. Time: 48.001580476760864s\n",
      "[2024-07-16 15:41:24,993] [CLASS] [INFO] Finetuning completed\n",
      "[2024-07-16 15:41:25,175] [CLASS] [INFO] Model saved to ../Pretrained/ECG-Raw/Window-Shrinking/balance/ResNet50/resnet50_ep10_i160_r0.5/resnet50_ep10_i160_r0.5.pth\n",
      "[2024-07-16 15:41:27,893] [DTSET] [INFO] Building ECG Dataset from ../Data/MIT-BIH-Raw/Datasets/Resolution-152/image_unfiltered_i152_train_r0.6_balance.h5\n",
      "[2024-07-16 15:41:27,947] [DTSET] [INFO] \tAvailable Memory: 25.49 GiB\n",
      "[2024-07-16 15:41:27,947] [DTSET] [INFO] \tDataset Memory:   12.48 GiB\n",
      "[2024-07-16 15:41:27,948] [DTSET] [INFO] \tPreloading images and labels\n"
     ]
    },
    {
     "name": "stdout",
     "output_type": "stream",
     "text": [
      "===== Window Size 152 =====\n"
     ]
    },
    {
     "name": "stderr",
     "output_type": "stream",
     "text": [
      "[2024-07-16 15:43:11,945] [DTSET] [INFO] Building ECG Dataset from ../Data/MIT-BIH-Raw/Datasets/Resolution-128/image_unfiltered_i128_test.h5\n",
      "[2024-07-16 15:43:11,947] [DTSET] [INFO] \tAvailable Memory: 13.11 GiB\n",
      "[2024-07-16 15:43:11,947] [DTSET] [INFO] \tDataset Memory:   3.69 GiB\n",
      "[2024-07-16 15:43:22,924] [CLASS] [INFO] Begin finetuning...\n",
      "[2024-07-16 15:44:19,342] [CLASS] [INFO] \tEpoch 1 Finished. Time: 56.418362855911255s\n",
      "[2024-07-16 15:45:15,921] [CLASS] [INFO] \tEpoch 2 Finished. Time: 56.57936882972717s\n",
      "[2024-07-16 15:46:12,573] [CLASS] [INFO] \tEpoch 3 Finished. Time: 56.65143275260925s\n",
      "[2024-07-16 15:47:09,245] [CLASS] [INFO] \tEpoch 4 Finished. Time: 56.671451568603516s\n",
      "[2024-07-16 15:48:05,927] [CLASS] [INFO] \tEpoch 5 Finished. Time: 56.68045973777771s\n",
      "[2024-07-16 15:49:02,582] [CLASS] [INFO] \tEpoch 6 Finished. Time: 56.65543723106384s\n",
      "[2024-07-16 15:49:59,230] [CLASS] [INFO] \tEpoch 7 Finished. Time: 56.648430585861206s\n",
      "[2024-07-16 15:50:55,883] [CLASS] [INFO] \tEpoch 8 Finished. Time: 56.65243458747864s\n",
      "[2024-07-16 15:51:52,534] [CLASS] [INFO] \tEpoch 9 Finished. Time: 56.65143346786499s\n",
      "[2024-07-16 15:52:49,238] [CLASS] [INFO] \tEpoch 10 Finished. Time: 56.70247983932495s\n",
      "[2024-07-16 15:52:49,239] [CLASS] [INFO] Finetuning completed\n",
      "[2024-07-16 15:52:49,880] [CLASS] [INFO] Model saved to ../Pretrained/ECG-Raw/Window-Shrinking/balance/ResNet50/resnet50_ep10_i152_r0.6/resnet50_ep10_i152_r0.6.pth\n",
      "[2024-07-16 15:52:53,187] [DTSET] [INFO] Building ECG Dataset from ../Data/MIT-BIH-Raw/Datasets/Resolution-144/image_unfiltered_i144_train_r0.6_balance.h5\n",
      "[2024-07-16 15:52:53,247] [DTSET] [INFO] \tAvailable Memory: 25.42 GiB\n",
      "[2024-07-16 15:52:53,248] [DTSET] [INFO] \tDataset Memory:   11.20 GiB\n",
      "[2024-07-16 15:52:53,248] [DTSET] [INFO] \tPreloading images and labels\n"
     ]
    },
    {
     "name": "stdout",
     "output_type": "stream",
     "text": [
      "===== Window Size 144 =====\n"
     ]
    },
    {
     "name": "stderr",
     "output_type": "stream",
     "text": [
      "[2024-07-16 15:54:33,290] [DTSET] [INFO] Building ECG Dataset from ../Data/MIT-BIH-Raw/Datasets/Resolution-128/image_unfiltered_i128_test.h5\n",
      "[2024-07-16 15:54:33,292] [DTSET] [INFO] \tAvailable Memory: 14.31 GiB\n",
      "[2024-07-16 15:54:33,292] [DTSET] [INFO] \tDataset Memory:   3.69 GiB\n",
      "[2024-07-16 15:54:42,918] [CLASS] [INFO] Begin finetuning...\n",
      "[2024-07-16 15:55:33,193] [CLASS] [INFO] \tEpoch 1 Finished. Time: 50.27527451515198s\n",
      "[2024-07-16 15:56:23,461] [CLASS] [INFO] \tEpoch 2 Finished. Time: 50.26663613319397s\n",
      "[2024-07-16 15:57:13,925] [CLASS] [INFO] \tEpoch 3 Finished. Time: 50.463815689086914s\n",
      "[2024-07-16 15:58:04,478] [CLASS] [INFO] \tEpoch 4 Finished. Time: 50.55289673805237s\n",
      "[2024-07-16 15:58:55,035] [CLASS] [INFO] \tEpoch 5 Finished. Time: 50.55690002441406s\n",
      "[2024-07-16 15:59:45,604] [CLASS] [INFO] \tEpoch 6 Finished. Time: 50.5689115524292s\n",
      "[2024-07-16 16:00:36,176] [CLASS] [INFO] \tEpoch 7 Finished. Time: 50.571913957595825s\n",
      "[2024-07-16 16:01:26,767] [CLASS] [INFO] \tEpoch 8 Finished. Time: 50.59093117713928s\n",
      "[2024-07-16 16:02:17,319] [CLASS] [INFO] \tEpoch 9 Finished. Time: 50.55089497566223s\n",
      "[2024-07-16 16:03:07,915] [CLASS] [INFO] \tEpoch 10 Finished. Time: 50.594934701919556s\n",
      "[2024-07-16 16:03:07,915] [CLASS] [INFO] Finetuning completed\n",
      "[2024-07-16 16:03:08,072] [CLASS] [INFO] Model saved to ../Pretrained/ECG-Raw/Window-Shrinking/balance/ResNet50/resnet50_ep10_i144_r0.6/resnet50_ep10_i144_r0.6.pth\n",
      "[2024-07-16 16:03:11,208] [DTSET] [INFO] Building ECG Dataset from ../Data/MIT-BIH-Raw/Datasets/Resolution-136/image_unfiltered_i136_train_r0.6_balance.h5\n",
      "[2024-07-16 16:03:11,259] [DTSET] [INFO] \tAvailable Memory: 25.38 GiB\n",
      "[2024-07-16 16:03:11,260] [DTSET] [INFO] \tDataset Memory:   9.99 GiB\n",
      "[2024-07-16 16:03:11,261] [DTSET] [INFO] \tPreloading images and labels\n"
     ]
    },
    {
     "name": "stdout",
     "output_type": "stream",
     "text": [
      "===== Window Size 136 =====\n"
     ]
    },
    {
     "name": "stderr",
     "output_type": "stream",
     "text": [
      "[2024-07-16 16:04:35,920] [DTSET] [INFO] Building ECG Dataset from ../Data/MIT-BIH-Raw/Datasets/Resolution-128/image_unfiltered_i128_test.h5\n",
      "[2024-07-16 16:04:35,922] [DTSET] [INFO] \tAvailable Memory: 15.40 GiB\n",
      "[2024-07-16 16:04:35,923] [DTSET] [INFO] \tDataset Memory:   3.69 GiB\n",
      "[2024-07-16 16:04:45,589] [CLASS] [INFO] Begin finetuning...\n",
      "[2024-07-16 16:05:33,203] [CLASS] [INFO] \tEpoch 1 Finished. Time: 47.61423468589783s\n",
      "[2024-07-16 16:06:20,793] [CLASS] [INFO] \tEpoch 2 Finished. Time: 47.59020638465881s\n",
      "[2024-07-16 16:07:08,594] [CLASS] [INFO] \tEpoch 3 Finished. Time: 47.799396991729736s\n",
      "[2024-07-16 16:07:56,467] [CLASS] [INFO] \tEpoch 4 Finished. Time: 47.87246322631836s\n",
      "[2024-07-16 16:08:44,319] [CLASS] [INFO] \tEpoch 5 Finished. Time: 47.851444244384766s\n",
      "[2024-07-16 16:09:32,198] [CLASS] [INFO] \tEpoch 6 Finished. Time: 47.87946939468384s\n",
      "[2024-07-16 16:10:20,089] [CLASS] [INFO] \tEpoch 7 Finished. Time: 47.89057445526123s\n",
      "[2024-07-16 16:11:08,013] [CLASS] [INFO] \tEpoch 8 Finished. Time: 47.92451024055481s\n",
      "[2024-07-16 16:11:55,952] [CLASS] [INFO] \tEpoch 9 Finished. Time: 47.938523292541504s\n",
      "[2024-07-16 16:12:43,889] [CLASS] [INFO] \tEpoch 10 Finished. Time: 47.93652009963989s\n",
      "[2024-07-16 16:12:43,890] [CLASS] [INFO] Finetuning completed\n",
      "[2024-07-16 16:12:44,056] [CLASS] [INFO] Model saved to ../Pretrained/ECG-Raw/Window-Shrinking/balance/ResNet50/resnet50_ep10_i136_r0.6/resnet50_ep10_i136_r0.6.pth\n",
      "[2024-07-16 16:12:47,608] [DTSET] [INFO] Building ECG Dataset from ../Data/MIT-BIH-Raw/Datasets/Resolution-128/image_unfiltered_i128_train.h5\n",
      "[2024-07-16 16:12:47,751] [DTSET] [INFO] \tAvailable Memory: 25.32 GiB\n",
      "[2024-07-16 16:12:47,752] [DTSET] [INFO] \tDataset Memory:   14.75 GiB\n",
      "[2024-07-16 16:12:47,752] [DTSET] [INFO] \tPreloading images and labels\n"
     ]
    },
    {
     "name": "stdout",
     "output_type": "stream",
     "text": [
      "===== Window Size 128 =====\n"
     ]
    },
    {
     "name": "stderr",
     "output_type": "stream",
     "text": [
      "[2024-07-16 16:15:33,172] [DTSET] [INFO] Building ECG Dataset from ../Data/MIT-BIH-Raw/Datasets/Resolution-128/image_unfiltered_i128_test.h5\n",
      "[2024-07-16 16:15:33,188] [DTSET] [INFO] \tAvailable Memory: 10.66 GiB\n",
      "[2024-07-16 16:15:33,188] [DTSET] [INFO] \tDataset Memory:   3.69 GiB\n",
      "[2024-07-16 16:16:18,954] [CLASS] [INFO] Begin finetuning...\n",
      "[2024-07-16 16:17:30,588] [CLASS] [INFO] \tEpoch 1 Accuracy 99.13% / Best Accuracy: 99.13%. Time: 71.63420987129211s\n",
      "[2024-07-16 16:18:41,621] [CLASS] [INFO] \tEpoch 2 Accuracy 99.17% / Best Accuracy: 99.17%. Time: 71.03248977661133s\n",
      "[2024-07-16 16:19:52,740] [CLASS] [INFO] \tEpoch 3 Accuracy 99.28% / Best Accuracy: 99.28%. Time: 71.11956930160522s\n",
      "[2024-07-16 16:21:03,852] [CLASS] [INFO] \tEpoch 4 Accuracy 99.30% / Best Accuracy: 99.30%. Time: 71.1115608215332s\n",
      "[2024-07-16 16:22:14,914] [CLASS] [INFO] \tEpoch 5 Accuracy 99.30% / Best Accuracy: 99.30%. Time: 71.06151795387268s\n",
      "[2024-07-16 16:23:26,056] [CLASS] [INFO] \tEpoch 6 Accuracy 99.35% / Best Accuracy: 99.35%. Time: 71.14058828353882s\n",
      "[2024-07-16 16:24:37,152] [CLASS] [INFO] \tEpoch 7 Accuracy 99.34% / Best Accuracy: 99.35%. Time: 71.09554719924927s\n",
      "[2024-07-16 16:25:48,290] [CLASS] [INFO] \tEpoch 8 Accuracy 99.33% / Best Accuracy: 99.35%. Time: 71.13758492469788s\n",
      "[2024-07-16 16:26:59,499] [CLASS] [INFO] \tEpoch 9 Accuracy 99.36% / Best Accuracy: 99.36%. Time: 71.20865035057068s\n",
      "[2024-07-16 16:28:10,838] [CLASS] [INFO] \tEpoch 10 Accuracy 99.34% / Best Accuracy: 99.36%. Time: 71.3394124507904s\n",
      "[2024-07-16 16:29:22,012] [CLASS] [INFO] \tEpoch 11 Accuracy 99.34% / Best Accuracy: 99.36%. Time: 71.17319297790527s\n",
      "[2024-07-16 16:30:33,084] [CLASS] [INFO] \tEpoch 12 Accuracy 99.34% / Best Accuracy: 99.36%. Time: 71.07152581214905s\n",
      "[2024-07-16 16:31:44,230] [CLASS] [INFO] \tEpoch 13 Accuracy 99.34% / Best Accuracy: 99.36%. Time: 71.14567375183105s\n",
      "[2024-07-16 16:32:55,361] [CLASS] [INFO] \tEpoch 14 Accuracy 99.33% / Best Accuracy: 99.36%. Time: 71.12957835197449s\n",
      "[2024-07-16 16:34:06,508] [CLASS] [INFO] \tEpoch 15 Accuracy 99.34% / Best Accuracy: 99.36%. Time: 71.14559292793274s\n",
      "[2024-07-16 16:35:17,754] [CLASS] [INFO] \tEpoch 16 Accuracy 99.32% / Best Accuracy: 99.36%. Time: 71.2454001903534s\n",
      "[2024-07-16 16:36:29,030] [CLASS] [INFO] \tEpoch 17 Accuracy 99.35% / Best Accuracy: 99.36%. Time: 71.27571058273315s\n",
      "[2024-07-16 16:37:40,342] [CLASS] [INFO] \tEpoch 18 Accuracy 99.35% / Best Accuracy: 99.36%. Time: 71.31174278259277s\n",
      "[2024-07-16 16:38:51,603] [CLASS] [INFO] \tEpoch 19 Accuracy 99.34% / Best Accuracy: 99.36%. Time: 71.2596960067749s\n",
      "[2024-07-16 16:40:02,904] [CLASS] [INFO] \tEpoch 20 Accuracy 99.32% / Best Accuracy: 99.36%. Time: 71.29973316192627s\n",
      "[2024-07-16 16:41:14,217] [CLASS] [INFO] \tEpoch 21 Accuracy 99.31% / Best Accuracy: 99.36%. Time: 71.31174349784851s\n",
      "[2024-07-16 16:42:25,378] [CLASS] [INFO] \tEpoch 22 Accuracy 99.33% / Best Accuracy: 99.36%. Time: 71.16160726547241s\n",
      "[2024-07-16 16:43:36,726] [CLASS] [INFO] \tEpoch 23 Accuracy 99.33% / Best Accuracy: 99.36%. Time: 71.34677529335022s\n",
      "[2024-07-16 16:44:47,950] [CLASS] [INFO] \tEpoch 24 Accuracy 99.33% / Best Accuracy: 99.36%. Time: 71.22366333007812s\n",
      "[2024-07-16 16:45:59,319] [CLASS] [INFO] \tEpoch 25 Accuracy 99.32% / Best Accuracy: 99.36%. Time: 71.36979627609253s\n",
      "[2024-07-16 16:47:10,649] [CLASS] [INFO] \tEpoch 26 Accuracy 99.32% / Best Accuracy: 99.36%. Time: 71.3297598361969s\n",
      "[2024-07-16 16:48:22,589] [CLASS] [INFO] \tEpoch 27 Accuracy 99.33% / Best Accuracy: 99.36%. Time: 71.93954944610596s\n",
      "[2024-07-16 16:49:33,349] [CLASS] [INFO] \tEpoch 28 Accuracy 99.34% / Best Accuracy: 99.36%. Time: 70.7592420578003s\n",
      "[2024-07-16 16:50:44,220] [CLASS] [INFO] \tEpoch 29 Accuracy 99.33% / Best Accuracy: 99.36%. Time: 70.87131524085999s\n",
      "[2024-07-16 16:51:55,075] [CLASS] [INFO] \tEpoch 30 Accuracy 99.33% / Best Accuracy: 99.36%. Time: 70.854327917099s\n",
      "[2024-07-16 16:51:55,076] [CLASS] [INFO] Finetuning completed\n",
      "[2024-07-16 16:51:55,190] [CLASS] [INFO] Model saved to ../Pretrained/ECG-Raw/Window-Shrinking/balance/ResNet50/resnet50_ep30_i128_r1.0/resnet50_ep30_i128_r1.0.pth\n"
     ]
    }
   ],
   "source": [
    "# 8 Step\n",
    "\n",
    "num_classes = ArrhythmiaLabels.size\n",
    "model_name  = \"resnet50\"\n",
    "# model       = load_model(model_name)\n",
    "# model.fc    = nn.Linear(2048, num_classes)\n",
    "\n",
    "# To resume training\n",
    "model = load_model_from_pretrained(model_name, f\"../Pretrained/ECG-Raw/Window-Shrinking/balance/ResNet50/resnet50_ep10_i200_r0.4/resnet50_ep10_i200_r0.4.pth\", num_classes)\n",
    "\n",
    "TrainConfig  = namedtuple(\"TrainConfig\", [\"window_size\", \"ratio\", \"epochs\", \"batch_size\"])\n",
    "train_config = [\n",
    "    # TrainConfig(256, 0.3, 10, 64),\n",
    "    # TrainConfig(248, 0.3, 10, 64),\n",
    "    # TrainConfig(240, 0.3, 10, 64),\n",
    "    # TrainConfig(232, 0.3, 10, 64),\n",
    "    # TrainConfig(224, 0.3, 10, 64),\n",
    "    # TrainConfig(216, 0.4, 10, 64),\n",
    "    # TrainConfig(208, 0.4, 10, 64),\n",
    "    # TrainConfig(200, 0.4, 10, 64),\n",
    "    TrainConfig(192, 0.4, 10, 64),\n",
    "    TrainConfig(184, 0.4, 10, 64),\n",
    "    TrainConfig(176, 0.5, 10, 128),\n",
    "    TrainConfig(168, 0.5, 10, 128),\n",
    "    TrainConfig(160, 0.5, 10, 128),\n",
    "    TrainConfig(152, 0.6, 10, 128),\n",
    "    TrainConfig(144, 0.6, 10, 128),\n",
    "    TrainConfig(136, 0.6, 10, 128),\n",
    "    TrainConfig(128, 1.0, 30, 128),\n",
    "]\n",
    "method = \"balance\"\n",
    "\n",
    "for config in train_config:\n",
    "    print(f\"===== Window Size {config.window_size} =====\")\n",
    "\n",
    "    if config.window_size == 128:\n",
    "        train_path = f\"../Data/MIT-BIH-Raw/Datasets/Resolution-{config.window_size}/image_unfiltered_i{config.window_size}_train.h5\"\n",
    "    else:\n",
    "        train_path = f\"../Data/MIT-BIH-Raw/Datasets/Resolution-{config.window_size}/image_unfiltered_i{config.window_size}_train_r{config.ratio}_{method}.h5\"\n",
    "\n",
    "    dataloader = build_dataloader(\n",
    "        train_path    = train_path,\n",
    "        test_path     = f\"../Data/MIT-BIH-Raw/Datasets/Resolution-128/image_unfiltered_i128_test.h5\",\n",
    "        transform     = None,\n",
    "        batch_size    = config.batch_size,\n",
    "        preload_train = True,\n",
    "    )\n",
    "\n",
    "    save_name = f\"{model_name}_ep{config.epochs}_i{config.window_size}_r{config.ratio}\"\n",
    "    save_dir  = f\"../Pretrained/ECG-Raw/Window-Shrinking/{method}/ResNet50/{save_name}\"\n",
    "\n",
    "    warm_up_dataloader(dataloader[\"train\"])\n",
    "    if config.window_size == 128:\n",
    "        warm_up_dataloader(dataloader[\"test\"])\n",
    "\n",
    "    training_stats = finetune(\n",
    "        model      = model,\n",
    "        epochs     = config.epochs,\n",
    "        dataloader = dataloader,\n",
    "        save_path  = f\"{save_dir}/{save_name}.pth\",\n",
    "        do_eval    = (config.window_size == 128)\n",
    "    )\n",
    "\n",
    "    training_stats.serialize(f\"{save_dir}/stats.txt\")\n",
    "\n",
    "    del dataloader"
   ]
  },
  {
   "cell_type": "markdown",
   "metadata": {},
   "source": [
    "### 128 => 96"
   ]
  },
  {
   "cell_type": "code",
   "execution_count": 4,
   "metadata": {},
   "outputs": [
    {
     "name": "stdout",
     "output_type": "stream",
     "text": [
      "===== Window Size 96 =====\n"
     ]
    },
    {
     "name": "stderr",
     "output_type": "stream",
     "text": [
      "[2024-07-06 16:01:42,492] [UTL] [INFO] Begin finetuning...\n",
      "[2024-07-06 16:02:02,771] [UTL] [INFO] \tEpoch 1 Accuracy 98.50% / Best Accuracy: 98.50%. Time: 20.278424501419067s\n",
      "[2024-07-06 16:02:22,864] [UTL] [INFO] \tEpoch 2 Accuracy 98.60% / Best Accuracy: 98.60%. Time: 20.093254566192627s\n",
      "[2024-07-06 16:02:42,875] [UTL] [INFO] \tEpoch 3 Accuracy 98.59% / Best Accuracy: 98.60%. Time: 20.011181354522705s\n",
      "[2024-07-06 16:03:02,921] [UTL] [INFO] \tEpoch 4 Accuracy 98.71% / Best Accuracy: 98.71%. Time: 20.046212911605835s\n",
      "[2024-07-06 16:03:23,010] [UTL] [INFO] \tEpoch 5 Accuracy 98.80% / Best Accuracy: 98.80%. Time: 20.088250875473022s\n",
      "[2024-07-06 16:03:42,997] [UTL] [INFO] \tEpoch 6 Accuracy 98.68% / Best Accuracy: 98.80%. Time: 19.98615837097168s\n",
      "[2024-07-06 16:04:02,884] [UTL] [INFO] \tEpoch 7 Accuracy 98.68% / Best Accuracy: 98.80%. Time: 19.886067152023315s\n",
      "[2024-07-06 16:04:22,774] [UTL] [INFO] \tEpoch 8 Accuracy 98.66% / Best Accuracy: 98.80%. Time: 19.890070915222168s\n",
      "[2024-07-06 16:04:42,729] [UTL] [INFO] \tEpoch 9 Accuracy 98.61% / Best Accuracy: 98.80%. Time: 19.955129384994507s\n",
      "[2024-07-06 16:05:02,688] [UTL] [INFO] \tEpoch 10 Accuracy 98.70% / Best Accuracy: 98.80%. Time: 19.95913314819336s\n",
      "[2024-07-06 16:05:22,749] [UTL] [INFO] \tEpoch 11 Accuracy 98.74% / Best Accuracy: 98.80%. Time: 20.06022620201111s\n",
      "[2024-07-06 16:05:42,773] [UTL] [INFO] \tEpoch 12 Accuracy 98.73% / Best Accuracy: 98.80%. Time: 20.022191047668457s\n",
      "[2024-07-06 16:06:02,738] [UTL] [INFO] \tEpoch 13 Accuracy 98.77% / Best Accuracy: 98.80%. Time: 19.9641375541687s\n",
      "[2024-07-06 16:06:22,813] [UTL] [INFO] \tEpoch 14 Accuracy 98.80% / Best Accuracy: 98.80%. Time: 20.074238300323486s\n",
      "[2024-07-06 16:06:42,882] [UTL] [INFO] \tEpoch 15 Accuracy 98.79% / Best Accuracy: 98.80%. Time: 20.068232536315918s\n",
      "[2024-07-06 16:07:02,969] [UTL] [INFO] \tEpoch 16 Accuracy 98.76% / Best Accuracy: 98.80%. Time: 20.08624839782715s\n",
      "[2024-07-06 16:07:23,032] [UTL] [INFO] \tEpoch 17 Accuracy 98.79% / Best Accuracy: 98.80%. Time: 20.062227249145508s\n",
      "[2024-07-06 16:07:42,970] [UTL] [INFO] \tEpoch 18 Accuracy 98.80% / Best Accuracy: 98.80%. Time: 19.938114166259766s\n",
      "[2024-07-06 16:08:03,030] [UTL] [INFO] \tEpoch 19 Accuracy 98.79% / Best Accuracy: 98.80%. Time: 20.059223413467407s\n",
      "[2024-07-06 16:08:23,168] [UTL] [INFO] \tEpoch 20 Accuracy 98.79% / Best Accuracy: 98.80%. Time: 20.138296604156494s\n",
      "[2024-07-06 16:08:43,033] [UTL] [INFO] \tEpoch 21 Accuracy 98.79% / Best Accuracy: 98.80%. Time: 19.864047527313232s\n",
      "[2024-07-06 16:09:02,953] [UTL] [INFO] \tEpoch 22 Accuracy 98.81% / Best Accuracy: 98.81%. Time: 19.91909694671631s\n",
      "[2024-07-06 16:09:23,050] [UTL] [INFO] \tEpoch 23 Accuracy 98.82% / Best Accuracy: 98.82%. Time: 20.09625816345215s\n",
      "[2024-07-06 16:09:43,121] [UTL] [INFO] \tEpoch 24 Accuracy 98.81% / Best Accuracy: 98.82%. Time: 20.071235179901123s\n",
      "[2024-07-06 16:10:03,172] [UTL] [INFO] \tEpoch 25 Accuracy 98.81% / Best Accuracy: 98.82%. Time: 20.051217794418335s\n",
      "[2024-07-06 16:10:23,066] [UTL] [INFO] \tEpoch 26 Accuracy 98.81% / Best Accuracy: 98.82%. Time: 19.89407444000244s\n",
      "[2024-07-06 16:10:43,237] [UTL] [INFO] \tEpoch 27 Accuracy 98.81% / Best Accuracy: 98.82%. Time: 20.169325351715088s\n",
      "[2024-07-06 16:11:03,335] [UTL] [INFO] \tEpoch 28 Accuracy 98.80% / Best Accuracy: 98.82%. Time: 20.09825897216797s\n",
      "[2024-07-06 16:11:23,483] [UTL] [INFO] \tEpoch 29 Accuracy 98.82% / Best Accuracy: 98.82%. Time: 20.148305654525757s\n",
      "[2024-07-06 16:11:43,525] [UTL] [INFO] \tEpoch 30 Accuracy 98.80% / Best Accuracy: 98.82%. Time: 20.042208671569824s\n",
      "[2024-07-06 16:11:43,526] [UTL] [INFO] Finetuning completed\n",
      "[2024-07-06 16:11:43,571] [UTL] [INFO] Model saved to ../Pretrained/ECG-Raw/Window-Shrinking/balance/Large/resnet18_ep30_i96_r1.0/resnet18_ep30_i96_r1.0.pth\n"
     ]
    }
   ],
   "source": [
    "num_classes = ArrhythmiaLabels.size\n",
    "model_name  = \"resnet18\"\n",
    "model       = load_model_from_pretrained(model_name, f\"../Pretrained/ECG-Raw/Window-Shrinking/balance/Large/resnet18_ep30_i128_r1.0/resnet18_ep30_i128_r1.0.pth\", num_classes)\n",
    "\n",
    "TrainConfig  = namedtuple(\"TrainConfig\", [\"window_size\", \"ratio\", \"epochs\"])\n",
    "train_config = [TrainConfig(96, 1.0, 30)]\n",
    "method        = \"balance\"\n",
    "\n",
    "for config in train_config:\n",
    "    print(f\"===== Window Size {config.window_size} =====\")\n",
    "    dataloader = build_dataloader(\n",
    "        train_path = f\"../Data/MIT-BIH-Raw/Datasets/Resolution-{config.window_size}/image_unfiltered_i{config.window_size}_train.h5\",\n",
    "        test_path  = f\"../Data/MIT-BIH-Raw/Datasets/Resolution-{config.window_size}/image_unfiltered_i{config.window_size}_test.h5\",\n",
    "        transform  = None,\n",
    "        batch_size = 128\n",
    "    )\n",
    "\n",
    "    save_name = f\"{model_name}_ep{config.epochs}_i{config.window_size}_r{config.ratio}\"\n",
    "    save_dir  = f\"../Pretrained/ECG-Raw/Window-Shrinking/{method}/Large/{save_name}\"\n",
    "\n",
    "    warm_up_dataloader(dataloader[\"train\"])\n",
    "    warm_up_dataloader(dataloader[\"test\"])\n",
    "\n",
    "    training_stats = finetune(\n",
    "        model      = model,\n",
    "        epochs     = config.epochs,\n",
    "        dataloader = dataloader,\n",
    "        save_path  = f\"{save_dir}/{save_name}.pth\",\n",
    "        do_eval    = True\n",
    "    )\n",
    "\n",
    "    training_stats.serialize(f\"{save_dir}/stats.txt\")"
   ]
  },
  {
   "cell_type": "markdown",
   "metadata": {},
   "source": [
    "### 96 => 64"
   ]
  },
  {
   "cell_type": "code",
   "execution_count": 5,
   "metadata": {},
   "outputs": [
    {
     "name": "stdout",
     "output_type": "stream",
     "text": [
      "===== Window Size 64 =====\n"
     ]
    },
    {
     "name": "stderr",
     "output_type": "stream",
     "text": [
      "[2024-07-06 16:33:14,374] [UTL] [INFO] Begin finetuning...\n",
      "[2024-07-06 16:33:30,249] [UTL] [INFO] \tEpoch 1 Accuracy 97.76% / Best Accuracy: 97.76%. Time: 15.873305320739746s\n",
      "[2024-07-06 16:33:45,953] [UTL] [INFO] \tEpoch 2 Accuracy 97.91% / Best Accuracy: 97.91%. Time: 15.704267740249634s\n",
      "[2024-07-06 16:34:01,681] [UTL] [INFO] \tEpoch 3 Accuracy 98.12% / Best Accuracy: 98.12%. Time: 15.728290796279907s\n",
      "[2024-07-06 16:34:17,374] [UTL] [INFO] \tEpoch 4 Accuracy 97.94% / Best Accuracy: 98.12%. Time: 15.69225549697876s\n",
      "[2024-07-06 16:34:33,053] [UTL] [INFO] \tEpoch 5 Accuracy 98.09% / Best Accuracy: 98.12%. Time: 15.679245471954346s\n",
      "[2024-07-06 16:34:48,754] [UTL] [INFO] \tEpoch 6 Accuracy 98.01% / Best Accuracy: 98.12%. Time: 15.700262308120728s\n",
      "[2024-07-06 16:35:04,477] [UTL] [INFO] \tEpoch 7 Accuracy 98.09% / Best Accuracy: 98.12%. Time: 15.723286628723145s\n",
      "[2024-07-06 16:35:20,248] [UTL] [INFO] \tEpoch 8 Accuracy 98.12% / Best Accuracy: 98.12%. Time: 15.770328283309937s\n",
      "[2024-07-06 16:35:36,119] [UTL] [INFO] \tEpoch 9 Accuracy 98.08% / Best Accuracy: 98.12%. Time: 15.871419429779053s\n",
      "[2024-07-06 16:35:51,920] [UTL] [INFO] \tEpoch 10 Accuracy 98.03% / Best Accuracy: 98.12%. Time: 15.801355361938477s\n",
      "[2024-07-06 16:36:07,728] [UTL] [INFO] \tEpoch 11 Accuracy 97.89% / Best Accuracy: 98.12%. Time: 15.806360721588135s\n",
      "[2024-07-06 16:36:23,438] [UTL] [INFO] \tEpoch 12 Accuracy 97.81% / Best Accuracy: 98.12%. Time: 15.710271835327148s\n",
      "[2024-07-06 16:36:39,308] [UTL] [INFO] \tEpoch 13 Accuracy 98.07% / Best Accuracy: 98.12%. Time: 15.870420455932617s\n",
      "[2024-07-06 16:36:55,148] [UTL] [INFO] \tEpoch 14 Accuracy 98.12% / Best Accuracy: 98.12%. Time: 15.839389324188232s\n",
      "[2024-07-06 16:37:11,117] [UTL] [INFO] \tEpoch 15 Accuracy 97.97% / Best Accuracy: 98.12%. Time: 15.969508171081543s\n",
      "[2024-07-06 16:37:26,814] [UTL] [INFO] \tEpoch 16 Accuracy 98.12% / Best Accuracy: 98.12%. Time: 15.696261405944824s\n",
      "[2024-07-06 16:37:42,607] [UTL] [INFO] \tEpoch 17 Accuracy 98.06% / Best Accuracy: 98.12%. Time: 15.792348623275757s\n",
      "[2024-07-06 16:37:58,452] [UTL] [INFO] \tEpoch 18 Accuracy 98.12% / Best Accuracy: 98.12%. Time: 15.845395803451538s\n",
      "[2024-07-06 16:38:14,040] [UTL] [INFO] \tEpoch 19 Accuracy 97.95% / Best Accuracy: 98.12%. Time: 15.586160659790039s\n",
      "[2024-07-06 16:38:29,676] [UTL] [INFO] \tEpoch 20 Accuracy 98.16% / Best Accuracy: 98.16%. Time: 15.636205673217773s\n",
      "[2024-07-06 16:38:45,340] [UTL] [INFO] \tEpoch 21 Accuracy 98.15% / Best Accuracy: 98.16%. Time: 15.66322946548462s\n",
      "[2024-07-06 16:39:00,997] [UTL] [INFO] \tEpoch 22 Accuracy 98.20% / Best Accuracy: 98.20%. Time: 15.657226324081421s\n",
      "[2024-07-06 16:39:16,730] [UTL] [INFO] \tEpoch 23 Accuracy 98.24% / Best Accuracy: 98.24%. Time: 15.731293439865112s\n",
      "[2024-07-06 16:39:32,497] [UTL] [INFO] \tEpoch 24 Accuracy 98.21% / Best Accuracy: 98.24%. Time: 15.766324043273926s\n",
      "[2024-07-06 16:39:48,240] [UTL] [INFO] \tEpoch 25 Accuracy 98.24% / Best Accuracy: 98.24%. Time: 15.74230146408081s\n",
      "[2024-07-06 16:40:03,942] [UTL] [INFO] \tEpoch 26 Accuracy 98.24% / Best Accuracy: 98.24%. Time: 15.702266931533813s\n",
      "[2024-07-06 16:40:19,704] [UTL] [INFO] \tEpoch 27 Accuracy 98.24% / Best Accuracy: 98.24%. Time: 15.761319875717163s\n",
      "[2024-07-06 16:40:35,446] [UTL] [INFO] \tEpoch 28 Accuracy 98.24% / Best Accuracy: 98.24%. Time: 15.742301940917969s\n",
      "[2024-07-06 16:40:51,134] [UTL] [INFO] \tEpoch 29 Accuracy 98.24% / Best Accuracy: 98.24%. Time: 15.688253164291382s\n",
      "[2024-07-06 16:41:07,066] [UTL] [INFO] \tEpoch 30 Accuracy 98.27% / Best Accuracy: 98.27%. Time: 15.930473566055298s\n",
      "[2024-07-06 16:41:07,067] [UTL] [INFO] Finetuning completed\n",
      "[2024-07-06 16:41:07,111] [UTL] [INFO] Model saved to ../Pretrained/ECG-Raw/Window-Shrinking/balance/Large/resnet18_ep30_i64_r1.0/resnet18_ep30_i64_r1.0.pth\n"
     ]
    }
   ],
   "source": [
    "num_classes = ArrhythmiaLabels.size\n",
    "model_name  = \"resnet18\"\n",
    "model       = load_model_from_pretrained(model_name, f\"../Pretrained/ECG-Raw/Window-Shrinking/balance/Large/resnet18_ep30_i96_r1.0/resnet18_ep30_i96_r1.0.pth\", num_classes)\n",
    "\n",
    "TrainConfig  = namedtuple(\"TrainConfig\", [\"window_size\", \"ratio\", \"epochs\"])\n",
    "train_config = [TrainConfig(64, 1.0, 30)]\n",
    "method       = \"balance\"\n",
    "\n",
    "for config in train_config:\n",
    "    print(f\"===== Window Size {config.window_size} =====\")\n",
    "    dataloader = build_dataloader(\n",
    "        train_path = f\"../Data/MIT-BIH-Raw/Datasets/Resolution-{config.window_size}/image_unfiltered_i{config.window_size}_train.h5\",\n",
    "        test_path  = f\"../Data/MIT-BIH-Raw/Datasets/Resolution-{config.window_size}/image_unfiltered_i{config.window_size}_test.h5\",\n",
    "        transform  = None,\n",
    "        batch_size = 128\n",
    "    )\n",
    "\n",
    "    save_name = f\"{model_name}_ep{config.epochs}_i{config.window_size}_r{config.ratio}\"\n",
    "    save_dir  = f\"../Pretrained/ECG-Raw/Window-Shrinking/{method}/Large/{save_name}\"\n",
    "\n",
    "    warm_up_dataloader(dataloader[\"train\"])\n",
    "    warm_up_dataloader(dataloader[\"test\"])\n",
    "\n",
    "    training_stats = finetune(\n",
    "        model      = model,\n",
    "        epochs     = config.epochs,\n",
    "        dataloader = dataloader,\n",
    "        save_path  = f\"{save_dir}/{save_name}.pth\",\n",
    "        do_eval    = True\n",
    "    )\n",
    "\n",
    "    training_stats.serialize(f\"{save_dir}/stats.txt\")"
   ]
  }
 ],
 "metadata": {
  "kernelspec": {
   "display_name": "machine_learning",
   "language": "python",
   "name": "python3"
  },
  "language_info": {
   "codemirror_mode": {
    "name": "ipython",
    "version": 3
   },
   "file_extension": ".py",
   "mimetype": "text/x-python",
   "name": "python",
   "nbconvert_exporter": "python",
   "pygments_lexer": "ipython3",
   "version": "3.12.4"
  }
 },
 "nbformat": 4,
 "nbformat_minor": 2
}
